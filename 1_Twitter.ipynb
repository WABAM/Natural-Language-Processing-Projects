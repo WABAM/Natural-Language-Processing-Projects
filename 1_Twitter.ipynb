{
 "cells": [
  {
   "cell_type": "markdown",
   "metadata": {},
   "source": [
    "# 1-Import the usefull libraries"
   ]
  },
  {
   "cell_type": "code",
   "execution_count": 2,
   "metadata": {},
   "outputs": [
    {
     "data": {
      "text/plain": [
       "['Collecting tweepy',\n",
       " '  Downloading tweepy-3.10.0-py2.py3-none-any.whl (30 kB)',\n",
       " 'Collecting requests-oauthlib>=0.7.0',\n",
       " '  Downloading requests_oauthlib-1.3.0-py2.py3-none-any.whl (23 kB)',\n",
       " 'Requirement already satisfied: requests[socks]>=2.11.1 in c:\\\\users\\\\selor\\\\anaconda3\\\\lib\\\\site-packages (from tweepy) (2.24.0)',\n",
       " 'Requirement already satisfied: six>=1.10.0 in c:\\\\users\\\\selor\\\\anaconda3\\\\lib\\\\site-packages (from tweepy) (1.15.0)',\n",
       " 'Collecting oauthlib>=3.0.0',\n",
       " '  Downloading oauthlib-3.1.0-py2.py3-none-any.whl (147 kB)',\n",
       " 'Requirement already satisfied: chardet<4,>=3.0.2 in c:\\\\users\\\\selor\\\\anaconda3\\\\lib\\\\site-packages (from requests[socks]>=2.11.1->tweepy) (3.0.4)',\n",
       " 'Requirement already satisfied: idna<3,>=2.5 in c:\\\\users\\\\selor\\\\anaconda3\\\\lib\\\\site-packages (from requests[socks]>=2.11.1->tweepy) (2.10)',\n",
       " 'Requirement already satisfied: urllib3!=1.25.0,!=1.25.1,<1.26,>=1.21.1 in c:\\\\users\\\\selor\\\\anaconda3\\\\lib\\\\site-packages (from requests[socks]>=2.11.1->tweepy) (1.25.11)',\n",
       " 'Requirement already satisfied: certifi>=2017.4.17 in c:\\\\users\\\\selor\\\\anaconda3\\\\lib\\\\site-packages (from requests[socks]>=2.11.1->tweepy) (2020.6.20)',\n",
       " 'Requirement already satisfied: PySocks!=1.5.7,>=1.5.6; extra == \"socks\" in c:\\\\users\\\\selor\\\\anaconda3\\\\lib\\\\site-packages (from requests[socks]>=2.11.1->tweepy) (1.7.1)',\n",
       " 'Installing collected packages: oauthlib, requests-oauthlib, tweepy',\n",
       " 'Successfully installed oauthlib-3.1.0 requests-oauthlib-1.3.0 tweepy-3.10.0']"
      ]
     },
     "execution_count": 2,
     "metadata": {},
     "output_type": "execute_result"
    }
   ],
   "source": [
    "#if you don't have these library\n",
    "!!pip install tweepy"
   ]
  },
  {
   "cell_type": "code",
   "execution_count": 4,
   "metadata": {},
   "outputs": [],
   "source": [
    "import os\n",
    "import tweepy as tw #library to get and pull data into twitter\n",
    "import pandas as pd"
   ]
  },
  {
   "cell_type": "markdown",
   "metadata": {},
   "source": [
    "# 2- Put your consumer sercet and consumer key in variable"
   ]
  },
  {
   "cell_type": "code",
   "execution_count": 5,
   "metadata": {},
   "outputs": [],
   "source": [
    "consumer_key=\"uPDhYgTIbcThgIKYwldNf6re2\"\n",
    "consumer_secret=\"t4fgRZCPWtz6GcF6OB02yoMdq6MJ5dCRAcuaYzNAOUqXDMz6x8\"\n",
    "access_token=\"1124770716832997376-9TluzoSlYkvcnNeNFlbt5l9lsaQkKR\"\n",
    "access_token_secret=\"7X7JaH10NJnI6VRaqXZzY9BVGaBn4w44JPQZaBqZof507\""
   ]
  },
  {
   "cell_type": "markdown",
   "metadata": {},
   "source": [
    "# 3-Authentication phase"
   ]
  },
  {
   "cell_type": "code",
   "execution_count": 6,
   "metadata": {},
   "outputs": [],
   "source": [
    "auth = tw.OAuthHandler(consumer_key, consumer_secret)\n",
    "auth.set_access_token(access_token, access_token_secret)\n",
    "api = tw.API(auth, wait_on_rate_limit=True)"
   ]
  },
  {
   "cell_type": "markdown",
   "metadata": {},
   "source": [
    "# 4- define you research variables and collect tweets"
   ]
  },
  {
   "cell_type": "code",
   "execution_count": 7,
   "metadata": {},
   "outputs": [],
   "source": [
    "# Define the search term and the date_since date as variables\n",
    "search_words = \"covid vaccine\"\n",
    "date_since = \"2021-05-03\""
   ]
  },
  {
   "cell_type": "markdown",
   "metadata": {},
   "source": [
    "Here we are collection the first 5 twwets with the word covid since october 2020\n",
    "data collected are stored in a python list that we will call covid_twwets"
   ]
  },
  {
   "cell_type": "code",
   "execution_count": 8,
   "metadata": {},
   "outputs": [],
   "source": [
    "# Collect tweets\n",
    "tweets = tw.Cursor(api.search,\n",
    "              q=search_words,\n",
    "              lang=\"en\",\n",
    "              since=date_since).items(5)\n",
    "tweets\n",
    "covid_twwets=[tweet.text for tweet in tweets]"
   ]
  },
  {
   "cell_type": "code",
   "execution_count": 9,
   "metadata": {},
   "outputs": [
    {
     "data": {
      "text/plain": [
       "['RT @rishibagree: 1955 - Polio vaccine Developed in USA\\n1978 - Polio vaccine Administered in India\\n\\nIt took Congress 22 yrs to procure Polio…',\n",
       " 'RT @dhaval241086: PM Cares Summary Till Now:\\n◆2,000 crs for Ventilators\\n◆100 crs for Vaccine Development\\n◆1,000 crs for Migrant Workers\\n◆2…',\n",
       " 'RT @PiyushGoyal: BJP President @JPNadda ji writes to Congress President Sonia Gandhi, showing how in the fight against COVID-19, top echelo…',\n",
       " 'RT @MiamiHerald: Crawfish with a side of ... a COVID vaccine? You can get both free at New Orleans event https://t.co/Vhuxbi11Wh',\n",
       " 'Vaccination in India: India becomes fastest to administer 17 crore vaccine doses\\n@PMOIndia @narendramodi… https://t.co/hl3qGFmlJR']"
      ]
     },
     "execution_count": 9,
     "metadata": {},
     "output_type": "execute_result"
    }
   ],
   "source": [
    "covid_twwets"
   ]
  },
  {
   "cell_type": "markdown",
   "metadata": {},
   "source": [
    "# filter retweets"
   ]
  },
  {
   "cell_type": "code",
   "execution_count": 10,
   "metadata": {},
   "outputs": [],
   "source": [
    "new_search = search_words + \" -filter:retweets\""
   ]
  },
  {
   "cell_type": "code",
   "execution_count": 11,
   "metadata": {},
   "outputs": [],
   "source": [
    "tweets = tw.Cursor(api.search,\n",
    "                       q=new_search,\n",
    "                       lang=\"en\",\n",
    "                       since=date_since).items(5)\n",
    "\n",
    "k_noretweet=[tweet.text for tweet in tweets]"
   ]
  },
  {
   "cell_type": "markdown",
   "metadata": {},
   "source": [
    "# 5-specify the data you whant to retrieve"
   ]
  },
  {
   "cell_type": "raw",
   "metadata": {},
   "source": [
    "ici nous recherchons les tweets ainsi que la localisation des personnes qui ont tweeté et leurs localisation"
   ]
  },
  {
   "cell_type": "code",
   "execution_count": 12,
   "metadata": {},
   "outputs": [],
   "source": [
    "tweets = tw.Cursor(api.search,\n",
    "                       q=new_search,\n",
    "                       lang=\"en\",\n",
    "                       since=date_since).items(5)"
   ]
  },
  {
   "cell_type": "code",
   "execution_count": 13,
   "metadata": {},
   "outputs": [
    {
     "data": {
      "text/html": [
       "<div>\n",
       "<style scoped>\n",
       "    .dataframe tbody tr th:only-of-type {\n",
       "        vertical-align: middle;\n",
       "    }\n",
       "\n",
       "    .dataframe tbody tr th {\n",
       "        vertical-align: top;\n",
       "    }\n",
       "\n",
       "    .dataframe thead th {\n",
       "        text-align: right;\n",
       "    }\n",
       "</style>\n",
       "<table border=\"1\" class=\"dataframe\">\n",
       "  <thead>\n",
       "    <tr style=\"text-align: right;\">\n",
       "      <th></th>\n",
       "      <th>tweets</th>\n",
       "      <th>user</th>\n",
       "      <th>location</th>\n",
       "    </tr>\n",
       "  </thead>\n",
       "  <tbody>\n",
       "    <tr>\n",
       "      <th>0</th>\n",
       "      <td>Vaccination in India: India becomes fastest to...</td>\n",
       "      <td>KetanGondalia99</td>\n",
       "      <td>Bhavnagar,Gujarat, India</td>\n",
       "    </tr>\n",
       "    <tr>\n",
       "      <th>1</th>\n",
       "      <td>In the last 24 hours:\\nMore than 3 Lakh people...</td>\n",
       "      <td>india_narrative</td>\n",
       "      <td>Delhi</td>\n",
       "    </tr>\n",
       "    <tr>\n",
       "      <th>2</th>\n",
       "      <td>8 days after my first covid vaccine shot and i...</td>\n",
       "      <td>ashley_streams</td>\n",
       "      <td></td>\n",
       "    </tr>\n",
       "    <tr>\n",
       "      <th>3</th>\n",
       "      <td>@ianuragthakur He is working so hard , it has ...</td>\n",
       "      <td>AhamadMuneer4</td>\n",
       "      <td>Mumbai</td>\n",
       "    </tr>\n",
       "    <tr>\n",
       "      <th>4</th>\n",
       "      <td>@PIStaker20 @timjhogan @NannerNeff COVID-19 va...</td>\n",
       "      <td>cherylwalters1</td>\n",
       "      <td>Houston, TX</td>\n",
       "    </tr>\n",
       "  </tbody>\n",
       "</table>\n",
       "</div>"
      ],
      "text/plain": [
       "                                              tweets             user  \\\n",
       "0  Vaccination in India: India becomes fastest to...  KetanGondalia99   \n",
       "1  In the last 24 hours:\\nMore than 3 Lakh people...  india_narrative   \n",
       "2  8 days after my first covid vaccine shot and i...   ashley_streams   \n",
       "3  @ianuragthakur He is working so hard , it has ...    AhamadMuneer4   \n",
       "4  @PIStaker20 @timjhogan @NannerNeff COVID-19 va...   cherylwalters1   \n",
       "\n",
       "                   location  \n",
       "0  Bhavnagar,Gujarat, India  \n",
       "1                     Delhi  \n",
       "2                            \n",
       "3                    Mumbai  \n",
       "4               Houston, TX  "
      ]
     },
     "execution_count": 13,
     "metadata": {},
     "output_type": "execute_result"
    }
   ],
   "source": [
    "users_locs = [[tweet.text, tweet.user.screen_name, tweet.user.location] for tweet in tweets]\n",
    "tweet_text = pd.DataFrame(data=users_locs, \n",
    "                    columns=['tweets','user', \"location\"])\n",
    "tweet_text"
   ]
  },
  {
   "cell_type": "code",
   "execution_count": 14,
   "metadata": {},
   "outputs": [
    {
     "data": {
      "text/plain": [
       "[[\"JOHN BERCOW\\n\\n'I voted for Khan'\\n'far and best candidate'\\n'deserved a second term'\\n\\nThe dwarfs hatred for the Conser… https://t.co/TLI18FP2ey\",\n",
       "  'JBainsworthy',\n",
       "  'Essex '],\n",
       " ['@montie @StephenLloydEBN How is winning more seats &amp; another council \"broken\"?\\n\\nThe LDs have hit bottom &amp; you\\'ll se… https://t.co/48vIIp1fdu',\n",
       "  'lunaperla',\n",
       "  'Citizen of the World'],\n",
       " ['@heraldscotland 7 years ago, maybe. Brexit England and Scotland have a very different set of values, hence the tension.',\n",
       "  'TrevorA25230480',\n",
       "  ''],\n",
       " [\"@JamesNathan_333 @Parlez_me_nTory @mo_brexit @StillBattsby They'll soon get 'clued up' when they can't vote without photo ID.\",\n",
       "  'Greybeard162',\n",
       "  'Sleaford, England'],\n",
       " [\"Tory line going into future GE will be something like 'stronger together'- they will claim they deliver-from Brexit… https://t.co/o3Rx6WkQFD\",\n",
       "  'sethnotes',\n",
       "  'Soho/London']]"
      ]
     },
     "execution_count": 14,
     "metadata": {},
     "output_type": "execute_result"
    }
   ],
   "source": [
    "new_search = \"brexit -filter:retweets\"\n",
    "\n",
    "tweets = tw.Cursor(api.search,\n",
    "                   q=new_search,\n",
    "                   lang=\"en\",\n",
    "                   since='2021-05-03').items(500)\n",
    "\n",
    "all_tweets = [[tweet.text,tweet.user.screen_name, tweet.user.location] for tweet in tweets]\n",
    "all_tweets[:5]"
   ]
  },
  {
   "cell_type": "code",
   "execution_count": 15,
   "metadata": {},
   "outputs": [
    {
     "data": {
      "text/html": [
       "<div>\n",
       "<style scoped>\n",
       "    .dataframe tbody tr th:only-of-type {\n",
       "        vertical-align: middle;\n",
       "    }\n",
       "\n",
       "    .dataframe tbody tr th {\n",
       "        vertical-align: top;\n",
       "    }\n",
       "\n",
       "    .dataframe thead th {\n",
       "        text-align: right;\n",
       "    }\n",
       "</style>\n",
       "<table border=\"1\" class=\"dataframe\">\n",
       "  <thead>\n",
       "    <tr style=\"text-align: right;\">\n",
       "      <th></th>\n",
       "      <th>text</th>\n",
       "      <th>user</th>\n",
       "      <th>location</th>\n",
       "    </tr>\n",
       "  </thead>\n",
       "  <tbody>\n",
       "    <tr>\n",
       "      <th>0</th>\n",
       "      <td>JOHN BERCOW\\n\\n'I voted for Khan'\\n'far and be...</td>\n",
       "      <td>JBainsworthy</td>\n",
       "      <td>Essex</td>\n",
       "    </tr>\n",
       "    <tr>\n",
       "      <th>1</th>\n",
       "      <td>@montie @StephenLloydEBN How is winning more s...</td>\n",
       "      <td>lunaperla</td>\n",
       "      <td>Citizen of the World</td>\n",
       "    </tr>\n",
       "    <tr>\n",
       "      <th>2</th>\n",
       "      <td>@heraldscotland 7 years ago, maybe. Brexit Eng...</td>\n",
       "      <td>TrevorA25230480</td>\n",
       "      <td></td>\n",
       "    </tr>\n",
       "    <tr>\n",
       "      <th>3</th>\n",
       "      <td>@JamesNathan_333 @Parlez_me_nTory @mo_brexit @...</td>\n",
       "      <td>Greybeard162</td>\n",
       "      <td>Sleaford, England</td>\n",
       "    </tr>\n",
       "    <tr>\n",
       "      <th>4</th>\n",
       "      <td>Tory line going into future GE will be somethi...</td>\n",
       "      <td>sethnotes</td>\n",
       "      <td>Soho/London</td>\n",
       "    </tr>\n",
       "    <tr>\n",
       "      <th>...</th>\n",
       "      <td>...</td>\n",
       "      <td>...</td>\n",
       "      <td>...</td>\n",
       "    </tr>\n",
       "    <tr>\n",
       "      <th>495</th>\n",
       "      <td>@Fooch1993 Yes . Let’s have a second Brexit re...</td>\n",
       "      <td>HazelRo33428543</td>\n",
       "      <td></td>\n",
       "    </tr>\n",
       "    <tr>\n",
       "      <th>496</th>\n",
       "      <td>@Stroppycow I think the online shop had a Brex...</td>\n",
       "      <td>liz545</td>\n",
       "      <td></td>\n",
       "    </tr>\n",
       "    <tr>\n",
       "      <th>497</th>\n",
       "      <td>. @VDombrovskis \"We are committed to avoid any...</td>\n",
       "      <td>emanuelebonini</td>\n",
       "      <td>Brussels, Belgium</td>\n",
       "    </tr>\n",
       "    <tr>\n",
       "      <th>498</th>\n",
       "      <td>@AndyInBanstead @GBNEWS That’s pretty patronis...</td>\n",
       "      <td>BillyNineLives</td>\n",
       "      <td></td>\n",
       "    </tr>\n",
       "    <tr>\n",
       "      <th>499</th>\n",
       "      <td>@Tim_Burgess Great to see @simonemarie4 quoted...</td>\n",
       "      <td>ebronyr2</td>\n",
       "      <td></td>\n",
       "    </tr>\n",
       "  </tbody>\n",
       "</table>\n",
       "<p>500 rows × 3 columns</p>\n",
       "</div>"
      ],
      "text/plain": [
       "                                                  text             user  \\\n",
       "0    JOHN BERCOW\\n\\n'I voted for Khan'\\n'far and be...     JBainsworthy   \n",
       "1    @montie @StephenLloydEBN How is winning more s...        lunaperla   \n",
       "2    @heraldscotland 7 years ago, maybe. Brexit Eng...  TrevorA25230480   \n",
       "3    @JamesNathan_333 @Parlez_me_nTory @mo_brexit @...     Greybeard162   \n",
       "4    Tory line going into future GE will be somethi...        sethnotes   \n",
       "..                                                 ...              ...   \n",
       "495  @Fooch1993 Yes . Let’s have a second Brexit re...  HazelRo33428543   \n",
       "496  @Stroppycow I think the online shop had a Brex...           liz545   \n",
       "497  . @VDombrovskis \"We are committed to avoid any...   emanuelebonini   \n",
       "498  @AndyInBanstead @GBNEWS That’s pretty patronis...   BillyNineLives   \n",
       "499  @Tim_Burgess Great to see @simonemarie4 quoted...         ebronyr2   \n",
       "\n",
       "                 location  \n",
       "0                  Essex   \n",
       "1    Citizen of the World  \n",
       "2                          \n",
       "3       Sleaford, England  \n",
       "4             Soho/London  \n",
       "..                    ...  \n",
       "495                        \n",
       "496                        \n",
       "497     Brussels, Belgium  \n",
       "498                        \n",
       "499                        \n",
       "\n",
       "[500 rows x 3 columns]"
      ]
     },
     "execution_count": 15,
     "metadata": {},
     "output_type": "execute_result"
    }
   ],
   "source": [
    "data = pd.DataFrame(data=all_tweets, \n",
    "                    columns=['text','user', \"location\"])\n",
    "data"
   ]
  },
  {
   "cell_type": "code",
   "execution_count": 16,
   "metadata": {},
   "outputs": [],
   "source": [
    "data.to_csv(\"brexit.csv\")"
   ]
  },
  {
   "cell_type": "code",
   "execution_count": null,
   "metadata": {},
   "outputs": [],
   "source": []
  }
 ],
 "metadata": {
  "kernelspec": {
   "display_name": "Python 3",
   "language": "python",
   "name": "python3"
  },
  "language_info": {
   "codemirror_mode": {
    "name": "ipython",
    "version": 3
   },
   "file_extension": ".py",
   "mimetype": "text/x-python",
   "name": "python",
   "nbconvert_exporter": "python",
   "pygments_lexer": "ipython3",
   "version": "3.8.5"
  }
 },
 "nbformat": 4,
 "nbformat_minor": 4
}
