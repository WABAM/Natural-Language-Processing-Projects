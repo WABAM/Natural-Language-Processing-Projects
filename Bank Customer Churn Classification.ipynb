{
 "cells": [
  {
   "cell_type": "markdown",
   "metadata": {},
   "source": [
    "## Bank Customer's Churn Classification\n",
    "Classifying bank customers based on their previous bank activities, that they will exit/leave the bank or not"
   ]
  },
  {
   "cell_type": "code",
   "execution_count": 1,
   "metadata": {},
   "outputs": [],
   "source": [
    "# Importing essential libraries\n",
    "import numpy as np\n",
    "import pandas as pd"
   ]
  },
  {
   "cell_type": "code",
   "execution_count": 2,
   "metadata": {},
   "outputs": [],
   "source": [
    "import tensorflow as tf"
   ]
  },
  {
   "cell_type": "code",
   "execution_count": 3,
   "metadata": {},
   "outputs": [
    {
     "data": {
      "text/plain": [
       "'2.6.0'"
      ]
     },
     "execution_count": 3,
     "metadata": {},
     "output_type": "execute_result"
    }
   ],
   "source": [
    "tf.__version__"
   ]
  },
  {
   "cell_type": "code",
   "execution_count": 31,
   "metadata": {},
   "outputs": [
    {
     "data": {
      "text/html": [
       "<div>\n",
       "<style scoped>\n",
       "    .dataframe tbody tr th:only-of-type {\n",
       "        vertical-align: middle;\n",
       "    }\n",
       "\n",
       "    .dataframe tbody tr th {\n",
       "        vertical-align: top;\n",
       "    }\n",
       "\n",
       "    .dataframe thead th {\n",
       "        text-align: right;\n",
       "    }\n",
       "</style>\n",
       "<table border=\"1\" class=\"dataframe\">\n",
       "  <thead>\n",
       "    <tr style=\"text-align: right;\">\n",
       "      <th></th>\n",
       "      <th>RowNumber</th>\n",
       "      <th>CustomerId</th>\n",
       "      <th>Surname</th>\n",
       "      <th>CreditScore</th>\n",
       "      <th>Geography</th>\n",
       "      <th>Gender</th>\n",
       "      <th>Age</th>\n",
       "      <th>Tenure</th>\n",
       "      <th>Balance</th>\n",
       "      <th>NumOfProducts</th>\n",
       "      <th>HasCrCard</th>\n",
       "      <th>IsActiveMember</th>\n",
       "      <th>EstimatedSalary</th>\n",
       "      <th>Exited</th>\n",
       "    </tr>\n",
       "  </thead>\n",
       "  <tbody>\n",
       "    <tr>\n",
       "      <th>0</th>\n",
       "      <td>1</td>\n",
       "      <td>15634602</td>\n",
       "      <td>Hargrave</td>\n",
       "      <td>619</td>\n",
       "      <td>France</td>\n",
       "      <td>Female</td>\n",
       "      <td>42</td>\n",
       "      <td>2</td>\n",
       "      <td>0.00</td>\n",
       "      <td>1</td>\n",
       "      <td>1</td>\n",
       "      <td>1</td>\n",
       "      <td>101348.88</td>\n",
       "      <td>1</td>\n",
       "    </tr>\n",
       "    <tr>\n",
       "      <th>1</th>\n",
       "      <td>2</td>\n",
       "      <td>15647311</td>\n",
       "      <td>Hill</td>\n",
       "      <td>608</td>\n",
       "      <td>Spain</td>\n",
       "      <td>Female</td>\n",
       "      <td>41</td>\n",
       "      <td>1</td>\n",
       "      <td>83807.86</td>\n",
       "      <td>1</td>\n",
       "      <td>0</td>\n",
       "      <td>1</td>\n",
       "      <td>112542.58</td>\n",
       "      <td>0</td>\n",
       "    </tr>\n",
       "    <tr>\n",
       "      <th>2</th>\n",
       "      <td>3</td>\n",
       "      <td>15619304</td>\n",
       "      <td>Onio</td>\n",
       "      <td>502</td>\n",
       "      <td>France</td>\n",
       "      <td>Female</td>\n",
       "      <td>42</td>\n",
       "      <td>8</td>\n",
       "      <td>159660.80</td>\n",
       "      <td>3</td>\n",
       "      <td>1</td>\n",
       "      <td>0</td>\n",
       "      <td>113931.57</td>\n",
       "      <td>1</td>\n",
       "    </tr>\n",
       "    <tr>\n",
       "      <th>3</th>\n",
       "      <td>4</td>\n",
       "      <td>15701354</td>\n",
       "      <td>Boni</td>\n",
       "      <td>699</td>\n",
       "      <td>France</td>\n",
       "      <td>Female</td>\n",
       "      <td>39</td>\n",
       "      <td>1</td>\n",
       "      <td>0.00</td>\n",
       "      <td>2</td>\n",
       "      <td>0</td>\n",
       "      <td>0</td>\n",
       "      <td>93826.63</td>\n",
       "      <td>0</td>\n",
       "    </tr>\n",
       "    <tr>\n",
       "      <th>4</th>\n",
       "      <td>5</td>\n",
       "      <td>15737888</td>\n",
       "      <td>Mitchell</td>\n",
       "      <td>850</td>\n",
       "      <td>Spain</td>\n",
       "      <td>Female</td>\n",
       "      <td>43</td>\n",
       "      <td>2</td>\n",
       "      <td>125510.82</td>\n",
       "      <td>1</td>\n",
       "      <td>1</td>\n",
       "      <td>1</td>\n",
       "      <td>79084.10</td>\n",
       "      <td>0</td>\n",
       "    </tr>\n",
       "    <tr>\n",
       "      <th>...</th>\n",
       "      <td>...</td>\n",
       "      <td>...</td>\n",
       "      <td>...</td>\n",
       "      <td>...</td>\n",
       "      <td>...</td>\n",
       "      <td>...</td>\n",
       "      <td>...</td>\n",
       "      <td>...</td>\n",
       "      <td>...</td>\n",
       "      <td>...</td>\n",
       "      <td>...</td>\n",
       "      <td>...</td>\n",
       "      <td>...</td>\n",
       "      <td>...</td>\n",
       "    </tr>\n",
       "    <tr>\n",
       "      <th>9995</th>\n",
       "      <td>9996</td>\n",
       "      <td>15606229</td>\n",
       "      <td>Obijiaku</td>\n",
       "      <td>771</td>\n",
       "      <td>France</td>\n",
       "      <td>Male</td>\n",
       "      <td>39</td>\n",
       "      <td>5</td>\n",
       "      <td>0.00</td>\n",
       "      <td>2</td>\n",
       "      <td>1</td>\n",
       "      <td>0</td>\n",
       "      <td>96270.64</td>\n",
       "      <td>0</td>\n",
       "    </tr>\n",
       "    <tr>\n",
       "      <th>9996</th>\n",
       "      <td>9997</td>\n",
       "      <td>15569892</td>\n",
       "      <td>Johnstone</td>\n",
       "      <td>516</td>\n",
       "      <td>France</td>\n",
       "      <td>Male</td>\n",
       "      <td>35</td>\n",
       "      <td>10</td>\n",
       "      <td>57369.61</td>\n",
       "      <td>1</td>\n",
       "      <td>1</td>\n",
       "      <td>1</td>\n",
       "      <td>101699.77</td>\n",
       "      <td>0</td>\n",
       "    </tr>\n",
       "    <tr>\n",
       "      <th>9997</th>\n",
       "      <td>9998</td>\n",
       "      <td>15584532</td>\n",
       "      <td>Liu</td>\n",
       "      <td>709</td>\n",
       "      <td>France</td>\n",
       "      <td>Female</td>\n",
       "      <td>36</td>\n",
       "      <td>7</td>\n",
       "      <td>0.00</td>\n",
       "      <td>1</td>\n",
       "      <td>0</td>\n",
       "      <td>1</td>\n",
       "      <td>42085.58</td>\n",
       "      <td>1</td>\n",
       "    </tr>\n",
       "    <tr>\n",
       "      <th>9998</th>\n",
       "      <td>9999</td>\n",
       "      <td>15682355</td>\n",
       "      <td>Sabbatini</td>\n",
       "      <td>772</td>\n",
       "      <td>Germany</td>\n",
       "      <td>Male</td>\n",
       "      <td>42</td>\n",
       "      <td>3</td>\n",
       "      <td>75075.31</td>\n",
       "      <td>2</td>\n",
       "      <td>1</td>\n",
       "      <td>0</td>\n",
       "      <td>92888.52</td>\n",
       "      <td>1</td>\n",
       "    </tr>\n",
       "    <tr>\n",
       "      <th>9999</th>\n",
       "      <td>10000</td>\n",
       "      <td>15628319</td>\n",
       "      <td>Walker</td>\n",
       "      <td>792</td>\n",
       "      <td>France</td>\n",
       "      <td>Female</td>\n",
       "      <td>28</td>\n",
       "      <td>4</td>\n",
       "      <td>130142.79</td>\n",
       "      <td>1</td>\n",
       "      <td>1</td>\n",
       "      <td>0</td>\n",
       "      <td>38190.78</td>\n",
       "      <td>0</td>\n",
       "    </tr>\n",
       "  </tbody>\n",
       "</table>\n",
       "<p>10000 rows × 14 columns</p>\n",
       "</div>"
      ],
      "text/plain": [
       "      RowNumber  CustomerId    Surname  CreditScore Geography  Gender  Age  \\\n",
       "0             1    15634602   Hargrave          619    France  Female   42   \n",
       "1             2    15647311       Hill          608     Spain  Female   41   \n",
       "2             3    15619304       Onio          502    France  Female   42   \n",
       "3             4    15701354       Boni          699    France  Female   39   \n",
       "4             5    15737888   Mitchell          850     Spain  Female   43   \n",
       "...         ...         ...        ...          ...       ...     ...  ...   \n",
       "9995       9996    15606229   Obijiaku          771    France    Male   39   \n",
       "9996       9997    15569892  Johnstone          516    France    Male   35   \n",
       "9997       9998    15584532        Liu          709    France  Female   36   \n",
       "9998       9999    15682355  Sabbatini          772   Germany    Male   42   \n",
       "9999      10000    15628319     Walker          792    France  Female   28   \n",
       "\n",
       "      Tenure    Balance  NumOfProducts  HasCrCard  IsActiveMember  \\\n",
       "0          2       0.00              1          1               1   \n",
       "1          1   83807.86              1          0               1   \n",
       "2          8  159660.80              3          1               0   \n",
       "3          1       0.00              2          0               0   \n",
       "4          2  125510.82              1          1               1   \n",
       "...      ...        ...            ...        ...             ...   \n",
       "9995       5       0.00              2          1               0   \n",
       "9996      10   57369.61              1          1               1   \n",
       "9997       7       0.00              1          0               1   \n",
       "9998       3   75075.31              2          1               0   \n",
       "9999       4  130142.79              1          1               0   \n",
       "\n",
       "      EstimatedSalary  Exited  \n",
       "0           101348.88       1  \n",
       "1           112542.58       0  \n",
       "2           113931.57       1  \n",
       "3            93826.63       0  \n",
       "4            79084.10       0  \n",
       "...               ...     ...  \n",
       "9995         96270.64       0  \n",
       "9996        101699.77       0  \n",
       "9997         42085.58       1  \n",
       "9998         92888.52       1  \n",
       "9999         38190.78       0  \n",
       "\n",
       "[10000 rows x 14 columns]"
      ]
     },
     "execution_count": 31,
     "metadata": {},
     "output_type": "execute_result"
    }
   ],
   "source": [
    "df = pd.read_csv('Churn_Modelling.csv') ## Loading the dataset\n",
    "df"
   ]
  },
  {
   "cell_type": "markdown",
   "metadata": {},
   "source": [
    "## Exploring the dataset"
   ]
  },
  {
   "cell_type": "code",
   "execution_count": 32,
   "metadata": {},
   "outputs": [
    {
     "data": {
      "text/plain": [
       "(10000, 14)"
      ]
     },
     "execution_count": 32,
     "metadata": {},
     "output_type": "execute_result"
    }
   ],
   "source": [
    "df.shape"
   ]
  },
  {
   "cell_type": "code",
   "execution_count": 33,
   "metadata": {},
   "outputs": [
    {
     "data": {
      "text/plain": [
       "Index(['RowNumber', 'CustomerId', 'Surname', 'CreditScore', 'Geography',\n",
       "       'Gender', 'Age', 'Tenure', 'Balance', 'NumOfProducts', 'HasCrCard',\n",
       "       'IsActiveMember', 'EstimatedSalary', 'Exited'],\n",
       "      dtype='object')"
      ]
     },
     "execution_count": 33,
     "metadata": {},
     "output_type": "execute_result"
    }
   ],
   "source": [
    "df.columns"
   ]
  },
  {
   "cell_type": "code",
   "execution_count": 34,
   "metadata": {},
   "outputs": [
    {
     "data": {
      "text/plain": [
       "RowNumber            int64\n",
       "CustomerId           int64\n",
       "Surname             object\n",
       "CreditScore          int64\n",
       "Geography           object\n",
       "Gender              object\n",
       "Age                  int64\n",
       "Tenure               int64\n",
       "Balance            float64\n",
       "NumOfProducts        int64\n",
       "HasCrCard            int64\n",
       "IsActiveMember       int64\n",
       "EstimatedSalary    float64\n",
       "Exited               int64\n",
       "dtype: object"
      ]
     },
     "execution_count": 34,
     "metadata": {},
     "output_type": "execute_result"
    }
   ],
   "source": [
    "df.dtypes"
   ]
  },
  {
   "cell_type": "code",
   "execution_count": 35,
   "metadata": {},
   "outputs": [],
   "source": [
    "# Importing essential libraries for visualizations\n",
    "import matplotlib.pyplot as plt\n",
    "import seaborn as sns\n",
    "%matplotlib inline"
   ]
  },
  {
   "cell_type": "code",
   "execution_count": 36,
   "metadata": {},
   "outputs": [
    {
     "data": {
      "image/png": "[encoded data removed]",
      "text/plain": [
       "<Figure size 432x432 with 1 Axes>"
      ]
     },
     "metadata": {
      "needs_background": "light"
     },
     "output_type": "display_data"
    }
   ],
   "source": [
    "# Visualizing the count of 'exited customers' in the dataset\n",
    "plt.figure(figsize=(6,6))\n",
    "sns.countplot(x='Exited', data=df)\n",
    "plt.xlabel('0: Customers still with the bank, 1: Customers exited the bank')\n",
    "plt.ylabel('Count')\n",
    "plt.title('Bank Customers Churn Visualization')\n",
    "plt.show()"
   ]
  },
  {
   "cell_type": "code",
   "execution_count": 37,
   "metadata": {},
   "outputs": [
    {
     "data": {
      "text/plain": [
       "RowNumber          0\n",
       "CustomerId         0\n",
       "Surname            0\n",
       "CreditScore        0\n",
       "Geography          0\n",
       "Gender             0\n",
       "Age                0\n",
       "Tenure             0\n",
       "Balance            0\n",
       "NumOfProducts      0\n",
       "HasCrCard          0\n",
       "IsActiveMember     0\n",
       "EstimatedSalary    0\n",
       "Exited             0\n",
       "dtype: int64"
      ]
     },
     "execution_count": 37,
     "metadata": {},
     "output_type": "execute_result"
    }
   ],
   "source": [
    "df.isna().sum()"
   ]
  },
  {
   "cell_type": "code",
   "execution_count": 38,
   "metadata": {},
   "outputs": [
    {
     "data": {
      "text/plain": [
       "Index(['CreditScore', 'Geography', 'Gender', 'Age', 'Tenure', 'Balance',\n",
       "       'NumOfProducts', 'HasCrCard', 'IsActiveMember', 'EstimatedSalary',\n",
       "       'Exited'],\n",
       "      dtype='object')"
      ]
     },
     "execution_count": 38,
     "metadata": {},
     "output_type": "execute_result"
    }
   ],
   "source": [
    "df.drop(['RowNumber','CustomerId','Surname'], axis=1, inplace=True)\n",
    "df.columns"
   ]
  },
  {
   "cell_type": "markdown",
   "metadata": {},
   "source": [
    "## Feature Engineering\n",
    "Converting categorical features into numerical features using get_dummies()"
   ]
  },
  {
   "cell_type": "code",
   "execution_count": 39,
   "metadata": {},
   "outputs": [],
   "source": [
    "# Converting 'Geography' and 'Gender' column\n",
    "geography = pd.get_dummies(df['Geography'], drop_first=True)\n",
    "gender = pd.get_dummies(df['Gender'], drop_first=True)"
   ]
  },
  {
   "cell_type": "code",
   "execution_count": 40,
   "metadata": {},
   "outputs": [
    {
     "data": {
      "text/plain": [
       "Index(['CreditScore', 'Geography', 'Gender', 'Age', 'Tenure', 'Balance',\n",
       "       'NumOfProducts', 'HasCrCard', 'IsActiveMember', 'EstimatedSalary',\n",
       "       'Exited', 'Germany', 'Spain', 'Male'],\n",
       "      dtype='object')"
      ]
     },
     "execution_count": 40,
     "metadata": {},
     "output_type": "execute_result"
    }
   ],
   "source": [
    "# Appending columns to original dataframe\n",
    "df = pd.concat([df, geography, gender], axis=1)\n",
    "df.columns"
   ]
  },
  {
   "cell_type": "code",
   "execution_count": 41,
   "metadata": {},
   "outputs": [
    {
     "data": {
      "text/html": [
       "<div>\n",
       "<style scoped>\n",
       "    .dataframe tbody tr th:only-of-type {\n",
       "        vertical-align: middle;\n",
       "    }\n",
       "\n",
       "    .dataframe tbody tr th {\n",
       "        vertical-align: top;\n",
       "    }\n",
       "\n",
       "    .dataframe thead th {\n",
       "        text-align: right;\n",
       "    }\n",
       "</style>\n",
       "<table border=\"1\" class=\"dataframe\">\n",
       "  <thead>\n",
       "    <tr style=\"text-align: right;\">\n",
       "      <th></th>\n",
       "      <th>CreditScore</th>\n",
       "      <th>Age</th>\n",
       "      <th>Tenure</th>\n",
       "      <th>Balance</th>\n",
       "      <th>NumOfProducts</th>\n",
       "      <th>HasCrCard</th>\n",
       "      <th>IsActiveMember</th>\n",
       "      <th>EstimatedSalary</th>\n",
       "      <th>Exited</th>\n",
       "      <th>Germany</th>\n",
       "      <th>Spain</th>\n",
       "      <th>Male</th>\n",
       "    </tr>\n",
       "  </thead>\n",
       "  <tbody>\n",
       "    <tr>\n",
       "      <th>0</th>\n",
       "      <td>619</td>\n",
       "      <td>42</td>\n",
       "      <td>2</td>\n",
       "      <td>0.00</td>\n",
       "      <td>1</td>\n",
       "      <td>1</td>\n",
       "      <td>1</td>\n",
       "      <td>101348.88</td>\n",
       "      <td>1</td>\n",
       "      <td>0</td>\n",
       "      <td>0</td>\n",
       "      <td>0</td>\n",
       "    </tr>\n",
       "    <tr>\n",
       "      <th>1</th>\n",
       "      <td>608</td>\n",
       "      <td>41</td>\n",
       "      <td>1</td>\n",
       "      <td>83807.86</td>\n",
       "      <td>1</td>\n",
       "      <td>0</td>\n",
       "      <td>1</td>\n",
       "      <td>112542.58</td>\n",
       "      <td>0</td>\n",
       "      <td>0</td>\n",
       "      <td>1</td>\n",
       "      <td>0</td>\n",
       "    </tr>\n",
       "    <tr>\n",
       "      <th>2</th>\n",
       "      <td>502</td>\n",
       "      <td>42</td>\n",
       "      <td>8</td>\n",
       "      <td>159660.80</td>\n",
       "      <td>3</td>\n",
       "      <td>1</td>\n",
       "      <td>0</td>\n",
       "      <td>113931.57</td>\n",
       "      <td>1</td>\n",
       "      <td>0</td>\n",
       "      <td>0</td>\n",
       "      <td>0</td>\n",
       "    </tr>\n",
       "    <tr>\n",
       "      <th>3</th>\n",
       "      <td>699</td>\n",
       "      <td>39</td>\n",
       "      <td>1</td>\n",
       "      <td>0.00</td>\n",
       "      <td>2</td>\n",
       "      <td>0</td>\n",
       "      <td>0</td>\n",
       "      <td>93826.63</td>\n",
       "      <td>0</td>\n",
       "      <td>0</td>\n",
       "      <td>0</td>\n",
       "      <td>0</td>\n",
       "    </tr>\n",
       "    <tr>\n",
       "      <th>4</th>\n",
       "      <td>850</td>\n",
       "      <td>43</td>\n",
       "      <td>2</td>\n",
       "      <td>125510.82</td>\n",
       "      <td>1</td>\n",
       "      <td>1</td>\n",
       "      <td>1</td>\n",
       "      <td>79084.10</td>\n",
       "      <td>0</td>\n",
       "      <td>0</td>\n",
       "      <td>1</td>\n",
       "      <td>0</td>\n",
       "    </tr>\n",
       "  </tbody>\n",
       "</table>\n",
       "</div>"
      ],
      "text/plain": [
       "   CreditScore  Age  Tenure    Balance  NumOfProducts  HasCrCard  \\\n",
       "0          619   42       2       0.00              1          1   \n",
       "1          608   41       1   83807.86              1          0   \n",
       "2          502   42       8  159660.80              3          1   \n",
       "3          699   39       1       0.00              2          0   \n",
       "4          850   43       2  125510.82              1          1   \n",
       "\n",
       "   IsActiveMember  EstimatedSalary  Exited  Germany  Spain  Male  \n",
       "0               1        101348.88       1        0      0     0  \n",
       "1               1        112542.58       0        0      1     0  \n",
       "2               0        113931.57       1        0      0     0  \n",
       "3               0         93826.63       0        0      0     0  \n",
       "4               1         79084.10       0        0      1     0  "
      ]
     },
     "execution_count": 41,
     "metadata": {},
     "output_type": "execute_result"
    }
   ],
   "source": [
    "df.drop(['Geography', 'Gender'], axis=1, inplace=True)\n",
    "df.head()"
   ]
  },
  {
   "cell_type": "markdown",
   "metadata": {},
   "source": [
    "## Data Preprocessing\n",
    "• Split the dataset into independent features (ie: X) and label (ie: y).\n",
    "\n",
    "• Split the dataset further into train and test sets.\n",
    "\n",
    "• Apply feature scaling to train and test sets of independent features."
   ]
  },
  {
   "cell_type": "code",
   "execution_count": 42,
   "metadata": {},
   "outputs": [],
   "source": [
    "X = df.drop('Exited', axis=1)\n",
    "y = df['Exited']"
   ]
  },
  {
   "cell_type": "code",
   "execution_count": 43,
   "metadata": {},
   "outputs": [
    {
     "name": "stdout",
     "output_type": "stream",
     "text": [
      "X_train size: (8000, 11), X_test size: (2000, 11)\n"
     ]
    }
   ],
   "source": [
    "# Splitting the dataset into train and test sets.\n",
    "from sklearn.model_selection import train_test_split\n",
    "X_train, X_test, y_train, y_test = train_test_split(X, y, test_size=0.20, random_state=0)\n",
    "print('X_train size: {}, X_test size: {}'.format(X_train.shape, X_test.shape))"
   ]
  },
  {
   "cell_type": "code",
   "execution_count": 44,
   "metadata": {},
   "outputs": [],
   "source": [
    "# Feature Scaling\n",
    "from sklearn.preprocessing import StandardScaler\n",
    "sc = StandardScaler()\n",
    "X_train = sc.fit_transform(X_train)\n",
    "X_test = sc.transform(X_test)"
   ]
  },
  {
   "cell_type": "markdown",
   "metadata": {},
   "source": [
    "## Building Artificial Neural Network (ANN)"
   ]
  },
  {
   "cell_type": "code",
   "execution_count": 45,
   "metadata": {},
   "outputs": [],
   "source": [
    "# Importing the Keras libraries and packages\n",
    "import keras\n",
    "from keras.models import Sequential\n",
    "from keras.layers import Dense"
   ]
  },
  {
   "cell_type": "code",
   "execution_count": 46,
   "metadata": {},
   "outputs": [],
   "source": [
    "# Initialising the ANN\n",
    "ann = tf.keras.models.Sequential()"
   ]
  },
  {
   "cell_type": "code",
   "execution_count": 47,
   "metadata": {},
   "outputs": [],
   "source": [
    "# Adding the input layer and the first hidden layer\n",
    "ann.add(tf.keras.layers.Dense(units=6, kernel_initializer='he_uniform', activation='relu', input_dim=11))\n"
   ]
  },
  {
   "cell_type": "code",
   "execution_count": 49,
   "metadata": {},
   "outputs": [],
   "source": [
    "# Adding the second hidden layer\n",
    "ann.add(tf.keras.layers.Dense(units=6, kernel_initializer='he_uniform', activation='relu'))"
   ]
  },
  {
   "cell_type": "code",
   "execution_count": 50,
   "metadata": {},
   "outputs": [],
   "source": [
    "# Adding the output layer\n",
    "ann.add(tf.keras.layers.Dense(units=1, kernel_initializer='glorot_uniform', activation='sigmoid'))"
   ]
  },
  {
   "cell_type": "markdown",
   "metadata": {},
   "source": [
    "## Training the ANN"
   ]
  },
  {
   "cell_type": "code",
   "execution_count": 51,
   "metadata": {},
   "outputs": [],
   "source": [
    "# Compiling the ANN\n",
    "ann.compile(optimizer = 'adam', loss = 'binary_crossentropy', metrics = ['accuracy'])"
   ]
  },
  {
   "cell_type": "code",
   "execution_count": 52,
   "metadata": {},
   "outputs": [
    {
     "name": "stdout",
     "output_type": "stream",
     "text": [
      "Epoch 1/100\n",
      "536/536 [==============================] - 34s 50ms/step - loss: 0.5657 - accuracy: 0.7356 - val_loss: 0.4923 - val_accuracy: 0.7955\n",
      "Epoch 2/100\n",
      "536/536 [==============================] - 26s 48ms/step - loss: 0.4682 - accuracy: 0.7975 - val_loss: 0.4550 - val_accuracy: 0.8008\n",
      "Epoch 3/100\n",
      "536/536 [==============================] - 23s 43ms/step - loss: 0.4427 - accuracy: 0.8041 - val_loss: 0.4398 - val_accuracy: 0.8099\n",
      "Epoch 4/100\n",
      "536/536 [==============================] - 26s 49ms/step - loss: 0.4296 - accuracy: 0.8153 - val_loss: 0.4312 - val_accuracy: 0.8156\n",
      "Epoch 5/100\n",
      "536/536 [==============================] - 26s 48ms/step - loss: 0.4196 - accuracy: 0.8252 - val_loss: 0.4269 - val_accuracy: 0.8167\n",
      "Epoch 6/100\n",
      "536/536 [==============================] - 25s 47ms/step - loss: 0.4139 - accuracy: 0.8276 - val_loss: 0.4238 - val_accuracy: 0.8213\n",
      "Epoch 7/100\n",
      "536/536 [==============================] - 25s 47ms/step - loss: 0.4097 - accuracy: 0.8319 - val_loss: 0.4220 - val_accuracy: 0.8205\n",
      "Epoch 8/100\n",
      "536/536 [==============================] - 25s 47ms/step - loss: 0.4062 - accuracy: 0.8334 - val_loss: 0.4204 - val_accuracy: 0.8232\n",
      "Epoch 9/100\n",
      "536/536 [==============================] - 25s 47ms/step - loss: 0.4044 - accuracy: 0.8337 - val_loss: 0.4192 - val_accuracy: 0.8201\n",
      "Epoch 10/100\n",
      "536/536 [==============================] - 26s 48ms/step - loss: 0.4024 - accuracy: 0.8356 - val_loss: 0.4194 - val_accuracy: 0.8262\n",
      "Epoch 11/100\n",
      "536/536 [==============================] - 25s 47ms/step - loss: 0.4011 - accuracy: 0.8350 - val_loss: 0.4148 - val_accuracy: 0.8209\n",
      "Epoch 12/100\n",
      "536/536 [==============================] - 25s 47ms/step - loss: 0.4001 - accuracy: 0.8350 - val_loss: 0.4143 - val_accuracy: 0.8213\n",
      "Epoch 13/100\n",
      "536/536 [==============================] - 27s 50ms/step - loss: 0.3986 - accuracy: 0.8384 - val_loss: 0.4134 - val_accuracy: 0.8296\n",
      "Epoch 14/100\n",
      "536/536 [==============================] - 25s 47ms/step - loss: 0.3983 - accuracy: 0.8367 - val_loss: 0.4117 - val_accuracy: 0.8270\n",
      "Epoch 15/100\n",
      "536/536 [==============================] - 26s 48ms/step - loss: 0.3972 - accuracy: 0.8388 - val_loss: 0.4114 - val_accuracy: 0.8266\n",
      "Epoch 16/100\n",
      "536/536 [==============================] - 25s 47ms/step - loss: 0.3956 - accuracy: 0.8364 - val_loss: 0.4123 - val_accuracy: 0.8243\n",
      "Epoch 17/100\n",
      "536/536 [==============================] - 25s 47ms/step - loss: 0.3952 - accuracy: 0.8378 - val_loss: 0.4111 - val_accuracy: 0.8254\n",
      "Epoch 18/100\n",
      "536/536 [==============================] - 25s 47ms/step - loss: 0.3944 - accuracy: 0.8373 - val_loss: 0.4099 - val_accuracy: 0.8273\n",
      "Epoch 19/100\n",
      "536/536 [==============================] - 25s 47ms/step - loss: 0.3931 - accuracy: 0.8378 - val_loss: 0.4094 - val_accuracy: 0.8304\n",
      "Epoch 20/100\n",
      "536/536 [==============================] - 25s 47ms/step - loss: 0.3916 - accuracy: 0.8373 - val_loss: 0.4087 - val_accuracy: 0.8300\n",
      "Epoch 21/100\n",
      "536/536 [==============================] - 26s 48ms/step - loss: 0.3895 - accuracy: 0.8378 - val_loss: 0.4062 - val_accuracy: 0.8285\n",
      "Epoch 22/100\n",
      "536/536 [==============================] - 25s 47ms/step - loss: 0.3875 - accuracy: 0.8388 - val_loss: 0.4035 - val_accuracy: 0.8289\n",
      "Epoch 23/100\n",
      "536/536 [==============================] - 25s 47ms/step - loss: 0.3839 - accuracy: 0.8429 - val_loss: 0.3992 - val_accuracy: 0.8315\n",
      "Epoch 24/100\n",
      "536/536 [==============================] - 25s 47ms/step - loss: 0.3801 - accuracy: 0.8440 - val_loss: 0.3932 - val_accuracy: 0.8349\n",
      "Epoch 25/100\n",
      "536/536 [==============================] - 25s 47ms/step - loss: 0.3728 - accuracy: 0.8500 - val_loss: 0.3834 - val_accuracy: 0.8387\n",
      "Epoch 26/100\n",
      "536/536 [==============================] - 25s 47ms/step - loss: 0.3631 - accuracy: 0.8535 - val_loss: 0.3758 - val_accuracy: 0.8436\n",
      "Epoch 27/100\n",
      "536/536 [==============================] - 25s 47ms/step - loss: 0.3540 - accuracy: 0.8565 - val_loss: 0.3680 - val_accuracy: 0.8482\n",
      "Epoch 28/100\n",
      "536/536 [==============================] - 97s 181ms/step - loss: 0.3478 - accuracy: 0.8602 - val_loss: 0.3631 - val_accuracy: 0.8493\n",
      "Epoch 29/100\n",
      "536/536 [==============================] - 2s 4ms/step - loss: 0.3440 - accuracy: 0.8602 - val_loss: 0.3602 - val_accuracy: 0.8501\n",
      "Epoch 30/100\n",
      "536/536 [==============================] - 2s 3ms/step - loss: 0.3400 - accuracy: 0.8615 - val_loss: 0.3596 - val_accuracy: 0.8508\n",
      "Epoch 31/100\n",
      "536/536 [==============================] - 1s 2ms/step - loss: 0.3377 - accuracy: 0.8621 - val_loss: 0.3585 - val_accuracy: 0.8501\n",
      "Epoch 32/100\n",
      "536/536 [==============================] - 1s 2ms/step - loss: 0.3368 - accuracy: 0.8608 - val_loss: 0.3581 - val_accuracy: 0.8485\n",
      "Epoch 33/100\n",
      "536/536 [==============================] - 1s 2ms/step - loss: 0.3351 - accuracy: 0.8619 - val_loss: 0.3589 - val_accuracy: 0.8493\n",
      "Epoch 34/100\n",
      "536/536 [==============================] - 11s 21ms/step - loss: 0.3350 - accuracy: 0.8610 - val_loss: 0.3575 - val_accuracy: 0.8501\n",
      "Epoch 35/100\n",
      "536/536 [==============================] - 9s 16ms/step - loss: 0.3341 - accuracy: 0.8619 - val_loss: 0.3573 - val_accuracy: 0.8519\n",
      "Epoch 36/100\n",
      "536/536 [==============================] - 9s 17ms/step - loss: 0.3335 - accuracy: 0.8621 - val_loss: 0.3578 - val_accuracy: 0.8508\n",
      "Epoch 37/100\n",
      "536/536 [==============================] - 9s 16ms/step - loss: 0.3332 - accuracy: 0.8612 - val_loss: 0.3563 - val_accuracy: 0.8504\n",
      "Epoch 38/100\n",
      "536/536 [==============================] - 9s 16ms/step - loss: 0.3329 - accuracy: 0.8625 - val_loss: 0.3559 - val_accuracy: 0.8504\n",
      "Epoch 39/100\n",
      "536/536 [==============================] - 9s 17ms/step - loss: 0.3319 - accuracy: 0.8623 - val_loss: 0.3568 - val_accuracy: 0.8527\n",
      "Epoch 40/100\n",
      "536/536 [==============================] - 10s 18ms/step - loss: 0.3322 - accuracy: 0.8621 - val_loss: 0.3555 - val_accuracy: 0.8519\n",
      "Epoch 41/100\n",
      "536/536 [==============================] - 11s 20ms/step - loss: 0.3317 - accuracy: 0.8602 - val_loss: 0.3557 - val_accuracy: 0.8519\n",
      "Epoch 42/100\n",
      "536/536 [==============================] - 15s 28ms/step - loss: 0.3314 - accuracy: 0.8623 - val_loss: 0.3561 - val_accuracy: 0.8535\n",
      "Epoch 43/100\n",
      "536/536 [==============================] - 25s 47ms/step - loss: 0.3309 - accuracy: 0.8606 - val_loss: 0.3547 - val_accuracy: 0.8504\n",
      "Epoch 44/100\n",
      "536/536 [==============================] - 24s 44ms/step - loss: 0.3305 - accuracy: 0.8612 - val_loss: 0.3570 - val_accuracy: 0.8504\n",
      "Epoch 45/100\n",
      "536/536 [==============================] - 24s 45ms/step - loss: 0.3305 - accuracy: 0.8615 - val_loss: 0.3568 - val_accuracy: 0.8535\n",
      "Epoch 46/100\n",
      "536/536 [==============================] - 26s 49ms/step - loss: 0.3306 - accuracy: 0.8615 - val_loss: 0.3555 - val_accuracy: 0.8516\n",
      "Epoch 47/100\n",
      "536/536 [==============================] - 21s 39ms/step - loss: 0.3301 - accuracy: 0.8628 - val_loss: 0.3542 - val_accuracy: 0.8523\n",
      "Epoch 48/100\n",
      "536/536 [==============================] - 23s 43ms/step - loss: 0.3304 - accuracy: 0.8602 - val_loss: 0.3548 - val_accuracy: 0.8527\n",
      "Epoch 49/100\n",
      "536/536 [==============================] - 23s 43ms/step - loss: 0.3306 - accuracy: 0.8617 - val_loss: 0.3540 - val_accuracy: 0.8535\n",
      "Epoch 50/100\n",
      "536/536 [==============================] - 25s 47ms/step - loss: 0.3297 - accuracy: 0.8614 - val_loss: 0.3533 - val_accuracy: 0.8535\n",
      "Epoch 51/100\n",
      "536/536 [==============================] - 25s 47ms/step - loss: 0.3293 - accuracy: 0.8615 - val_loss: 0.3566 - val_accuracy: 0.8504\n",
      "Epoch 52/100\n",
      "536/536 [==============================] - 26s 48ms/step - loss: 0.3301 - accuracy: 0.8615 - val_loss: 0.3537 - val_accuracy: 0.8508\n",
      "Epoch 53/100\n",
      "536/536 [==============================] - 26s 48ms/step - loss: 0.3295 - accuracy: 0.8608 - val_loss: 0.3555 - val_accuracy: 0.8531\n",
      "Epoch 54/100\n",
      "536/536 [==============================] - 26s 49ms/step - loss: 0.3297 - accuracy: 0.8617 - val_loss: 0.3541 - val_accuracy: 0.8531\n",
      "Epoch 55/100\n",
      "536/536 [==============================] - 26s 48ms/step - loss: 0.3297 - accuracy: 0.8617 - val_loss: 0.3526 - val_accuracy: 0.8523\n",
      "Epoch 56/100\n",
      "536/536 [==============================] - 24s 46ms/step - loss: 0.3293 - accuracy: 0.8621 - val_loss: 0.3553 - val_accuracy: 0.8519\n",
      "Epoch 57/100\n",
      "536/536 [==============================] - 26s 48ms/step - loss: 0.3293 - accuracy: 0.8617 - val_loss: 0.3570 - val_accuracy: 0.8485\n",
      "Epoch 58/100\n",
      "536/536 [==============================] - 26s 48ms/step - loss: 0.3294 - accuracy: 0.8617 - val_loss: 0.3528 - val_accuracy: 0.8519\n",
      "Epoch 59/100\n",
      "536/536 [==============================] - 27s 50ms/step - loss: 0.3291 - accuracy: 0.8619 - val_loss: 0.3579 - val_accuracy: 0.8482\n",
      "Epoch 60/100\n",
      "536/536 [==============================] - 26s 48ms/step - loss: 0.3294 - accuracy: 0.8608 - val_loss: 0.3545 - val_accuracy: 0.8508\n",
      "Epoch 61/100\n",
      "536/536 [==============================] - 25s 48ms/step - loss: 0.3292 - accuracy: 0.8625 - val_loss: 0.3534 - val_accuracy: 0.8504\n",
      "Epoch 62/100\n",
      "536/536 [==============================] - 25s 47ms/step - loss: 0.3284 - accuracy: 0.8623 - val_loss: 0.3538 - val_accuracy: 0.8531\n",
      "Epoch 63/100\n",
      "536/536 [==============================] - 26s 49ms/step - loss: 0.3285 - accuracy: 0.8630 - val_loss: 0.3546 - val_accuracy: 0.8527\n",
      "Epoch 64/100\n",
      "536/536 [==============================] - 25s 47ms/step - loss: 0.3290 - accuracy: 0.8608 - val_loss: 0.3538 - val_accuracy: 0.8516\n",
      "Epoch 65/100\n",
      "536/536 [==============================] - 25s 47ms/step - loss: 0.3287 - accuracy: 0.8608 - val_loss: 0.3533 - val_accuracy: 0.8546\n",
      "Epoch 66/100\n",
      "536/536 [==============================] - 26s 48ms/step - loss: 0.3290 - accuracy: 0.8602 - val_loss: 0.3535 - val_accuracy: 0.8523\n",
      "Epoch 67/100\n",
      "536/536 [==============================] - 26s 48ms/step - loss: 0.3290 - accuracy: 0.8640 - val_loss: 0.3533 - val_accuracy: 0.8519\n",
      "Epoch 68/100\n",
      "536/536 [==============================] - 26s 48ms/step - loss: 0.3288 - accuracy: 0.8621 - val_loss: 0.3542 - val_accuracy: 0.8531\n",
      "Epoch 69/100\n",
      "536/536 [==============================] - 25s 47ms/step - loss: 0.3283 - accuracy: 0.8612 - val_loss: 0.3527 - val_accuracy: 0.8527\n",
      "Epoch 70/100\n",
      "536/536 [==============================] - 27s 50ms/step - loss: 0.3283 - accuracy: 0.8615 - val_loss: 0.3538 - val_accuracy: 0.8508\n",
      "Epoch 71/100\n",
      "536/536 [==============================] - 25s 47ms/step - loss: 0.3284 - accuracy: 0.8614 - val_loss: 0.3535 - val_accuracy: 0.8523\n",
      "Epoch 72/100\n",
      "536/536 [==============================] - 26s 48ms/step - loss: 0.3282 - accuracy: 0.8619 - val_loss: 0.3534 - val_accuracy: 0.8527\n",
      "Epoch 73/100\n",
      "536/536 [==============================] - 26s 48ms/step - loss: 0.3283 - accuracy: 0.8623 - val_loss: 0.3542 - val_accuracy: 0.8546\n",
      "Epoch 74/100\n",
      "536/536 [==============================] - 26s 48ms/step - loss: 0.3280 - accuracy: 0.8617 - val_loss: 0.3536 - val_accuracy: 0.8531\n",
      "Epoch 75/100\n",
      "536/536 [==============================] - 28s 52ms/step - loss: 0.3281 - accuracy: 0.8612 - val_loss: 0.3545 - val_accuracy: 0.8519\n",
      "Epoch 76/100\n",
      "536/536 [==============================] - 25s 47ms/step - loss: 0.3278 - accuracy: 0.8612 - val_loss: 0.3525 - val_accuracy: 0.8557\n",
      "Epoch 77/100\n",
      "536/536 [==============================] - 25s 47ms/step - loss: 0.3285 - accuracy: 0.8636 - val_loss: 0.3526 - val_accuracy: 0.8538\n",
      "Epoch 78/100\n",
      "536/536 [==============================] - 25s 48ms/step - loss: 0.3284 - accuracy: 0.8628 - val_loss: 0.3526 - val_accuracy: 0.8542\n",
      "Epoch 79/100\n",
      "536/536 [==============================] - 25s 47ms/step - loss: 0.3285 - accuracy: 0.8638 - val_loss: 0.3532 - val_accuracy: 0.8527\n",
      "Epoch 80/100\n",
      "536/536 [==============================] - 26s 48ms/step - loss: 0.3284 - accuracy: 0.8615 - val_loss: 0.3528 - val_accuracy: 0.8531\n",
      "Epoch 81/100\n",
      "536/536 [==============================] - 25s 47ms/step - loss: 0.3285 - accuracy: 0.8632 - val_loss: 0.3524 - val_accuracy: 0.8550\n",
      "Epoch 82/100\n",
      "536/536 [==============================] - 26s 49ms/step - loss: 0.3285 - accuracy: 0.8614 - val_loss: 0.3530 - val_accuracy: 0.8550\n",
      "Epoch 83/100\n",
      "536/536 [==============================] - 26s 48ms/step - loss: 0.3280 - accuracy: 0.8614 - val_loss: 0.3511 - val_accuracy: 0.8531\n",
      "Epoch 84/100\n",
      "536/536 [==============================] - 25s 47ms/step - loss: 0.3280 - accuracy: 0.8617 - val_loss: 0.3522 - val_accuracy: 0.8557\n",
      "Epoch 85/100\n",
      "536/536 [==============================] - 25s 47ms/step - loss: 0.3281 - accuracy: 0.8630 - val_loss: 0.3511 - val_accuracy: 0.8561\n",
      "Epoch 86/100\n",
      "536/536 [==============================] - 25s 47ms/step - loss: 0.3275 - accuracy: 0.8647 - val_loss: 0.3545 - val_accuracy: 0.8516\n",
      "Epoch 87/100\n",
      "536/536 [==============================] - 25s 47ms/step - loss: 0.3274 - accuracy: 0.8632 - val_loss: 0.3511 - val_accuracy: 0.8569\n",
      "Epoch 88/100\n",
      "536/536 [==============================] - 25s 47ms/step - loss: 0.3278 - accuracy: 0.8643 - val_loss: 0.3514 - val_accuracy: 0.8569\n",
      "Epoch 89/100\n",
      "536/536 [==============================] - 25s 47ms/step - loss: 0.3272 - accuracy: 0.8645 - val_loss: 0.3501 - val_accuracy: 0.8569\n",
      "Epoch 90/100\n",
      "536/536 [==============================] - 25s 47ms/step - loss: 0.3272 - accuracy: 0.8634 - val_loss: 0.3518 - val_accuracy: 0.8550\n",
      "Epoch 91/100\n",
      "536/536 [==============================] - 25s 47ms/step - loss: 0.3271 - accuracy: 0.8634 - val_loss: 0.3495 - val_accuracy: 0.8576\n",
      "Epoch 92/100\n",
      "536/536 [==============================] - 25s 47ms/step - loss: 0.3277 - accuracy: 0.8623 - val_loss: 0.3504 - val_accuracy: 0.8561\n",
      "Epoch 93/100\n",
      "536/536 [==============================] - 27s 50ms/step - loss: 0.3276 - accuracy: 0.8621 - val_loss: 0.3499 - val_accuracy: 0.8565\n",
      "Epoch 94/100\n",
      "536/536 [==============================] - 155s 291ms/step - loss: 0.3275 - accuracy: 0.8642 - val_loss: 0.3499 - val_accuracy: 0.8554\n",
      "Epoch 95/100\n",
      "536/536 [==============================] - 10s 19ms/step - loss: 0.3273 - accuracy: 0.8625 - val_loss: 0.3499 - val_accuracy: 0.8580\n",
      "Epoch 96/100\n",
      "536/536 [==============================] - 10s 18ms/step - loss: 0.3272 - accuracy: 0.8625 - val_loss: 0.3490 - val_accuracy: 0.8573\n",
      "Epoch 97/100\n",
      "536/536 [==============================] - 10s 19ms/step - loss: 0.3269 - accuracy: 0.8634 - val_loss: 0.3492 - val_accuracy: 0.8591\n",
      "Epoch 98/100\n",
      "536/536 [==============================] - 9s 17ms/step - loss: 0.3273 - accuracy: 0.8619 - val_loss: 0.3498 - val_accuracy: 0.8569\n",
      "Epoch 99/100\n",
      "536/536 [==============================] - 10s 18ms/step - loss: 0.3266 - accuracy: 0.8643 - val_loss: 0.3503 - val_accuracy: 0.8557\n",
      "Epoch 100/100\n",
      "536/536 [==============================] - 9s 16ms/step - loss: 0.3266 - accuracy: 0.8625 - val_loss: 0.3523 - val_accuracy: 0.8561\n"
     ]
    }
   ],
   "source": [
    "# Fitting the ANN to the Training set\n",
    "model_history = ann.fit(X_train, y_train, batch_size=10, validation_split=0.33, epochs=100)"
   ]
  },
  {
   "cell_type": "code",
   "execution_count": 53,
   "metadata": {},
   "outputs": [
    {
     "data": {
      "text/plain": [
       "dict_keys(['loss', 'accuracy', 'val_loss', 'val_accuracy'])"
      ]
     },
     "execution_count": 53,
     "metadata": {},
     "output_type": "execute_result"
    }
   ],
   "source": [
    "# List all data in history\n",
    "model_history.history.keys()"
   ]
  },
  {
   "cell_type": "code",
   "execution_count": 54,
   "metadata": {},
   "outputs": [
    {
     "data": {
      "image/png": "[encoded data removed]",
      "text/plain": [
       "<Figure size 576x576 with 1 Axes>"
      ]
     },
     "metadata": {
      "needs_background": "light"
     },
     "output_type": "display_data"
    }
   ],
   "source": [
    "# Summarize history for accuracy\n",
    "plt.figure(figsize=(8,8))\n",
    "plt.plot(model_history.history['accuracy'])\n",
    "plt.plot(model_history.history['val_accuracy'])\n",
    "plt.title('Model Accuracy')\n",
    "plt.ylabel('Accuracy')\n",
    "plt.xlabel('Epoch')\n",
    "plt.legend(['Train', 'Test'], loc='lower right')\n",
    "plt.show()"
   ]
  },
  {
   "cell_type": "code",
   "execution_count": 55,
   "metadata": {},
   "outputs": [
    {
     "data": {
      "image/png": "[encoded data removed]",
      "text/plain": [
       "<Figure size 576x576 with 1 Axes>"
      ]
     },
     "metadata": {
      "needs_background": "light"
     },
     "output_type": "display_data"
    }
   ],
   "source": [
    "# Summarize history for loss\n",
    "plt.figure(figsize=(8,8))\n",
    "plt.plot(model_history.history['loss'])\n",
    "plt.plot(model_history.history['val_loss'])\n",
    "plt.title('Model Loss')\n",
    "plt.ylabel('Loss')\n",
    "plt.xlabel('Epoch')\n",
    "plt.legend(['Train', 'Test'], loc='upper right')\n",
    "plt.show()"
   ]
  },
  {
   "cell_type": "markdown",
   "metadata": {},
   "source": [
    "## Model Evaluation"
   ]
  },
  {
   "cell_type": "code",
   "execution_count": 57,
   "metadata": {},
   "outputs": [],
   "source": [
    "# Predicting the Test set results\n",
    "y_pred = ann.predict(X_test)"
   ]
  },
  {
   "cell_type": "code",
   "execution_count": 58,
   "metadata": {},
   "outputs": [
    {
     "data": {
      "text/plain": [
       "array([[0.2668037 ],\n",
       "       [0.2903759 ],\n",
       "       [0.12425819],\n",
       "       ...,\n",
       "       [0.2997501 ],\n",
       "       [0.15947321],\n",
       "       [0.26270783]], dtype=float32)"
      ]
     },
     "execution_count": 58,
     "metadata": {},
     "output_type": "execute_result"
    }
   ],
   "source": [
    "y_pred "
   ]
  },
  {
   "cell_type": "code",
   "execution_count": 59,
   "metadata": {},
   "outputs": [
    {
     "data": {
      "text/plain": [
       "array([[False],\n",
       "       [False],\n",
       "       [False],\n",
       "       ...,\n",
       "       [False],\n",
       "       [False],\n",
       "       [False]])"
      ]
     },
     "execution_count": 59,
     "metadata": {},
     "output_type": "execute_result"
    }
   ],
   "source": [
    "y_pred = (y_pred > 0.5)\n",
    "y_pred"
   ]
  },
  {
   "cell_type": "code",
   "execution_count": 61,
   "metadata": {},
   "outputs": [
    {
     "data": {
      "text/plain": [
       "array([[1495,  100],\n",
       "       [ 181,  224]], dtype=int64)"
      ]
     },
     "execution_count": 61,
     "metadata": {},
     "output_type": "execute_result"
    }
   ],
   "source": [
    "# Making the Confusion Matrix\n",
    "from sklearn.metrics import confusion_matrix\n",
    "cm = confusion_matrix(y_test, y_pred)\n",
    "cm"
   ]
  },
  {
   "cell_type": "code",
   "execution_count": 62,
   "metadata": {},
   "outputs": [
    {
     "data": {
      "image/png": "[encoded data removed]",
      "text/plain": [
       "<Figure size 576x432 with 2 Axes>"
      ]
     },
     "metadata": {
      "needs_background": "light"
     },
     "output_type": "display_data"
    }
   ],
   "source": [
    "# Plotting confusion matrix\n",
    "plt.figure(figsize=(8,6))\n",
    "sns.heatmap(cm, cmap='Blues', annot=True, xticklabels=['Did not Exit', 'Exit'], yticklabels=['Did not Exit', 'Exit'])\n",
    "plt.xlabel('Predicted values')\n",
    "plt.ylabel('Actual values')\n",
    "plt.title('Confusion Matrix for ANN model')\n",
    "plt.show()"
   ]
  },
  {
   "cell_type": "code",
   "execution_count": 63,
   "metadata": {
    "scrolled": true
   },
   "outputs": [
    {
     "name": "stdout",
     "output_type": "stream",
     "text": [
      "The accuracy for ANN model is: 85.95%\n"
     ]
    }
   ],
   "source": [
    "# Calculate the Accuracy\n",
    "from sklearn.metrics import accuracy_score\n",
    "score = accuracy_score(y_pred,y_test)\n",
    "print('The accuracy for ANN model is: {}%'.format(score*100))"
   ]
  },
  {
   "cell_type": "markdown",
   "metadata": {},
   "source": [
    "## Making the predictions"
   ]
  },
  {
   "cell_type": "code",
   "execution_count": 66,
   "metadata": {},
   "outputs": [],
   "source": [
    "def predict_exit(sample_value):\n",
    "  \n",
    "  # Convert list to numpy array\n",
    "  sample_value = np.array(sample_value)\n",
    "\n",
    "  # Reshape because sample_value contains only 1 record\n",
    "  sample_value = sample_value.reshape(1, -1)\n",
    "\n",
    "  # Feature Scaling\n",
    "  sample_value = sc.transform(sample_value)\n",
    "\n",
    "  return ann.predict(sample_value)"
   ]
  },
  {
   "cell_type": "code",
   "execution_count": 67,
   "metadata": {},
   "outputs": [
    {
     "name": "stderr",
     "output_type": "stream",
     "text": [
      "C:\\Users\\selor\\anaconda3\\lib\\site-packages\\sklearn\\base.py:450: UserWarning: X does not have valid feature names, but StandardScaler was fitted with feature names\n",
      "  warnings.warn(\n"
     ]
    },
    {
     "name": "stdout",
     "output_type": "stream",
     "text": [
      "Prediction: Low chance of exit.\n"
     ]
    }
   ],
   "source": [
    "# Predictions\n",
    "# Value order 'CreditScore','Age','Tenure','Balance','NumOfProducts','HasCrCard','IsActiveMember','EstimatedSalary','Germany','Spain','Male'.\n",
    "sample_value = [738, 62, 10, 83008.31, 1, 1, 1, 42766.03, 1, 0, 1]\n",
    "if predict_exit(sample_value)>0.5:\n",
    "  print('Prediction: High chance of exit!')\n",
    "else:\n",
    "  print('Prediction: Low chance of exit.')"
   ]
  },
  {
   "cell_type": "code",
   "execution_count": 71,
   "metadata": {},
   "outputs": [
    {
     "name": "stderr",
     "output_type": "stream",
     "text": [
      "C:\\Users\\selor\\anaconda3\\lib\\site-packages\\sklearn\\base.py:450: UserWarning: X does not have valid feature names, but StandardScaler was fitted with feature names\n",
      "  warnings.warn(\n"
     ]
    },
    {
     "name": "stdout",
     "output_type": "stream",
     "text": [
      "Prediction: High chance of exit!\n"
     ]
    }
   ],
   "source": [
    "# Predictions\n",
    "# Value order 'CreditScore','Age','Tenure','Balance','NumOfProducts','HasCrCard','IsActiveMember','EstimatedSalary','Germany','Spain','Male'.\n",
    "sample_value = [600, 40, 3, 600000, 2, 1, 1, 50000, 1, 0, 1]\n",
    "if predict_exit(sample_value)>0.5:\n",
    "  print('Prediction: High chance of exit!')\n",
    "else:\n",
    "  print('Prediction: Low chance of exit.')"
   ]
  },
  {
   "cell_type": "code",
   "execution_count": 70,
   "metadata": {},
   "outputs": [
    {
     "name": "stderr",
     "output_type": "stream",
     "text": [
      "C:\\Users\\selor\\anaconda3\\lib\\site-packages\\sklearn\\base.py:450: UserWarning: X does not have valid feature names, but StandardScaler was fitted with feature names\n",
      "  warnings.warn(\n"
     ]
    },
    {
     "name": "stdout",
     "output_type": "stream",
     "text": [
      "Prediction: Low chance of exit.\n"
     ]
    }
   ],
   "source": [
    "# Predictions\n",
    "# Value order 'CreditScore','Age','Tenure','Balance','NumOfProducts','HasCrCard','IsActiveMember','EstimatedSalary','Germany','Spain','Male'.\n",
    "sample_value = [805, 45, 9, 116585.97, 1, 1, 0, 189428.75, 0, 0, 0]\n",
    "if predict_exit(sample_value)>0.5:\n",
    "  print('Prediction: High chance of exit!')\n",
    "else:\n",
    "  print('Prediction: Low chance of exit.')"
   ]
  },
  {
   "cell_type": "code",
   "execution_count": null,
   "metadata": {},
   "outputs": [],
   "source": []
  }
 ],
 "metadata": {
  "kernelspec": {
   "display_name": "Python 3",
   "language": "python",
   "name": "python3"
  },
  "language_info": {
   "codemirror_mode": {
    "name": "ipython",
    "version": 3
   },
   "file_extension": ".py",
   "mimetype": "text/x-python",
   "name": "python",
   "nbconvert_exporter": "python",
   "pygments_lexer": "ipython3",
   "version": "3.8.5"
  }
 },
 "nbformat": 4,
 "nbformat_minor": 4
}
