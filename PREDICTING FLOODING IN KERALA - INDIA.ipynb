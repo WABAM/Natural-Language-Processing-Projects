{
 "cells": [
  {
   "cell_type": "code",
   "execution_count": 1,
   "metadata": {},
   "outputs": [],
   "source": [
    "import pandas as pd\n",
    "import numpy as np\n",
    "import matplotlib.pyplot as plt\n",
    "import os\n",
    "import seaborn as sns\n",
    "from sklearn import model_selection\n",
    "from sklearn.linear_model import LogisticRegression\n",
    "from sklearn.model_selection import train_test_split"
   ]
  },
  {
   "cell_type": "code",
   "execution_count": 2,
   "metadata": {},
   "outputs": [
    {
     "name": "stdout",
     "output_type": "stream",
     "text": [
      "    SUBDIVISION  YEAR   JAN   FEB   MAR    APR    MAY     JUN     JUL     AUG  \\\n",
      "0        KERALA  1901  28.7  44.7  51.6  160.0  174.7   824.6   743.0   357.5   \n",
      "1        KERALA  1902   6.7   2.6  57.3   83.9  134.5   390.9  1205.0   315.8   \n",
      "2        KERALA  1903   3.2  18.6   3.1   83.6  249.7   558.6  1022.5   420.2   \n",
      "3        KERALA  1904  23.7   3.0  32.2   71.5  235.7  1098.2   725.5   351.8   \n",
      "4        KERALA  1905   1.2  22.3   9.4  105.9  263.3   850.2   520.5   293.6   \n",
      "..          ...   ...   ...   ...   ...    ...    ...     ...     ...     ...   \n",
      "113      KERALA  2014   4.6  10.3  17.9   95.7  251.0   454.4   677.8   733.9   \n",
      "114      KERALA  2015   3.1   5.8  50.1  214.1  201.8   563.6   406.0   252.2   \n",
      "115      KERALA  2016   2.4   3.8  35.9  143.0  186.4   522.2   412.3   325.5   \n",
      "116     KERALA   2017   1.9   6.8   8.9   43.6  173.5   498.5   319.6   531.8   \n",
      "117      KERALA  2018  29.1  52.1  48.6  116.4  183.8   625.4  1048.5  1398.9   \n",
      "\n",
      "       SEP    OCT    NOV    DEC   ANNUAL RAINFALL FLOODS  \n",
      "0    197.7  266.9  350.8   48.4            3248.6    YES  \n",
      "1    491.6  358.4  158.3  121.5            3326.6    YES  \n",
      "2    341.8  354.1  157.0   59.0            3271.2    YES  \n",
      "3    222.7  328.1   33.9    3.3            3129.7    YES  \n",
      "4    217.2  383.5   74.4    0.2            2741.6     NO  \n",
      "..     ...    ...    ...    ...               ...    ...  \n",
      "113  298.8  355.5   99.5   47.2            3046.4    YES  \n",
      "114  292.9  308.1  223.6   79.4            2600.6     NO  \n",
      "115  173.2  225.9  125.4   23.6            2176.6     NO  \n",
      "116  209.5  192.4   92.5   38.1            2117.1     NO  \n",
      "117  423.6  356.1  125.4   65.1            4473.0    YES  \n",
      "\n",
      "[118 rows x 16 columns]\n"
     ]
    }
   ],
   "source": [
    "data = pd.read_csv('https://raw.githubusercontent.com/amandp13/Flood-Prediction-Model/master/kerala.csv')\n",
    "print(data)"
   ]
  },
  {
   "cell_type": "markdown",
   "metadata": {},
   "source": [
    "## EXPLORATORY DATA ANALYSIS"
   ]
  },
  {
   "cell_type": "code",
   "execution_count": 3,
   "metadata": {},
   "outputs": [
    {
     "data": {
      "text/html": [
       "<div>\n",
       "<style scoped>\n",
       "    .dataframe tbody tr th:only-of-type {\n",
       "        vertical-align: middle;\n",
       "    }\n",
       "\n",
       "    .dataframe tbody tr th {\n",
       "        vertical-align: top;\n",
       "    }\n",
       "\n",
       "    .dataframe thead th {\n",
       "        text-align: right;\n",
       "    }\n",
       "</style>\n",
       "<table border=\"1\" class=\"dataframe\">\n",
       "  <thead>\n",
       "    <tr style=\"text-align: right;\">\n",
       "      <th></th>\n",
       "      <th>SUBDIVISION</th>\n",
       "      <th>YEAR</th>\n",
       "      <th>JAN</th>\n",
       "      <th>FEB</th>\n",
       "      <th>MAR</th>\n",
       "      <th>APR</th>\n",
       "      <th>MAY</th>\n",
       "      <th>JUN</th>\n",
       "      <th>JUL</th>\n",
       "      <th>AUG</th>\n",
       "      <th>SEP</th>\n",
       "      <th>OCT</th>\n",
       "      <th>NOV</th>\n",
       "      <th>DEC</th>\n",
       "      <th>ANNUAL RAINFALL</th>\n",
       "      <th>FLOODS</th>\n",
       "    </tr>\n",
       "  </thead>\n",
       "  <tbody>\n",
       "    <tr>\n",
       "      <th>0</th>\n",
       "      <td>KERALA</td>\n",
       "      <td>1901</td>\n",
       "      <td>28.7</td>\n",
       "      <td>44.7</td>\n",
       "      <td>51.6</td>\n",
       "      <td>160.0</td>\n",
       "      <td>174.7</td>\n",
       "      <td>824.6</td>\n",
       "      <td>743.0</td>\n",
       "      <td>357.5</td>\n",
       "      <td>197.7</td>\n",
       "      <td>266.9</td>\n",
       "      <td>350.8</td>\n",
       "      <td>48.4</td>\n",
       "      <td>3248.6</td>\n",
       "      <td>YES</td>\n",
       "    </tr>\n",
       "    <tr>\n",
       "      <th>1</th>\n",
       "      <td>KERALA</td>\n",
       "      <td>1902</td>\n",
       "      <td>6.7</td>\n",
       "      <td>2.6</td>\n",
       "      <td>57.3</td>\n",
       "      <td>83.9</td>\n",
       "      <td>134.5</td>\n",
       "      <td>390.9</td>\n",
       "      <td>1205.0</td>\n",
       "      <td>315.8</td>\n",
       "      <td>491.6</td>\n",
       "      <td>358.4</td>\n",
       "      <td>158.3</td>\n",
       "      <td>121.5</td>\n",
       "      <td>3326.6</td>\n",
       "      <td>YES</td>\n",
       "    </tr>\n",
       "    <tr>\n",
       "      <th>2</th>\n",
       "      <td>KERALA</td>\n",
       "      <td>1903</td>\n",
       "      <td>3.2</td>\n",
       "      <td>18.6</td>\n",
       "      <td>3.1</td>\n",
       "      <td>83.6</td>\n",
       "      <td>249.7</td>\n",
       "      <td>558.6</td>\n",
       "      <td>1022.5</td>\n",
       "      <td>420.2</td>\n",
       "      <td>341.8</td>\n",
       "      <td>354.1</td>\n",
       "      <td>157.0</td>\n",
       "      <td>59.0</td>\n",
       "      <td>3271.2</td>\n",
       "      <td>YES</td>\n",
       "    </tr>\n",
       "    <tr>\n",
       "      <th>3</th>\n",
       "      <td>KERALA</td>\n",
       "      <td>1904</td>\n",
       "      <td>23.7</td>\n",
       "      <td>3.0</td>\n",
       "      <td>32.2</td>\n",
       "      <td>71.5</td>\n",
       "      <td>235.7</td>\n",
       "      <td>1098.2</td>\n",
       "      <td>725.5</td>\n",
       "      <td>351.8</td>\n",
       "      <td>222.7</td>\n",
       "      <td>328.1</td>\n",
       "      <td>33.9</td>\n",
       "      <td>3.3</td>\n",
       "      <td>3129.7</td>\n",
       "      <td>YES</td>\n",
       "    </tr>\n",
       "    <tr>\n",
       "      <th>4</th>\n",
       "      <td>KERALA</td>\n",
       "      <td>1905</td>\n",
       "      <td>1.2</td>\n",
       "      <td>22.3</td>\n",
       "      <td>9.4</td>\n",
       "      <td>105.9</td>\n",
       "      <td>263.3</td>\n",
       "      <td>850.2</td>\n",
       "      <td>520.5</td>\n",
       "      <td>293.6</td>\n",
       "      <td>217.2</td>\n",
       "      <td>383.5</td>\n",
       "      <td>74.4</td>\n",
       "      <td>0.2</td>\n",
       "      <td>2741.6</td>\n",
       "      <td>NO</td>\n",
       "    </tr>\n",
       "  </tbody>\n",
       "</table>\n",
       "</div>"
      ],
      "text/plain": [
       "  SUBDIVISION  YEAR   JAN   FEB   MAR    APR    MAY     JUN     JUL    AUG  \\\n",
       "0      KERALA  1901  28.7  44.7  51.6  160.0  174.7   824.6   743.0  357.5   \n",
       "1      KERALA  1902   6.7   2.6  57.3   83.9  134.5   390.9  1205.0  315.8   \n",
       "2      KERALA  1903   3.2  18.6   3.1   83.6  249.7   558.6  1022.5  420.2   \n",
       "3      KERALA  1904  23.7   3.0  32.2   71.5  235.7  1098.2   725.5  351.8   \n",
       "4      KERALA  1905   1.2  22.3   9.4  105.9  263.3   850.2   520.5  293.6   \n",
       "\n",
       "     SEP    OCT    NOV    DEC   ANNUAL RAINFALL FLOODS  \n",
       "0  197.7  266.9  350.8   48.4            3248.6    YES  \n",
       "1  491.6  358.4  158.3  121.5            3326.6    YES  \n",
       "2  341.8  354.1  157.0   59.0            3271.2    YES  \n",
       "3  222.7  328.1   33.9    3.3            3129.7    YES  \n",
       "4  217.2  383.5   74.4    0.2            2741.6     NO  "
      ]
     },
     "execution_count": 3,
     "metadata": {},
     "output_type": "execute_result"
    }
   ],
   "source": [
    "data.head()"
   ]
  },
  {
   "cell_type": "code",
   "execution_count": 4,
   "metadata": {},
   "outputs": [
    {
     "data": {
      "text/html": [
       "<div>\n",
       "<style scoped>\n",
       "    .dataframe tbody tr th:only-of-type {\n",
       "        vertical-align: middle;\n",
       "    }\n",
       "\n",
       "    .dataframe tbody tr th {\n",
       "        vertical-align: top;\n",
       "    }\n",
       "\n",
       "    .dataframe thead th {\n",
       "        text-align: right;\n",
       "    }\n",
       "</style>\n",
       "<table border=\"1\" class=\"dataframe\">\n",
       "  <thead>\n",
       "    <tr style=\"text-align: right;\">\n",
       "      <th></th>\n",
       "      <th>SUBDIVISION</th>\n",
       "      <th>YEAR</th>\n",
       "      <th>JAN</th>\n",
       "      <th>FEB</th>\n",
       "      <th>MAR</th>\n",
       "      <th>APR</th>\n",
       "      <th>MAY</th>\n",
       "      <th>JUN</th>\n",
       "      <th>JUL</th>\n",
       "      <th>AUG</th>\n",
       "      <th>SEP</th>\n",
       "      <th>OCT</th>\n",
       "      <th>NOV</th>\n",
       "      <th>DEC</th>\n",
       "      <th>ANNUAL RAINFALL</th>\n",
       "      <th>FLOODS</th>\n",
       "    </tr>\n",
       "  </thead>\n",
       "  <tbody>\n",
       "    <tr>\n",
       "      <th>113</th>\n",
       "      <td>KERALA</td>\n",
       "      <td>2014</td>\n",
       "      <td>4.6</td>\n",
       "      <td>10.3</td>\n",
       "      <td>17.9</td>\n",
       "      <td>95.7</td>\n",
       "      <td>251.0</td>\n",
       "      <td>454.4</td>\n",
       "      <td>677.8</td>\n",
       "      <td>733.9</td>\n",
       "      <td>298.8</td>\n",
       "      <td>355.5</td>\n",
       "      <td>99.5</td>\n",
       "      <td>47.2</td>\n",
       "      <td>3046.4</td>\n",
       "      <td>YES</td>\n",
       "    </tr>\n",
       "    <tr>\n",
       "      <th>114</th>\n",
       "      <td>KERALA</td>\n",
       "      <td>2015</td>\n",
       "      <td>3.1</td>\n",
       "      <td>5.8</td>\n",
       "      <td>50.1</td>\n",
       "      <td>214.1</td>\n",
       "      <td>201.8</td>\n",
       "      <td>563.6</td>\n",
       "      <td>406.0</td>\n",
       "      <td>252.2</td>\n",
       "      <td>292.9</td>\n",
       "      <td>308.1</td>\n",
       "      <td>223.6</td>\n",
       "      <td>79.4</td>\n",
       "      <td>2600.6</td>\n",
       "      <td>NO</td>\n",
       "    </tr>\n",
       "    <tr>\n",
       "      <th>115</th>\n",
       "      <td>KERALA</td>\n",
       "      <td>2016</td>\n",
       "      <td>2.4</td>\n",
       "      <td>3.8</td>\n",
       "      <td>35.9</td>\n",
       "      <td>143.0</td>\n",
       "      <td>186.4</td>\n",
       "      <td>522.2</td>\n",
       "      <td>412.3</td>\n",
       "      <td>325.5</td>\n",
       "      <td>173.2</td>\n",
       "      <td>225.9</td>\n",
       "      <td>125.4</td>\n",
       "      <td>23.6</td>\n",
       "      <td>2176.6</td>\n",
       "      <td>NO</td>\n",
       "    </tr>\n",
       "    <tr>\n",
       "      <th>116</th>\n",
       "      <td>KERALA</td>\n",
       "      <td>2017</td>\n",
       "      <td>1.9</td>\n",
       "      <td>6.8</td>\n",
       "      <td>8.9</td>\n",
       "      <td>43.6</td>\n",
       "      <td>173.5</td>\n",
       "      <td>498.5</td>\n",
       "      <td>319.6</td>\n",
       "      <td>531.8</td>\n",
       "      <td>209.5</td>\n",
       "      <td>192.4</td>\n",
       "      <td>92.5</td>\n",
       "      <td>38.1</td>\n",
       "      <td>2117.1</td>\n",
       "      <td>NO</td>\n",
       "    </tr>\n",
       "    <tr>\n",
       "      <th>117</th>\n",
       "      <td>KERALA</td>\n",
       "      <td>2018</td>\n",
       "      <td>29.1</td>\n",
       "      <td>52.1</td>\n",
       "      <td>48.6</td>\n",
       "      <td>116.4</td>\n",
       "      <td>183.8</td>\n",
       "      <td>625.4</td>\n",
       "      <td>1048.5</td>\n",
       "      <td>1398.9</td>\n",
       "      <td>423.6</td>\n",
       "      <td>356.1</td>\n",
       "      <td>125.4</td>\n",
       "      <td>65.1</td>\n",
       "      <td>4473.0</td>\n",
       "      <td>YES</td>\n",
       "    </tr>\n",
       "  </tbody>\n",
       "</table>\n",
       "</div>"
      ],
      "text/plain": [
       "    SUBDIVISION  YEAR   JAN   FEB   MAR    APR    MAY    JUN     JUL     AUG  \\\n",
       "113      KERALA  2014   4.6  10.3  17.9   95.7  251.0  454.4   677.8   733.9   \n",
       "114      KERALA  2015   3.1   5.8  50.1  214.1  201.8  563.6   406.0   252.2   \n",
       "115      KERALA  2016   2.4   3.8  35.9  143.0  186.4  522.2   412.3   325.5   \n",
       "116     KERALA   2017   1.9   6.8   8.9   43.6  173.5  498.5   319.6   531.8   \n",
       "117      KERALA  2018  29.1  52.1  48.6  116.4  183.8  625.4  1048.5  1398.9   \n",
       "\n",
       "       SEP    OCT    NOV   DEC   ANNUAL RAINFALL FLOODS  \n",
       "113  298.8  355.5   99.5  47.2            3046.4    YES  \n",
       "114  292.9  308.1  223.6  79.4            2600.6     NO  \n",
       "115  173.2  225.9  125.4  23.6            2176.6     NO  \n",
       "116  209.5  192.4   92.5  38.1            2117.1     NO  \n",
       "117  423.6  356.1  125.4  65.1            4473.0    YES  "
      ]
     },
     "execution_count": 4,
     "metadata": {},
     "output_type": "execute_result"
    }
   ],
   "source": [
    "data.tail()"
   ]
  },
  {
   "cell_type": "code",
   "execution_count": 5,
   "metadata": {},
   "outputs": [
    {
     "name": "stdout",
     "output_type": "stream",
     "text": [
      "(118, 16)\n"
     ]
    }
   ],
   "source": [
    "print(data.shape)"
   ]
  },
  {
   "cell_type": "code",
   "execution_count": 6,
   "metadata": {},
   "outputs": [
    {
     "data": {
      "text/plain": [
       "SUBDIVISION         0\n",
       "YEAR                0\n",
       "JAN                 0\n",
       "FEB                 0\n",
       "MAR                 0\n",
       "APR                 0\n",
       "MAY                 0\n",
       "JUN                 0\n",
       "JUL                 0\n",
       "AUG                 0\n",
       "SEP                 0\n",
       "OCT                 0\n",
       "NOV                 0\n",
       "DEC                 0\n",
       " ANNUAL RAINFALL    0\n",
       "FLOODS              0\n",
       "dtype: int64"
      ]
     },
     "execution_count": 6,
     "metadata": {},
     "output_type": "execute_result"
    }
   ],
   "source": [
    "data.isnull().sum()  # cheaki for missing values."
   ]
  },
  {
   "cell_type": "code",
   "execution_count": 7,
   "metadata": {},
   "outputs": [
    {
     "data": {
      "text/plain": [
       "SUBDIVISION          object\n",
       "YEAR                  int64\n",
       "JAN                 float64\n",
       "FEB                 float64\n",
       "MAR                 float64\n",
       "APR                 float64\n",
       "MAY                 float64\n",
       "JUN                 float64\n",
       "JUL                 float64\n",
       "AUG                 float64\n",
       "SEP                 float64\n",
       "OCT                 float64\n",
       "NOV                 float64\n",
       "DEC                 float64\n",
       " ANNUAL RAINFALL    float64\n",
       "FLOODS               object\n",
       "dtype: object"
      ]
     },
     "execution_count": 7,
     "metadata": {},
     "output_type": "execute_result"
    }
   ],
   "source": [
    "data.dtypes"
   ]
  },
  {
   "cell_type": "code",
   "execution_count": 8,
   "metadata": {},
   "outputs": [
    {
     "name": "stdout",
     "output_type": "stream",
     "text": [
      "<class 'pandas.core.frame.DataFrame'>\n",
      "RangeIndex: 118 entries, 0 to 117\n",
      "Data columns (total 16 columns):\n",
      " #   Column            Non-Null Count  Dtype  \n",
      "---  ------            --------------  -----  \n",
      " 0   SUBDIVISION       118 non-null    object \n",
      " 1   YEAR              118 non-null    int64  \n",
      " 2   JAN               118 non-null    float64\n",
      " 3   FEB               118 non-null    float64\n",
      " 4   MAR               118 non-null    float64\n",
      " 5   APR               118 non-null    float64\n",
      " 6   MAY               118 non-null    float64\n",
      " 7   JUN               118 non-null    float64\n",
      " 8   JUL               118 non-null    float64\n",
      " 9   AUG               118 non-null    float64\n",
      " 10  SEP               118 non-null    float64\n",
      " 11  OCT               118 non-null    float64\n",
      " 12  NOV               118 non-null    float64\n",
      " 13  DEC               118 non-null    float64\n",
      " 14   ANNUAL RAINFALL  118 non-null    float64\n",
      " 15  FLOODS            118 non-null    object \n",
      "dtypes: float64(13), int64(1), object(2)\n",
      "memory usage: 14.9+ KB\n"
     ]
    }
   ],
   "source": [
    "data.info()"
   ]
  },
  {
   "cell_type": "code",
   "execution_count": 9,
   "metadata": {},
   "outputs": [
    {
     "data": {
      "text/html": [
       "<div>\n",
       "<style scoped>\n",
       "    .dataframe tbody tr th:only-of-type {\n",
       "        vertical-align: middle;\n",
       "    }\n",
       "\n",
       "    .dataframe tbody tr th {\n",
       "        vertical-align: top;\n",
       "    }\n",
       "\n",
       "    .dataframe thead th {\n",
       "        text-align: right;\n",
       "    }\n",
       "</style>\n",
       "<table border=\"1\" class=\"dataframe\">\n",
       "  <thead>\n",
       "    <tr style=\"text-align: right;\">\n",
       "      <th></th>\n",
       "      <th>YEAR</th>\n",
       "      <th>JAN</th>\n",
       "      <th>FEB</th>\n",
       "      <th>MAR</th>\n",
       "      <th>APR</th>\n",
       "      <th>MAY</th>\n",
       "      <th>JUN</th>\n",
       "      <th>JUL</th>\n",
       "      <th>AUG</th>\n",
       "      <th>SEP</th>\n",
       "      <th>OCT</th>\n",
       "      <th>NOV</th>\n",
       "      <th>DEC</th>\n",
       "      <th>ANNUAL RAINFALL</th>\n",
       "    </tr>\n",
       "  </thead>\n",
       "  <tbody>\n",
       "    <tr>\n",
       "      <th>count</th>\n",
       "      <td>118.000000</td>\n",
       "      <td>118.000000</td>\n",
       "      <td>118.000000</td>\n",
       "      <td>118.000000</td>\n",
       "      <td>118.000000</td>\n",
       "      <td>118.000000</td>\n",
       "      <td>118.000000</td>\n",
       "      <td>118.000000</td>\n",
       "      <td>118.000000</td>\n",
       "      <td>118.000000</td>\n",
       "      <td>118.000000</td>\n",
       "      <td>118.000000</td>\n",
       "      <td>118.000000</td>\n",
       "      <td>118.000000</td>\n",
       "    </tr>\n",
       "    <tr>\n",
       "      <th>mean</th>\n",
       "      <td>1959.500000</td>\n",
       "      <td>12.218644</td>\n",
       "      <td>15.633898</td>\n",
       "      <td>36.670339</td>\n",
       "      <td>110.330508</td>\n",
       "      <td>228.644915</td>\n",
       "      <td>651.617797</td>\n",
       "      <td>698.220339</td>\n",
       "      <td>430.369492</td>\n",
       "      <td>246.207627</td>\n",
       "      <td>293.207627</td>\n",
       "      <td>162.311017</td>\n",
       "      <td>40.009322</td>\n",
       "      <td>2925.405085</td>\n",
       "    </tr>\n",
       "    <tr>\n",
       "      <th>std</th>\n",
       "      <td>34.207699</td>\n",
       "      <td>15.473766</td>\n",
       "      <td>16.406290</td>\n",
       "      <td>30.063862</td>\n",
       "      <td>44.633452</td>\n",
       "      <td>147.548778</td>\n",
       "      <td>186.181363</td>\n",
       "      <td>228.988966</td>\n",
       "      <td>181.980463</td>\n",
       "      <td>121.901131</td>\n",
       "      <td>93.705253</td>\n",
       "      <td>83.200485</td>\n",
       "      <td>36.676330</td>\n",
       "      <td>452.169407</td>\n",
       "    </tr>\n",
       "    <tr>\n",
       "      <th>min</th>\n",
       "      <td>1901.000000</td>\n",
       "      <td>0.000000</td>\n",
       "      <td>0.000000</td>\n",
       "      <td>0.100000</td>\n",
       "      <td>13.100000</td>\n",
       "      <td>53.400000</td>\n",
       "      <td>196.800000</td>\n",
       "      <td>167.500000</td>\n",
       "      <td>178.600000</td>\n",
       "      <td>41.300000</td>\n",
       "      <td>68.500000</td>\n",
       "      <td>31.500000</td>\n",
       "      <td>0.100000</td>\n",
       "      <td>2068.800000</td>\n",
       "    </tr>\n",
       "    <tr>\n",
       "      <th>25%</th>\n",
       "      <td>1930.250000</td>\n",
       "      <td>2.175000</td>\n",
       "      <td>4.700000</td>\n",
       "      <td>18.100000</td>\n",
       "      <td>74.350000</td>\n",
       "      <td>125.050000</td>\n",
       "      <td>535.550000</td>\n",
       "      <td>533.200000</td>\n",
       "      <td>316.725000</td>\n",
       "      <td>155.425000</td>\n",
       "      <td>222.125000</td>\n",
       "      <td>93.025000</td>\n",
       "      <td>10.350000</td>\n",
       "      <td>2613.525000</td>\n",
       "    </tr>\n",
       "    <tr>\n",
       "      <th>50%</th>\n",
       "      <td>1959.500000</td>\n",
       "      <td>5.800000</td>\n",
       "      <td>8.350000</td>\n",
       "      <td>28.400000</td>\n",
       "      <td>110.400000</td>\n",
       "      <td>184.600000</td>\n",
       "      <td>625.600000</td>\n",
       "      <td>691.650000</td>\n",
       "      <td>386.250000</td>\n",
       "      <td>223.550000</td>\n",
       "      <td>284.300000</td>\n",
       "      <td>152.450000</td>\n",
       "      <td>31.100000</td>\n",
       "      <td>2934.300000</td>\n",
       "    </tr>\n",
       "    <tr>\n",
       "      <th>75%</th>\n",
       "      <td>1988.750000</td>\n",
       "      <td>18.175000</td>\n",
       "      <td>21.400000</td>\n",
       "      <td>49.825000</td>\n",
       "      <td>136.450000</td>\n",
       "      <td>264.875000</td>\n",
       "      <td>786.975000</td>\n",
       "      <td>832.425000</td>\n",
       "      <td>500.100000</td>\n",
       "      <td>334.500000</td>\n",
       "      <td>355.150000</td>\n",
       "      <td>218.325000</td>\n",
       "      <td>54.025000</td>\n",
       "      <td>3170.400000</td>\n",
       "    </tr>\n",
       "    <tr>\n",
       "      <th>max</th>\n",
       "      <td>2018.000000</td>\n",
       "      <td>83.500000</td>\n",
       "      <td>79.000000</td>\n",
       "      <td>217.200000</td>\n",
       "      <td>238.000000</td>\n",
       "      <td>738.800000</td>\n",
       "      <td>1098.200000</td>\n",
       "      <td>1526.500000</td>\n",
       "      <td>1398.900000</td>\n",
       "      <td>526.700000</td>\n",
       "      <td>567.900000</td>\n",
       "      <td>365.600000</td>\n",
       "      <td>202.300000</td>\n",
       "      <td>4473.000000</td>\n",
       "    </tr>\n",
       "  </tbody>\n",
       "</table>\n",
       "</div>"
      ],
      "text/plain": [
       "              YEAR         JAN         FEB         MAR         APR  \\\n",
       "count   118.000000  118.000000  118.000000  118.000000  118.000000   \n",
       "mean   1959.500000   12.218644   15.633898   36.670339  110.330508   \n",
       "std      34.207699   15.473766   16.406290   30.063862   44.633452   \n",
       "min    1901.000000    0.000000    0.000000    0.100000   13.100000   \n",
       "25%    1930.250000    2.175000    4.700000   18.100000   74.350000   \n",
       "50%    1959.500000    5.800000    8.350000   28.400000  110.400000   \n",
       "75%    1988.750000   18.175000   21.400000   49.825000  136.450000   \n",
       "max    2018.000000   83.500000   79.000000  217.200000  238.000000   \n",
       "\n",
       "              MAY          JUN          JUL          AUG         SEP  \\\n",
       "count  118.000000   118.000000   118.000000   118.000000  118.000000   \n",
       "mean   228.644915   651.617797   698.220339   430.369492  246.207627   \n",
       "std    147.548778   186.181363   228.988966   181.980463  121.901131   \n",
       "min     53.400000   196.800000   167.500000   178.600000   41.300000   \n",
       "25%    125.050000   535.550000   533.200000   316.725000  155.425000   \n",
       "50%    184.600000   625.600000   691.650000   386.250000  223.550000   \n",
       "75%    264.875000   786.975000   832.425000   500.100000  334.500000   \n",
       "max    738.800000  1098.200000  1526.500000  1398.900000  526.700000   \n",
       "\n",
       "              OCT         NOV         DEC   ANNUAL RAINFALL  \n",
       "count  118.000000  118.000000  118.000000        118.000000  \n",
       "mean   293.207627  162.311017   40.009322       2925.405085  \n",
       "std     93.705253   83.200485   36.676330        452.169407  \n",
       "min     68.500000   31.500000    0.100000       2068.800000  \n",
       "25%    222.125000   93.025000   10.350000       2613.525000  \n",
       "50%    284.300000  152.450000   31.100000       2934.300000  \n",
       "75%    355.150000  218.325000   54.025000       3170.400000  \n",
       "max    567.900000  365.600000  202.300000       4473.000000  "
      ]
     },
     "execution_count": 9,
     "metadata": {},
     "output_type": "execute_result"
    }
   ],
   "source": [
    "data.describe()"
   ]
  },
  {
   "cell_type": "code",
   "execution_count": 10,
   "metadata": {},
   "outputs": [
    {
     "data": {
      "text/html": [
       "<div>\n",
       "<style scoped>\n",
       "    .dataframe tbody tr th:only-of-type {\n",
       "        vertical-align: middle;\n",
       "    }\n",
       "\n",
       "    .dataframe tbody tr th {\n",
       "        vertical-align: top;\n",
       "    }\n",
       "\n",
       "    .dataframe thead th {\n",
       "        text-align: right;\n",
       "    }\n",
       "</style>\n",
       "<table border=\"1\" class=\"dataframe\">\n",
       "  <thead>\n",
       "    <tr style=\"text-align: right;\">\n",
       "      <th></th>\n",
       "      <th>YEAR</th>\n",
       "      <th>JAN</th>\n",
       "      <th>FEB</th>\n",
       "      <th>MAR</th>\n",
       "      <th>APR</th>\n",
       "      <th>MAY</th>\n",
       "      <th>JUN</th>\n",
       "      <th>JUL</th>\n",
       "      <th>AUG</th>\n",
       "      <th>SEP</th>\n",
       "      <th>OCT</th>\n",
       "      <th>NOV</th>\n",
       "      <th>DEC</th>\n",
       "      <th>ANNUAL RAINFALL</th>\n",
       "    </tr>\n",
       "  </thead>\n",
       "  <tbody>\n",
       "    <tr>\n",
       "      <th>YEAR</th>\n",
       "      <td>1.000000</td>\n",
       "      <td>-0.225531</td>\n",
       "      <td>0.003879</td>\n",
       "      <td>-0.012842</td>\n",
       "      <td>0.086865</td>\n",
       "      <td>-0.059661</td>\n",
       "      <td>-0.174938</td>\n",
       "      <td>-0.223403</td>\n",
       "      <td>0.044173</td>\n",
       "      <td>0.107655</td>\n",
       "      <td>-0.030223</td>\n",
       "      <td>-0.130129</td>\n",
       "      <td>-0.123643</td>\n",
       "      <td>-0.198048</td>\n",
       "    </tr>\n",
       "    <tr>\n",
       "      <th>JAN</th>\n",
       "      <td>-0.225531</td>\n",
       "      <td>1.000000</td>\n",
       "      <td>0.019613</td>\n",
       "      <td>0.078626</td>\n",
       "      <td>0.034807</td>\n",
       "      <td>0.071420</td>\n",
       "      <td>0.189375</td>\n",
       "      <td>0.034423</td>\n",
       "      <td>0.008677</td>\n",
       "      <td>-0.113502</td>\n",
       "      <td>-0.035044</td>\n",
       "      <td>-0.011034</td>\n",
       "      <td>-0.089809</td>\n",
       "      <td>0.118648</td>\n",
       "    </tr>\n",
       "    <tr>\n",
       "      <th>FEB</th>\n",
       "      <td>0.003879</td>\n",
       "      <td>0.019613</td>\n",
       "      <td>1.000000</td>\n",
       "      <td>0.245375</td>\n",
       "      <td>0.123706</td>\n",
       "      <td>-0.083500</td>\n",
       "      <td>0.054114</td>\n",
       "      <td>0.005789</td>\n",
       "      <td>0.023259</td>\n",
       "      <td>0.066317</td>\n",
       "      <td>0.053133</td>\n",
       "      <td>-0.162880</td>\n",
       "      <td>-0.127025</td>\n",
       "      <td>0.061457</td>\n",
       "    </tr>\n",
       "    <tr>\n",
       "      <th>MAR</th>\n",
       "      <td>-0.012842</td>\n",
       "      <td>0.078626</td>\n",
       "      <td>0.245375</td>\n",
       "      <td>1.000000</td>\n",
       "      <td>0.074014</td>\n",
       "      <td>-0.102961</td>\n",
       "      <td>0.019000</td>\n",
       "      <td>0.018330</td>\n",
       "      <td>0.042411</td>\n",
       "      <td>0.143850</td>\n",
       "      <td>-0.023066</td>\n",
       "      <td>-0.032612</td>\n",
       "      <td>0.026292</td>\n",
       "      <td>0.116103</td>\n",
       "    </tr>\n",
       "    <tr>\n",
       "      <th>APR</th>\n",
       "      <td>0.086865</td>\n",
       "      <td>0.034807</td>\n",
       "      <td>0.123706</td>\n",
       "      <td>0.074014</td>\n",
       "      <td>1.000000</td>\n",
       "      <td>-0.114566</td>\n",
       "      <td>0.072990</td>\n",
       "      <td>0.014977</td>\n",
       "      <td>-0.047842</td>\n",
       "      <td>0.012928</td>\n",
       "      <td>0.113172</td>\n",
       "      <td>0.022206</td>\n",
       "      <td>-0.110392</td>\n",
       "      <td>0.112358</td>\n",
       "    </tr>\n",
       "    <tr>\n",
       "      <th>MAY</th>\n",
       "      <td>-0.059661</td>\n",
       "      <td>0.071420</td>\n",
       "      <td>-0.083500</td>\n",
       "      <td>-0.102961</td>\n",
       "      <td>-0.114566</td>\n",
       "      <td>1.000000</td>\n",
       "      <td>0.001235</td>\n",
       "      <td>-0.046518</td>\n",
       "      <td>-0.124412</td>\n",
       "      <td>0.116860</td>\n",
       "      <td>0.197102</td>\n",
       "      <td>0.094934</td>\n",
       "      <td>-0.118077</td>\n",
       "      <td>0.314723</td>\n",
       "    </tr>\n",
       "    <tr>\n",
       "      <th>JUN</th>\n",
       "      <td>-0.174938</td>\n",
       "      <td>0.189375</td>\n",
       "      <td>0.054114</td>\n",
       "      <td>0.019000</td>\n",
       "      <td>0.072990</td>\n",
       "      <td>0.001235</td>\n",
       "      <td>1.000000</td>\n",
       "      <td>0.094939</td>\n",
       "      <td>-0.014549</td>\n",
       "      <td>-0.052634</td>\n",
       "      <td>0.001156</td>\n",
       "      <td>0.015967</td>\n",
       "      <td>-0.085188</td>\n",
       "      <td>0.453407</td>\n",
       "    </tr>\n",
       "    <tr>\n",
       "      <th>JUL</th>\n",
       "      <td>-0.223403</td>\n",
       "      <td>0.034423</td>\n",
       "      <td>0.005789</td>\n",
       "      <td>0.018330</td>\n",
       "      <td>0.014977</td>\n",
       "      <td>-0.046518</td>\n",
       "      <td>0.094939</td>\n",
       "      <td>1.000000</td>\n",
       "      <td>0.154467</td>\n",
       "      <td>0.209441</td>\n",
       "      <td>0.025223</td>\n",
       "      <td>-0.028526</td>\n",
       "      <td>-0.013573</td>\n",
       "      <td>0.651990</td>\n",
       "    </tr>\n",
       "    <tr>\n",
       "      <th>AUG</th>\n",
       "      <td>0.044173</td>\n",
       "      <td>0.008677</td>\n",
       "      <td>0.023259</td>\n",
       "      <td>0.042411</td>\n",
       "      <td>-0.047842</td>\n",
       "      <td>-0.124412</td>\n",
       "      <td>-0.014549</td>\n",
       "      <td>0.154467</td>\n",
       "      <td>1.000000</td>\n",
       "      <td>0.098215</td>\n",
       "      <td>-0.181496</td>\n",
       "      <td>-0.112729</td>\n",
       "      <td>0.142090</td>\n",
       "      <td>0.413036</td>\n",
       "    </tr>\n",
       "    <tr>\n",
       "      <th>SEP</th>\n",
       "      <td>0.107655</td>\n",
       "      <td>-0.113502</td>\n",
       "      <td>0.066317</td>\n",
       "      <td>0.143850</td>\n",
       "      <td>0.012928</td>\n",
       "      <td>0.116860</td>\n",
       "      <td>-0.052634</td>\n",
       "      <td>0.209441</td>\n",
       "      <td>0.098215</td>\n",
       "      <td>1.000000</td>\n",
       "      <td>-0.032348</td>\n",
       "      <td>-0.027615</td>\n",
       "      <td>-0.011007</td>\n",
       "      <td>0.428344</td>\n",
       "    </tr>\n",
       "    <tr>\n",
       "      <th>OCT</th>\n",
       "      <td>-0.030223</td>\n",
       "      <td>-0.035044</td>\n",
       "      <td>0.053133</td>\n",
       "      <td>-0.023066</td>\n",
       "      <td>0.113172</td>\n",
       "      <td>0.197102</td>\n",
       "      <td>0.001156</td>\n",
       "      <td>0.025223</td>\n",
       "      <td>-0.181496</td>\n",
       "      <td>-0.032348</td>\n",
       "      <td>1.000000</td>\n",
       "      <td>-0.024060</td>\n",
       "      <td>-0.039067</td>\n",
       "      <td>0.205861</td>\n",
       "    </tr>\n",
       "    <tr>\n",
       "      <th>NOV</th>\n",
       "      <td>-0.130129</td>\n",
       "      <td>-0.011034</td>\n",
       "      <td>-0.162880</td>\n",
       "      <td>-0.032612</td>\n",
       "      <td>0.022206</td>\n",
       "      <td>0.094934</td>\n",
       "      <td>0.015967</td>\n",
       "      <td>-0.028526</td>\n",
       "      <td>-0.112729</td>\n",
       "      <td>-0.027615</td>\n",
       "      <td>-0.024060</td>\n",
       "      <td>1.000000</td>\n",
       "      <td>0.070720</td>\n",
       "      <td>0.148783</td>\n",
       "    </tr>\n",
       "    <tr>\n",
       "      <th>DEC</th>\n",
       "      <td>-0.123643</td>\n",
       "      <td>-0.089809</td>\n",
       "      <td>-0.127025</td>\n",
       "      <td>0.026292</td>\n",
       "      <td>-0.110392</td>\n",
       "      <td>-0.118077</td>\n",
       "      <td>-0.085188</td>\n",
       "      <td>-0.013573</td>\n",
       "      <td>0.142090</td>\n",
       "      <td>-0.011007</td>\n",
       "      <td>-0.039067</td>\n",
       "      <td>0.070720</td>\n",
       "      <td>1.000000</td>\n",
       "      <td>0.042967</td>\n",
       "    </tr>\n",
       "    <tr>\n",
       "      <th>ANNUAL RAINFALL</th>\n",
       "      <td>-0.198048</td>\n",
       "      <td>0.118648</td>\n",
       "      <td>0.061457</td>\n",
       "      <td>0.116103</td>\n",
       "      <td>0.112358</td>\n",
       "      <td>0.314723</td>\n",
       "      <td>0.453407</td>\n",
       "      <td>0.651990</td>\n",
       "      <td>0.413036</td>\n",
       "      <td>0.428344</td>\n",
       "      <td>0.205861</td>\n",
       "      <td>0.148783</td>\n",
       "      <td>0.042967</td>\n",
       "      <td>1.000000</td>\n",
       "    </tr>\n",
       "  </tbody>\n",
       "</table>\n",
       "</div>"
      ],
      "text/plain": [
       "                      YEAR       JAN       FEB       MAR       APR       MAY  \\\n",
       "YEAR              1.000000 -0.225531  0.003879 -0.012842  0.086865 -0.059661   \n",
       "JAN              -0.225531  1.000000  0.019613  0.078626  0.034807  0.071420   \n",
       "FEB               0.003879  0.019613  1.000000  0.245375  0.123706 -0.083500   \n",
       "MAR              -0.012842  0.078626  0.245375  1.000000  0.074014 -0.102961   \n",
       "APR               0.086865  0.034807  0.123706  0.074014  1.000000 -0.114566   \n",
       "MAY              -0.059661  0.071420 -0.083500 -0.102961 -0.114566  1.000000   \n",
       "JUN              -0.174938  0.189375  0.054114  0.019000  0.072990  0.001235   \n",
       "JUL              -0.223403  0.034423  0.005789  0.018330  0.014977 -0.046518   \n",
       "AUG               0.044173  0.008677  0.023259  0.042411 -0.047842 -0.124412   \n",
       "SEP               0.107655 -0.113502  0.066317  0.143850  0.012928  0.116860   \n",
       "OCT              -0.030223 -0.035044  0.053133 -0.023066  0.113172  0.197102   \n",
       "NOV              -0.130129 -0.011034 -0.162880 -0.032612  0.022206  0.094934   \n",
       "DEC              -0.123643 -0.089809 -0.127025  0.026292 -0.110392 -0.118077   \n",
       " ANNUAL RAINFALL -0.198048  0.118648  0.061457  0.116103  0.112358  0.314723   \n",
       "\n",
       "                       JUN       JUL       AUG       SEP       OCT       NOV  \\\n",
       "YEAR             -0.174938 -0.223403  0.044173  0.107655 -0.030223 -0.130129   \n",
       "JAN               0.189375  0.034423  0.008677 -0.113502 -0.035044 -0.011034   \n",
       "FEB               0.054114  0.005789  0.023259  0.066317  0.053133 -0.162880   \n",
       "MAR               0.019000  0.018330  0.042411  0.143850 -0.023066 -0.032612   \n",
       "APR               0.072990  0.014977 -0.047842  0.012928  0.113172  0.022206   \n",
       "MAY               0.001235 -0.046518 -0.124412  0.116860  0.197102  0.094934   \n",
       "JUN               1.000000  0.094939 -0.014549 -0.052634  0.001156  0.015967   \n",
       "JUL               0.094939  1.000000  0.154467  0.209441  0.025223 -0.028526   \n",
       "AUG              -0.014549  0.154467  1.000000  0.098215 -0.181496 -0.112729   \n",
       "SEP              -0.052634  0.209441  0.098215  1.000000 -0.032348 -0.027615   \n",
       "OCT               0.001156  0.025223 -0.181496 -0.032348  1.000000 -0.024060   \n",
       "NOV               0.015967 -0.028526 -0.112729 -0.027615 -0.024060  1.000000   \n",
       "DEC              -0.085188 -0.013573  0.142090 -0.011007 -0.039067  0.070720   \n",
       " ANNUAL RAINFALL  0.453407  0.651990  0.413036  0.428344  0.205861  0.148783   \n",
       "\n",
       "                       DEC   ANNUAL RAINFALL  \n",
       "YEAR             -0.123643         -0.198048  \n",
       "JAN              -0.089809          0.118648  \n",
       "FEB              -0.127025          0.061457  \n",
       "MAR               0.026292          0.116103  \n",
       "APR              -0.110392          0.112358  \n",
       "MAY              -0.118077          0.314723  \n",
       "JUN              -0.085188          0.453407  \n",
       "JUL              -0.013573          0.651990  \n",
       "AUG               0.142090          0.413036  \n",
       "SEP              -0.011007          0.428344  \n",
       "OCT              -0.039067          0.205861  \n",
       "NOV               0.070720          0.148783  \n",
       "DEC               1.000000          0.042967  \n",
       " ANNUAL RAINFALL  0.042967          1.000000  "
      ]
     },
     "execution_count": 10,
     "metadata": {},
     "output_type": "execute_result"
    }
   ],
   "source": [
    "data.corr()"
   ]
  },
  {
   "cell_type": "code",
   "execution_count": 11,
   "metadata": {},
   "outputs": [],
   "source": [
    "from sklearn.preprocessing import LabelEncoder\n",
    "le = LabelEncoder()\n",
    "data['FLOODS'] = le.fit_transform(data['FLOODS'])"
   ]
  },
  {
   "cell_type": "code",
   "execution_count": 12,
   "metadata": {},
   "outputs": [
    {
     "data": {
      "text/html": [
       "<div>\n",
       "<style scoped>\n",
       "    .dataframe tbody tr th:only-of-type {\n",
       "        vertical-align: middle;\n",
       "    }\n",
       "\n",
       "    .dataframe tbody tr th {\n",
       "        vertical-align: top;\n",
       "    }\n",
       "\n",
       "    .dataframe thead th {\n",
       "        text-align: right;\n",
       "    }\n",
       "</style>\n",
       "<table border=\"1\" class=\"dataframe\">\n",
       "  <thead>\n",
       "    <tr style=\"text-align: right;\">\n",
       "      <th></th>\n",
       "      <th>SUBDIVISION</th>\n",
       "      <th>YEAR</th>\n",
       "      <th>JAN</th>\n",
       "      <th>FEB</th>\n",
       "      <th>MAR</th>\n",
       "      <th>APR</th>\n",
       "      <th>MAY</th>\n",
       "      <th>JUN</th>\n",
       "      <th>JUL</th>\n",
       "      <th>AUG</th>\n",
       "      <th>SEP</th>\n",
       "      <th>OCT</th>\n",
       "      <th>NOV</th>\n",
       "      <th>DEC</th>\n",
       "      <th>ANNUAL RAINFALL</th>\n",
       "      <th>FLOODS</th>\n",
       "    </tr>\n",
       "  </thead>\n",
       "  <tbody>\n",
       "    <tr>\n",
       "      <th>0</th>\n",
       "      <td>KERALA</td>\n",
       "      <td>1901</td>\n",
       "      <td>28.7</td>\n",
       "      <td>44.7</td>\n",
       "      <td>51.6</td>\n",
       "      <td>160.0</td>\n",
       "      <td>174.7</td>\n",
       "      <td>824.6</td>\n",
       "      <td>743.0</td>\n",
       "      <td>357.5</td>\n",
       "      <td>197.7</td>\n",
       "      <td>266.9</td>\n",
       "      <td>350.8</td>\n",
       "      <td>48.4</td>\n",
       "      <td>3248.6</td>\n",
       "      <td>1</td>\n",
       "    </tr>\n",
       "    <tr>\n",
       "      <th>1</th>\n",
       "      <td>KERALA</td>\n",
       "      <td>1902</td>\n",
       "      <td>6.7</td>\n",
       "      <td>2.6</td>\n",
       "      <td>57.3</td>\n",
       "      <td>83.9</td>\n",
       "      <td>134.5</td>\n",
       "      <td>390.9</td>\n",
       "      <td>1205.0</td>\n",
       "      <td>315.8</td>\n",
       "      <td>491.6</td>\n",
       "      <td>358.4</td>\n",
       "      <td>158.3</td>\n",
       "      <td>121.5</td>\n",
       "      <td>3326.6</td>\n",
       "      <td>1</td>\n",
       "    </tr>\n",
       "    <tr>\n",
       "      <th>2</th>\n",
       "      <td>KERALA</td>\n",
       "      <td>1903</td>\n",
       "      <td>3.2</td>\n",
       "      <td>18.6</td>\n",
       "      <td>3.1</td>\n",
       "      <td>83.6</td>\n",
       "      <td>249.7</td>\n",
       "      <td>558.6</td>\n",
       "      <td>1022.5</td>\n",
       "      <td>420.2</td>\n",
       "      <td>341.8</td>\n",
       "      <td>354.1</td>\n",
       "      <td>157.0</td>\n",
       "      <td>59.0</td>\n",
       "      <td>3271.2</td>\n",
       "      <td>1</td>\n",
       "    </tr>\n",
       "    <tr>\n",
       "      <th>3</th>\n",
       "      <td>KERALA</td>\n",
       "      <td>1904</td>\n",
       "      <td>23.7</td>\n",
       "      <td>3.0</td>\n",
       "      <td>32.2</td>\n",
       "      <td>71.5</td>\n",
       "      <td>235.7</td>\n",
       "      <td>1098.2</td>\n",
       "      <td>725.5</td>\n",
       "      <td>351.8</td>\n",
       "      <td>222.7</td>\n",
       "      <td>328.1</td>\n",
       "      <td>33.9</td>\n",
       "      <td>3.3</td>\n",
       "      <td>3129.7</td>\n",
       "      <td>1</td>\n",
       "    </tr>\n",
       "    <tr>\n",
       "      <th>4</th>\n",
       "      <td>KERALA</td>\n",
       "      <td>1905</td>\n",
       "      <td>1.2</td>\n",
       "      <td>22.3</td>\n",
       "      <td>9.4</td>\n",
       "      <td>105.9</td>\n",
       "      <td>263.3</td>\n",
       "      <td>850.2</td>\n",
       "      <td>520.5</td>\n",
       "      <td>293.6</td>\n",
       "      <td>217.2</td>\n",
       "      <td>383.5</td>\n",
       "      <td>74.4</td>\n",
       "      <td>0.2</td>\n",
       "      <td>2741.6</td>\n",
       "      <td>0</td>\n",
       "    </tr>\n",
       "  </tbody>\n",
       "</table>\n",
       "</div>"
      ],
      "text/plain": [
       "  SUBDIVISION  YEAR   JAN   FEB   MAR    APR    MAY     JUN     JUL    AUG  \\\n",
       "0      KERALA  1901  28.7  44.7  51.6  160.0  174.7   824.6   743.0  357.5   \n",
       "1      KERALA  1902   6.7   2.6  57.3   83.9  134.5   390.9  1205.0  315.8   \n",
       "2      KERALA  1903   3.2  18.6   3.1   83.6  249.7   558.6  1022.5  420.2   \n",
       "3      KERALA  1904  23.7   3.0  32.2   71.5  235.7  1098.2   725.5  351.8   \n",
       "4      KERALA  1905   1.2  22.3   9.4  105.9  263.3   850.2   520.5  293.6   \n",
       "\n",
       "     SEP    OCT    NOV    DEC   ANNUAL RAINFALL  FLOODS  \n",
       "0  197.7  266.9  350.8   48.4            3248.6       1  \n",
       "1  491.6  358.4  158.3  121.5            3326.6       1  \n",
       "2  341.8  354.1  157.0   59.0            3271.2       1  \n",
       "3  222.7  328.1   33.9    3.3            3129.7       1  \n",
       "4  217.2  383.5   74.4    0.2            2741.6       0  "
      ]
     },
     "execution_count": 12,
     "metadata": {},
     "output_type": "execute_result"
    }
   ],
   "source": [
    "#Printing the clean data\n",
    "data.head()\n"
   ]
  },
  {
   "cell_type": "markdown",
   "metadata": {},
   "source": [
    "## Plotting the Data"
   ]
  },
  {
   "cell_type": "code",
   "execution_count": 13,
   "metadata": {},
   "outputs": [
    {
     "data": {
      "image/png": "[encoded data removed]",
      "text/plain": [
       "<Figure size 432x288 with 4 Axes>"
      ]
     },
     "metadata": {
      "needs_background": "light"
     },
     "output_type": "display_data"
    }
   ],
   "source": [
    "import matplotlib.pyplot as plt   \n",
    "# sets the backend of matplotlib to the 'inline' backend. \n",
    "%matplotlib inline                   \n",
    "c = data[['JUN','JUL','AUG','SEP']]\n",
    "c.hist()\n",
    "plt.show()\n",
    "# How the rainfall index vary during rainy season"
   ]
  },
  {
   "cell_type": "code",
   "execution_count": 14,
   "metadata": {},
   "outputs": [
    {
     "data": {
      "image/png": "[encoded data removed]",
      "text/plain": [
       "<Figure size 1008x432 with 1 Axes>"
      ]
     },
     "metadata": {
      "needs_background": "light"
     },
     "output_type": "display_data"
    }
   ],
   "source": [
    "ax = data[['JAN', 'FEB', 'MAR', 'APR','MAY', 'JUN', 'AUG', 'SEP', 'OCT','NOV','DEC']].mean().plot.bar(width=0.5,edgecolor='k',align='center',linewidth=2,figsize=(14,6))\n",
    "plt.xlabel('Month',fontsize=30)\n",
    "plt.ylabel('Monthly Rainfall',fontsize=20)\n",
    "plt.title('Average Rainfall in Kerela for all Months (1901-2018)',fontsize=25)\n",
    "ax.tick_params(labelsize=20)\n",
    "plt.grid()\n",
    "plt.ioff()"
   ]
  },
  {
   "cell_type": "markdown",
   "metadata": {},
   "source": [
    "## Feature Selection"
   ]
  },
  {
   "cell_type": "code",
   "execution_count": 93,
   "metadata": {},
   "outputs": [
    {
     "data": {
      "text/html": [
       "<div>\n",
       "<style scoped>\n",
       "    .dataframe tbody tr th:only-of-type {\n",
       "        vertical-align: middle;\n",
       "    }\n",
       "\n",
       "    .dataframe tbody tr th {\n",
       "        vertical-align: top;\n",
       "    }\n",
       "\n",
       "    .dataframe thead th {\n",
       "        text-align: right;\n",
       "    }\n",
       "</style>\n",
       "<table border=\"1\" class=\"dataframe\">\n",
       "  <thead>\n",
       "    <tr style=\"text-align: right;\">\n",
       "      <th></th>\n",
       "      <th>YEAR</th>\n",
       "      <th>JAN</th>\n",
       "      <th>FEB</th>\n",
       "      <th>MAR</th>\n",
       "      <th>APR</th>\n",
       "      <th>MAY</th>\n",
       "      <th>JUN</th>\n",
       "      <th>JUL</th>\n",
       "      <th>AUG</th>\n",
       "      <th>SEP</th>\n",
       "      <th>OCT</th>\n",
       "      <th>NOV</th>\n",
       "      <th>DEC</th>\n",
       "    </tr>\n",
       "  </thead>\n",
       "  <tbody>\n",
       "    <tr>\n",
       "      <th>0</th>\n",
       "      <td>1901</td>\n",
       "      <td>28.7</td>\n",
       "      <td>44.7</td>\n",
       "      <td>51.6</td>\n",
       "      <td>160.0</td>\n",
       "      <td>174.7</td>\n",
       "      <td>824.6</td>\n",
       "      <td>743.0</td>\n",
       "      <td>357.5</td>\n",
       "      <td>197.7</td>\n",
       "      <td>266.9</td>\n",
       "      <td>350.8</td>\n",
       "      <td>48.4</td>\n",
       "    </tr>\n",
       "    <tr>\n",
       "      <th>1</th>\n",
       "      <td>1902</td>\n",
       "      <td>6.7</td>\n",
       "      <td>2.6</td>\n",
       "      <td>57.3</td>\n",
       "      <td>83.9</td>\n",
       "      <td>134.5</td>\n",
       "      <td>390.9</td>\n",
       "      <td>1205.0</td>\n",
       "      <td>315.8</td>\n",
       "      <td>491.6</td>\n",
       "      <td>358.4</td>\n",
       "      <td>158.3</td>\n",
       "      <td>121.5</td>\n",
       "    </tr>\n",
       "    <tr>\n",
       "      <th>2</th>\n",
       "      <td>1903</td>\n",
       "      <td>3.2</td>\n",
       "      <td>18.6</td>\n",
       "      <td>3.1</td>\n",
       "      <td>83.6</td>\n",
       "      <td>249.7</td>\n",
       "      <td>558.6</td>\n",
       "      <td>1022.5</td>\n",
       "      <td>420.2</td>\n",
       "      <td>341.8</td>\n",
       "      <td>354.1</td>\n",
       "      <td>157.0</td>\n",
       "      <td>59.0</td>\n",
       "    </tr>\n",
       "    <tr>\n",
       "      <th>3</th>\n",
       "      <td>1904</td>\n",
       "      <td>23.7</td>\n",
       "      <td>3.0</td>\n",
       "      <td>32.2</td>\n",
       "      <td>71.5</td>\n",
       "      <td>235.7</td>\n",
       "      <td>1098.2</td>\n",
       "      <td>725.5</td>\n",
       "      <td>351.8</td>\n",
       "      <td>222.7</td>\n",
       "      <td>328.1</td>\n",
       "      <td>33.9</td>\n",
       "      <td>3.3</td>\n",
       "    </tr>\n",
       "    <tr>\n",
       "      <th>4</th>\n",
       "      <td>1905</td>\n",
       "      <td>1.2</td>\n",
       "      <td>22.3</td>\n",
       "      <td>9.4</td>\n",
       "      <td>105.9</td>\n",
       "      <td>263.3</td>\n",
       "      <td>850.2</td>\n",
       "      <td>520.5</td>\n",
       "      <td>293.6</td>\n",
       "      <td>217.2</td>\n",
       "      <td>383.5</td>\n",
       "      <td>74.4</td>\n",
       "      <td>0.2</td>\n",
       "    </tr>\n",
       "  </tbody>\n",
       "</table>\n",
       "</div>"
      ],
      "text/plain": [
       "   YEAR   JAN   FEB   MAR    APR    MAY     JUN     JUL    AUG    SEP    OCT  \\\n",
       "0  1901  28.7  44.7  51.6  160.0  174.7   824.6   743.0  357.5  197.7  266.9   \n",
       "1  1902   6.7   2.6  57.3   83.9  134.5   390.9  1205.0  315.8  491.6  358.4   \n",
       "2  1903   3.2  18.6   3.1   83.6  249.7   558.6  1022.5  420.2  341.8  354.1   \n",
       "3  1904  23.7   3.0  32.2   71.5  235.7  1098.2   725.5  351.8  222.7  328.1   \n",
       "4  1905   1.2  22.3   9.4  105.9  263.3   850.2   520.5  293.6  217.2  383.5   \n",
       "\n",
       "     NOV    DEC  \n",
       "0  350.8   48.4  \n",
       "1  158.3  121.5  \n",
       "2  157.0   59.0  \n",
       "3   33.9    3.3  \n",
       "4   74.4    0.2  "
      ]
     },
     "execution_count": 93,
     "metadata": {},
     "output_type": "execute_result"
    }
   ],
   "source": [
    "# Seperating the data which we are gonna use for prediction.\n",
    "X=data.iloc[:,1:14]\n",
    "X.head()"
   ]
  },
  {
   "cell_type": "code",
   "execution_count": 94,
   "metadata": {},
   "outputs": [
    {
     "data": {
      "text/plain": [
       "0      1\n",
       "1      1\n",
       "2      1\n",
       "3      1\n",
       "4      0\n",
       "      ..\n",
       "113    1\n",
       "114    0\n",
       "115    0\n",
       "116    0\n",
       "117    1\n",
       "Name: FLOODS, Length: 118, dtype: int32"
      ]
     },
     "execution_count": 94,
     "metadata": {},
     "output_type": "execute_result"
    }
   ],
   "source": [
    "# Now seperate the flood label from the dataset.\n",
    "y=data.iloc[:,-1]\n",
    "y"
   ]
  },
  {
   "cell_type": "code",
   "execution_count": 95,
   "metadata": {},
   "outputs": [
    {
     "data": {
      "text/html": [
       "<div>\n",
       "<style scoped>\n",
       "    .dataframe tbody tr th:only-of-type {\n",
       "        vertical-align: middle;\n",
       "    }\n",
       "\n",
       "    .dataframe tbody tr th {\n",
       "        vertical-align: top;\n",
       "    }\n",
       "\n",
       "    .dataframe thead th {\n",
       "        text-align: right;\n",
       "    }\n",
       "</style>\n",
       "<table border=\"1\" class=\"dataframe\">\n",
       "  <thead>\n",
       "    <tr style=\"text-align: right;\">\n",
       "      <th></th>\n",
       "      <th>YEAR</th>\n",
       "      <th>JAN</th>\n",
       "      <th>FEB</th>\n",
       "      <th>MAR</th>\n",
       "      <th>APR</th>\n",
       "      <th>MAY</th>\n",
       "      <th>JUN</th>\n",
       "      <th>JUL</th>\n",
       "      <th>AUG</th>\n",
       "      <th>SEP</th>\n",
       "      <th>OCT</th>\n",
       "      <th>NOV</th>\n",
       "      <th>DEC</th>\n",
       "    </tr>\n",
       "  </thead>\n",
       "  <tbody>\n",
       "    <tr>\n",
       "      <th>78</th>\n",
       "      <td>1979</td>\n",
       "      <td>2.4</td>\n",
       "      <td>30.0</td>\n",
       "      <td>11.7</td>\n",
       "      <td>42.0</td>\n",
       "      <td>127.7</td>\n",
       "      <td>582.9</td>\n",
       "      <td>662.2</td>\n",
       "      <td>383.7</td>\n",
       "      <td>211.7</td>\n",
       "      <td>163.8</td>\n",
       "      <td>261.7</td>\n",
       "      <td>23.3</td>\n",
       "    </tr>\n",
       "    <tr>\n",
       "      <th>93</th>\n",
       "      <td>1994</td>\n",
       "      <td>24.3</td>\n",
       "      <td>27.1</td>\n",
       "      <td>18.1</td>\n",
       "      <td>154.5</td>\n",
       "      <td>141.3</td>\n",
       "      <td>845.0</td>\n",
       "      <td>955.5</td>\n",
       "      <td>479.9</td>\n",
       "      <td>212.6</td>\n",
       "      <td>428.4</td>\n",
       "      <td>117.6</td>\n",
       "      <td>6.5</td>\n",
       "    </tr>\n",
       "    <tr>\n",
       "      <th>45</th>\n",
       "      <td>1946</td>\n",
       "      <td>1.8</td>\n",
       "      <td>5.4</td>\n",
       "      <td>108.4</td>\n",
       "      <td>139.8</td>\n",
       "      <td>83.0</td>\n",
       "      <td>919.0</td>\n",
       "      <td>671.7</td>\n",
       "      <td>695.6</td>\n",
       "      <td>199.4</td>\n",
       "      <td>266.1</td>\n",
       "      <td>273.0</td>\n",
       "      <td>202.3</td>\n",
       "    </tr>\n",
       "    <tr>\n",
       "      <th>91</th>\n",
       "      <td>1992</td>\n",
       "      <td>2.4</td>\n",
       "      <td>0.9</td>\n",
       "      <td>0.1</td>\n",
       "      <td>43.0</td>\n",
       "      <td>218.4</td>\n",
       "      <td>819.3</td>\n",
       "      <td>767.8</td>\n",
       "      <td>508.0</td>\n",
       "      <td>297.5</td>\n",
       "      <td>290.7</td>\n",
       "      <td>287.6</td>\n",
       "      <td>3.7</td>\n",
       "    </tr>\n",
       "    <tr>\n",
       "      <th>114</th>\n",
       "      <td>2015</td>\n",
       "      <td>3.1</td>\n",
       "      <td>5.8</td>\n",
       "      <td>50.1</td>\n",
       "      <td>214.1</td>\n",
       "      <td>201.8</td>\n",
       "      <td>563.6</td>\n",
       "      <td>406.0</td>\n",
       "      <td>252.2</td>\n",
       "      <td>292.9</td>\n",
       "      <td>308.1</td>\n",
       "      <td>223.6</td>\n",
       "      <td>79.4</td>\n",
       "    </tr>\n",
       "    <tr>\n",
       "      <th>...</th>\n",
       "      <td>...</td>\n",
       "      <td>...</td>\n",
       "      <td>...</td>\n",
       "      <td>...</td>\n",
       "      <td>...</td>\n",
       "      <td>...</td>\n",
       "      <td>...</td>\n",
       "      <td>...</td>\n",
       "      <td>...</td>\n",
       "      <td>...</td>\n",
       "      <td>...</td>\n",
       "      <td>...</td>\n",
       "      <td>...</td>\n",
       "    </tr>\n",
       "    <tr>\n",
       "      <th>64</th>\n",
       "      <td>1965</td>\n",
       "      <td>9.1</td>\n",
       "      <td>0.9</td>\n",
       "      <td>28.3</td>\n",
       "      <td>109.8</td>\n",
       "      <td>214.5</td>\n",
       "      <td>597.7</td>\n",
       "      <td>465.1</td>\n",
       "      <td>296.1</td>\n",
       "      <td>150.1</td>\n",
       "      <td>183.7</td>\n",
       "      <td>131.7</td>\n",
       "      <td>155.5</td>\n",
       "    </tr>\n",
       "    <tr>\n",
       "      <th>39</th>\n",
       "      <td>1940</td>\n",
       "      <td>0.6</td>\n",
       "      <td>1.5</td>\n",
       "      <td>3.8</td>\n",
       "      <td>126.5</td>\n",
       "      <td>217.4</td>\n",
       "      <td>606.4</td>\n",
       "      <td>877.3</td>\n",
       "      <td>610.8</td>\n",
       "      <td>68.2</td>\n",
       "      <td>257.7</td>\n",
       "      <td>287.5</td>\n",
       "      <td>60.1</td>\n",
       "    </tr>\n",
       "    <tr>\n",
       "      <th>72</th>\n",
       "      <td>1973</td>\n",
       "      <td>0.0</td>\n",
       "      <td>0.3</td>\n",
       "      <td>12.3</td>\n",
       "      <td>131.5</td>\n",
       "      <td>119.9</td>\n",
       "      <td>617.0</td>\n",
       "      <td>583.5</td>\n",
       "      <td>487.5</td>\n",
       "      <td>61.3</td>\n",
       "      <td>260.8</td>\n",
       "      <td>84.5</td>\n",
       "      <td>53.8</td>\n",
       "    </tr>\n",
       "    <tr>\n",
       "      <th>63</th>\n",
       "      <td>1964</td>\n",
       "      <td>1.1</td>\n",
       "      <td>7.8</td>\n",
       "      <td>67.2</td>\n",
       "      <td>83.3</td>\n",
       "      <td>94.8</td>\n",
       "      <td>379.4</td>\n",
       "      <td>754.2</td>\n",
       "      <td>548.0</td>\n",
       "      <td>398.2</td>\n",
       "      <td>325.7</td>\n",
       "      <td>191.7</td>\n",
       "      <td>17.8</td>\n",
       "    </tr>\n",
       "    <tr>\n",
       "      <th>49</th>\n",
       "      <td>1950</td>\n",
       "      <td>0.1</td>\n",
       "      <td>53.7</td>\n",
       "      <td>31.1</td>\n",
       "      <td>68.5</td>\n",
       "      <td>242.0</td>\n",
       "      <td>638.3</td>\n",
       "      <td>905.7</td>\n",
       "      <td>387.3</td>\n",
       "      <td>411.6</td>\n",
       "      <td>250.4</td>\n",
       "      <td>149.2</td>\n",
       "      <td>8.8</td>\n",
       "    </tr>\n",
       "  </tbody>\n",
       "</table>\n",
       "<p>82 rows × 13 columns</p>\n",
       "</div>"
      ],
      "text/plain": [
       "     YEAR   JAN   FEB    MAR    APR    MAY    JUN    JUL    AUG    SEP    OCT  \\\n",
       "78   1979   2.4  30.0   11.7   42.0  127.7  582.9  662.2  383.7  211.7  163.8   \n",
       "93   1994  24.3  27.1   18.1  154.5  141.3  845.0  955.5  479.9  212.6  428.4   \n",
       "45   1946   1.8   5.4  108.4  139.8   83.0  919.0  671.7  695.6  199.4  266.1   \n",
       "91   1992   2.4   0.9    0.1   43.0  218.4  819.3  767.8  508.0  297.5  290.7   \n",
       "114  2015   3.1   5.8   50.1  214.1  201.8  563.6  406.0  252.2  292.9  308.1   \n",
       "..    ...   ...   ...    ...    ...    ...    ...    ...    ...    ...    ...   \n",
       "64   1965   9.1   0.9   28.3  109.8  214.5  597.7  465.1  296.1  150.1  183.7   \n",
       "39   1940   0.6   1.5    3.8  126.5  217.4  606.4  877.3  610.8   68.2  257.7   \n",
       "72   1973   0.0   0.3   12.3  131.5  119.9  617.0  583.5  487.5   61.3  260.8   \n",
       "63   1964   1.1   7.8   67.2   83.3   94.8  379.4  754.2  548.0  398.2  325.7   \n",
       "49   1950   0.1  53.7   31.1   68.5  242.0  638.3  905.7  387.3  411.6  250.4   \n",
       "\n",
       "       NOV    DEC  \n",
       "78   261.7   23.3  \n",
       "93   117.6    6.5  \n",
       "45   273.0  202.3  \n",
       "91   287.6    3.7  \n",
       "114  223.6   79.4  \n",
       "..     ...    ...  \n",
       "64   131.7  155.5  \n",
       "39   287.5   60.1  \n",
       "72    84.5   53.8  \n",
       "63   191.7   17.8  \n",
       "49   149.2    8.8  \n",
       "\n",
       "[82 rows x 13 columns]"
      ]
     },
     "execution_count": 95,
     "metadata": {},
     "output_type": "execute_result"
    }
   ],
   "source": [
    "##dividing the dataset into training dataset and test dataset. \n",
    "from sklearn.model_selection import train_test_split\n",
    "X_train,X_test,y_train,y_test=train_test_split(X,y,test_size=0.3)\n",
    "X_train"
   ]
  },
  {
   "cell_type": "code",
   "execution_count": 96,
   "metadata": {},
   "outputs": [
    {
     "name": "stdout",
     "output_type": "stream",
     "text": [
      "     YEAR   JAN   FEB   MAR    APR    MAY    JUN     JUL     AUG    SEP  \\\n",
      "68   1969   2.7   6.4  19.4  117.2  227.4  550.5   818.8   284.8  216.4   \n",
      "55   1956   7.9  11.7  15.1  151.6  351.3  755.4   466.8   319.5  178.4   \n",
      "98   1999   1.8  23.8  21.4  111.6  453.2  607.3   700.4   266.3   88.0   \n",
      "19   1920  35.2   5.5  24.1  172.0   87.7  964.3   940.8   235.0  178.0   \n",
      "6    1907  18.8   4.8  55.7  170.8  101.4  770.9   760.4   981.5  225.0   \n",
      "15   1916   0.0   7.8  22.0   82.4  199.0  920.2   513.9   396.9  339.3   \n",
      "27   1928  12.7  65.9  51.3  121.1   81.9  590.7   420.6   553.2   75.9   \n",
      "83   1984  36.8  60.0  95.3  162.1   84.6  842.6   653.6   284.4  171.1   \n",
      "11   1912   1.9  15.0  11.2  122.7  217.3  948.2   833.6   534.4  136.8   \n",
      "82   1983   0.2   1.5   0.9   13.1   76.0  322.8   583.2   579.9  421.1   \n",
      "48   1949   0.6   1.8   4.5   98.1  440.0  536.3   758.7   445.2  354.5   \n",
      "30   1931   3.3   0.3  19.2  126.9  131.7  541.7   653.9  1199.2  163.2   \n",
      "115  2016   2.4   3.8  35.9  143.0  186.4  522.2   412.3   325.5  173.2   \n",
      "40   1941  15.9   4.6  12.7  101.9  417.5  797.6   517.9   458.5  257.9   \n",
      "76   1977   1.1  15.7  28.3  102.3  306.4  599.6   753.3   234.2  201.3   \n",
      "22   1923  24.7   0.7  78.9   43.5   80.0  722.5  1008.7   943.0  254.3   \n",
      "38   1939  13.6   3.6  24.9  172.8  105.1  625.8   749.6   459.9  134.1   \n",
      "12   1913   3.1   5.2  20.7   75.7  198.8  541.7   763.2   247.2  176.9   \n",
      "8    1909  54.1  11.8  61.3   93.8  473.2  704.7   782.3   258.0  195.4   \n",
      "2    1903   3.2  18.6   3.1   83.6  249.7  558.6  1022.5   420.2  341.8   \n",
      "29   1930  10.8  10.8  39.0  102.7  404.9  633.1   401.7   273.4  411.5   \n",
      "88   1989  10.3   0.0  30.1  141.5  169.4  657.5   450.7   285.5  271.1   \n",
      "16   1917   2.9  47.6  79.4   38.1  122.9  703.7   342.7   335.1  470.3   \n",
      "46   1947  22.2  27.3  98.0  142.2   85.7  556.1   669.3   739.6  394.5   \n",
      "25   1926  28.6   5.8  23.1   55.8  222.6  563.9   885.2   536.0  322.7   \n",
      "117  2018  29.1  52.1  48.6  116.4  183.8  625.4  1048.5  1398.9  423.6   \n",
      "62   1963  30.2  24.8  69.8   96.3  157.1  393.3   720.2   511.0  223.9   \n",
      "33   1934  74.5   1.7  47.7   92.4  106.7  852.9   415.0   337.2   48.4   \n",
      "28   1929  12.8  29.8  58.9  210.7  148.0  946.6   844.0   293.9  268.9   \n",
      "73   1974   1.6   5.4  16.0  128.0  221.5  266.9  1004.2   533.6  383.6   \n",
      "7    1908   8.0  20.8  38.2  102.9  142.6  592.6   902.2   352.9  175.9   \n",
      "77   1978   3.3  14.7  31.4   73.9  396.8  758.1   686.7   516.8  119.4   \n",
      "65   1966   3.0   6.9  67.7  167.4   95.2  496.2   601.9   202.1  293.2   \n",
      "37   1938   0.3  79.0  53.3  164.5  179.6  681.6   648.6   287.9  223.2   \n",
      "74   1975   5.2  21.4  63.4  123.8  162.2  864.4   531.3   675.9  457.7   \n",
      "61   1962  28.4  54.7  39.6   95.1  472.4  244.9   951.1   510.7  394.9   \n",
      "\n",
      "       OCT    NOV    DEC  \n",
      "68   235.6  119.4   66.3  \n",
      "55   353.3  178.2    9.1  \n",
      "98   567.9   68.1    4.9  \n",
      "19   350.1  302.3    8.2  \n",
      "6    309.7  219.1   52.8  \n",
      "15   320.7  134.3    8.9  \n",
      "27   321.5  155.2   52.7  \n",
      "83   286.0   67.7   18.0  \n",
      "11   469.5  138.7   22.0  \n",
      "82   136.2  116.5   69.1  \n",
      "48   229.1   71.9    1.8  \n",
      "30   149.3  164.3  106.5  \n",
      "115  225.9  125.4   23.6  \n",
      "40   221.6  220.5   84.6  \n",
      "76   437.0  361.7    6.7  \n",
      "22   203.1   83.9   41.6  \n",
      "38   339.8  298.1   10.2  \n",
      "12   422.5  109.9   45.8  \n",
      "8    212.1  171.1   32.3  \n",
      "2    354.1  157.0   59.0  \n",
      "29   433.9  207.0   89.2  \n",
      "88   308.0   92.9    5.6  \n",
      "16   264.1  256.4   41.6  \n",
      "46   183.7   32.4   47.0  \n",
      "25   216.7   88.8   16.2  \n",
      "117  356.1  125.4   65.1  \n",
      "62   282.6   93.4   48.4  \n",
      "33   335.9   93.4    4.9  \n",
      "28   350.4  158.2   39.4  \n",
      "73   142.1   61.0    3.6  \n",
      "7    253.3   47.9   11.0  \n",
      "77   171.0  365.6   39.0  \n",
      "65   392.3  245.4   50.5  \n",
      "37   223.7   69.5   22.9  \n",
      "74   368.9  204.3   19.9  \n",
      "61   475.6   31.5   76.9  \n"
     ]
    }
   ],
   "source": [
    "print(X_test)"
   ]
  },
  {
   "cell_type": "code",
   "execution_count": 97,
   "metadata": {},
   "outputs": [
    {
     "name": "stdout",
     "output_type": "stream",
     "text": [
      "78     0\n",
      "93     1\n",
      "45     1\n",
      "91     1\n",
      "114    0\n",
      "      ..\n",
      "64     0\n",
      "39     1\n",
      "72     0\n",
      "63     0\n",
      "49     1\n",
      "Name: FLOODS, Length: 82, dtype: int32\n"
     ]
    }
   ],
   "source": [
    "print(y_train)"
   ]
  },
  {
   "cell_type": "code",
   "execution_count": 98,
   "metadata": {},
   "outputs": [
    {
     "name": "stdout",
     "output_type": "stream",
     "text": [
      "68     0\n",
      "55     0\n",
      "98     0\n",
      "19     1\n",
      "6      1\n",
      "15     1\n",
      "27     0\n",
      "83     0\n",
      "11     1\n",
      "82     0\n",
      "48     1\n",
      "30     1\n",
      "115    0\n",
      "40     1\n",
      "76     1\n",
      "22     1\n",
      "38     1\n",
      "12     0\n",
      "8      1\n",
      "2      1\n",
      "29     1\n",
      "88     0\n",
      "16     0\n",
      "46     1\n",
      "25     1\n",
      "117    1\n",
      "62     0\n",
      "33     0\n",
      "28     1\n",
      "73     0\n",
      "7      0\n",
      "77     1\n",
      "65     0\n",
      "37     0\n",
      "74     1\n",
      "61     1\n",
      "Name: FLOODS, dtype: int32\n"
     ]
    }
   ],
   "source": [
    "print(y_test)"
   ]
  },
  {
   "cell_type": "markdown",
   "metadata": {},
   "source": [
    "## Feature Scaling"
   ]
  },
  {
   "cell_type": "code",
   "execution_count": 99,
   "metadata": {},
   "outputs": [
    {
     "data": {
      "text/plain": [
       "array([[0.        , 0.34371257, 0.56582278, ..., 0.39727673, 0.95570189,\n",
       "        0.2388724 ],\n",
       "       [0.00854701, 0.08023952, 0.03291139, ..., 0.5804966 , 0.37952709,\n",
       "        0.60039565],\n",
       "       [0.01709402, 0.03832335, 0.23544304, ..., 0.57188626, 0.37563604,\n",
       "        0.29129575],\n",
       "       ...,\n",
       "       [0.98290598, 0.02874251, 0.04810127, ..., 0.31517821, 0.28105358,\n",
       "        0.11622156],\n",
       "       [0.99145299, 0.02275449, 0.08607595, ..., 0.24809772, 0.18258007,\n",
       "        0.18793274],\n",
       "       [1.        , 0.34850299, 0.65949367, ..., 0.57589107, 0.28105358,\n",
       "        0.3214639 ]])"
      ]
     },
     "execution_count": 99,
     "metadata": {},
     "output_type": "execute_result"
    }
   ],
   "source": [
    "# Scaling the data between 0 and 1.\n",
    "from sklearn import preprocessing\n",
    "minmax = preprocessing.MinMaxScaler(feature_range=(0,1))\n",
    "minmax.fit(X).transform(X)"
   ]
  },
  {
   "cell_type": "code",
   "execution_count": 100,
   "metadata": {},
   "outputs": [
    {
     "name": "stdout",
     "output_type": "stream",
     "text": [
      "     YEAR   JAN   FEB    MAR    APR    MAY    JUN    JUL    AUG    SEP    OCT  \\\n",
      "78   1979   2.4  30.0   11.7   42.0  127.7  582.9  662.2  383.7  211.7  163.8   \n",
      "93   1994  24.3  27.1   18.1  154.5  141.3  845.0  955.5  479.9  212.6  428.4   \n",
      "45   1946   1.8   5.4  108.4  139.8   83.0  919.0  671.7  695.6  199.4  266.1   \n",
      "91   1992   2.4   0.9    0.1   43.0  218.4  819.3  767.8  508.0  297.5  290.7   \n",
      "114  2015   3.1   5.8   50.1  214.1  201.8  563.6  406.0  252.2  292.9  308.1   \n",
      "..    ...   ...   ...    ...    ...    ...    ...    ...    ...    ...    ...   \n",
      "64   1965   9.1   0.9   28.3  109.8  214.5  597.7  465.1  296.1  150.1  183.7   \n",
      "39   1940   0.6   1.5    3.8  126.5  217.4  606.4  877.3  610.8   68.2  257.7   \n",
      "72   1973   0.0   0.3   12.3  131.5  119.9  617.0  583.5  487.5   61.3  260.8   \n",
      "63   1964   1.1   7.8   67.2   83.3   94.8  379.4  754.2  548.0  398.2  325.7   \n",
      "49   1950   0.1  53.7   31.1   68.5  242.0  638.3  905.7  387.3  411.6  250.4   \n",
      "\n",
      "       NOV    DEC  \n",
      "78   261.7   23.3  \n",
      "93   117.6    6.5  \n",
      "45   273.0  202.3  \n",
      "91   287.6    3.7  \n",
      "114  223.6   79.4  \n",
      "..     ...    ...  \n",
      "64   131.7  155.5  \n",
      "39   287.5   60.1  \n",
      "72    84.5   53.8  \n",
      "63   191.7   17.8  \n",
      "49   149.2    8.8  \n",
      "\n",
      "[82 rows x 13 columns]\n"
     ]
    }
   ],
   "source": [
    "print(X_train)"
   ]
  },
  {
   "cell_type": "code",
   "execution_count": 101,
   "metadata": {},
   "outputs": [
    {
     "name": "stdout",
     "output_type": "stream",
     "text": [
      "     YEAR   JAN   FEB   MAR    APR    MAY    JUN     JUL     AUG    SEP  \\\n",
      "68   1969   2.7   6.4  19.4  117.2  227.4  550.5   818.8   284.8  216.4   \n",
      "55   1956   7.9  11.7  15.1  151.6  351.3  755.4   466.8   319.5  178.4   \n",
      "98   1999   1.8  23.8  21.4  111.6  453.2  607.3   700.4   266.3   88.0   \n",
      "19   1920  35.2   5.5  24.1  172.0   87.7  964.3   940.8   235.0  178.0   \n",
      "6    1907  18.8   4.8  55.7  170.8  101.4  770.9   760.4   981.5  225.0   \n",
      "15   1916   0.0   7.8  22.0   82.4  199.0  920.2   513.9   396.9  339.3   \n",
      "27   1928  12.7  65.9  51.3  121.1   81.9  590.7   420.6   553.2   75.9   \n",
      "83   1984  36.8  60.0  95.3  162.1   84.6  842.6   653.6   284.4  171.1   \n",
      "11   1912   1.9  15.0  11.2  122.7  217.3  948.2   833.6   534.4  136.8   \n",
      "82   1983   0.2   1.5   0.9   13.1   76.0  322.8   583.2   579.9  421.1   \n",
      "48   1949   0.6   1.8   4.5   98.1  440.0  536.3   758.7   445.2  354.5   \n",
      "30   1931   3.3   0.3  19.2  126.9  131.7  541.7   653.9  1199.2  163.2   \n",
      "115  2016   2.4   3.8  35.9  143.0  186.4  522.2   412.3   325.5  173.2   \n",
      "40   1941  15.9   4.6  12.7  101.9  417.5  797.6   517.9   458.5  257.9   \n",
      "76   1977   1.1  15.7  28.3  102.3  306.4  599.6   753.3   234.2  201.3   \n",
      "22   1923  24.7   0.7  78.9   43.5   80.0  722.5  1008.7   943.0  254.3   \n",
      "38   1939  13.6   3.6  24.9  172.8  105.1  625.8   749.6   459.9  134.1   \n",
      "12   1913   3.1   5.2  20.7   75.7  198.8  541.7   763.2   247.2  176.9   \n",
      "8    1909  54.1  11.8  61.3   93.8  473.2  704.7   782.3   258.0  195.4   \n",
      "2    1903   3.2  18.6   3.1   83.6  249.7  558.6  1022.5   420.2  341.8   \n",
      "29   1930  10.8  10.8  39.0  102.7  404.9  633.1   401.7   273.4  411.5   \n",
      "88   1989  10.3   0.0  30.1  141.5  169.4  657.5   450.7   285.5  271.1   \n",
      "16   1917   2.9  47.6  79.4   38.1  122.9  703.7   342.7   335.1  470.3   \n",
      "46   1947  22.2  27.3  98.0  142.2   85.7  556.1   669.3   739.6  394.5   \n",
      "25   1926  28.6   5.8  23.1   55.8  222.6  563.9   885.2   536.0  322.7   \n",
      "117  2018  29.1  52.1  48.6  116.4  183.8  625.4  1048.5  1398.9  423.6   \n",
      "62   1963  30.2  24.8  69.8   96.3  157.1  393.3   720.2   511.0  223.9   \n",
      "33   1934  74.5   1.7  47.7   92.4  106.7  852.9   415.0   337.2   48.4   \n",
      "28   1929  12.8  29.8  58.9  210.7  148.0  946.6   844.0   293.9  268.9   \n",
      "73   1974   1.6   5.4  16.0  128.0  221.5  266.9  1004.2   533.6  383.6   \n",
      "7    1908   8.0  20.8  38.2  102.9  142.6  592.6   902.2   352.9  175.9   \n",
      "77   1978   3.3  14.7  31.4   73.9  396.8  758.1   686.7   516.8  119.4   \n",
      "65   1966   3.0   6.9  67.7  167.4   95.2  496.2   601.9   202.1  293.2   \n",
      "37   1938   0.3  79.0  53.3  164.5  179.6  681.6   648.6   287.9  223.2   \n",
      "74   1975   5.2  21.4  63.4  123.8  162.2  864.4   531.3   675.9  457.7   \n",
      "61   1962  28.4  54.7  39.6   95.1  472.4  244.9   951.1   510.7  394.9   \n",
      "\n",
      "       OCT    NOV    DEC  \n",
      "68   235.6  119.4   66.3  \n",
      "55   353.3  178.2    9.1  \n",
      "98   567.9   68.1    4.9  \n",
      "19   350.1  302.3    8.2  \n",
      "6    309.7  219.1   52.8  \n",
      "15   320.7  134.3    8.9  \n",
      "27   321.5  155.2   52.7  \n",
      "83   286.0   67.7   18.0  \n",
      "11   469.5  138.7   22.0  \n",
      "82   136.2  116.5   69.1  \n",
      "48   229.1   71.9    1.8  \n",
      "30   149.3  164.3  106.5  \n",
      "115  225.9  125.4   23.6  \n",
      "40   221.6  220.5   84.6  \n",
      "76   437.0  361.7    6.7  \n",
      "22   203.1   83.9   41.6  \n",
      "38   339.8  298.1   10.2  \n",
      "12   422.5  109.9   45.8  \n",
      "8    212.1  171.1   32.3  \n",
      "2    354.1  157.0   59.0  \n",
      "29   433.9  207.0   89.2  \n",
      "88   308.0   92.9    5.6  \n",
      "16   264.1  256.4   41.6  \n",
      "46   183.7   32.4   47.0  \n",
      "25   216.7   88.8   16.2  \n",
      "117  356.1  125.4   65.1  \n",
      "62   282.6   93.4   48.4  \n",
      "33   335.9   93.4    4.9  \n",
      "28   350.4  158.2   39.4  \n",
      "73   142.1   61.0    3.6  \n",
      "7    253.3   47.9   11.0  \n",
      "77   171.0  365.6   39.0  \n",
      "65   392.3  245.4   50.5  \n",
      "37   223.7   69.5   22.9  \n",
      "74   368.9  204.3   19.9  \n",
      "61   475.6   31.5   76.9  \n"
     ]
    }
   ],
   "source": [
    "print(X_test)"
   ]
  },
  {
   "cell_type": "markdown",
   "metadata": {},
   "source": [
    "## MODELS BUILDING:"
   ]
  },
  {
   "cell_type": "code",
   "execution_count": 145,
   "metadata": {},
   "outputs": [
    {
     "data": {
      "text/plain": [
       "KNeighborsClassifier()"
      ]
     },
     "execution_count": 145,
     "metadata": {},
     "output_type": "execute_result"
    }
   ],
   "source": [
    "## Training the K-NN model on the Training set\n",
    "from sklearn.neighbors import KNeighborsClassifier\n",
    "classifier = KNeighborsClassifier(n_neighbors = 5, metric = 'minkowski', p = 2)\n",
    "classifier.fit(X_train, y_train)"
   ]
  },
  {
   "cell_type": "markdown",
   "metadata": {},
   "source": [
    "## Predicting the Test set results"
   ]
  },
  {
   "cell_type": "code",
   "execution_count": 146,
   "metadata": {},
   "outputs": [
    {
     "data": {
      "text/plain": [
       "array([0, 0, 0, 1, 1, 1, 0, 0, 1, 0, 1, 1, 0, 1, 1, 1, 1, 0, 1, 1, 0, 0,\n",
       "       0, 0, 0, 1, 0, 0, 1, 0, 0, 1, 0, 0, 1, 1])"
      ]
     },
     "execution_count": 146,
     "metadata": {},
     "output_type": "execute_result"
    }
   ],
   "source": [
    "y_pred = classifier.predict(X_test)\n",
    "y_pred\n"
   ]
  },
  {
   "cell_type": "code",
   "execution_count": 147,
   "metadata": {},
   "outputs": [
    {
     "name": "stdout",
     "output_type": "stream",
     "text": [
      "Actual Values for the Floods:\n",
      "68     0\n",
      "55     0\n",
      "98     0\n",
      "19     1\n",
      "6      1\n",
      "15     1\n",
      "27     0\n",
      "83     0\n",
      "11     1\n",
      "82     0\n",
      "48     1\n",
      "30     1\n",
      "115    0\n",
      "40     1\n",
      "76     1\n",
      "22     1\n",
      "38     1\n",
      "12     0\n",
      "8      1\n",
      "2      1\n",
      "29     1\n",
      "88     0\n",
      "16     0\n",
      "46     1\n",
      "25     1\n",
      "117    1\n",
      "62     0\n",
      "33     0\n",
      "28     1\n",
      "73     0\n",
      "7      0\n",
      "77     1\n",
      "65     0\n",
      "37     0\n",
      "74     1\n",
      "61     1\n",
      "Name: FLOODS, dtype: int32\n"
     ]
    }
   ],
   "source": [
    "print(\"Actual Values for the Floods:\")\n",
    "print(y_test)"
   ]
  },
  {
   "cell_type": "code",
   "execution_count": 148,
   "metadata": {},
   "outputs": [],
   "source": [
    "# Scaling the dataset.\n",
    "from sklearn.model_selection import cross_val_score,cross_val_predict\n",
    "knn_acc=cross_val_score(classifier,X_train,y_train,cv=3,scoring='accuracy',n_jobs=-1)\n",
    "knn_proba=cross_val_predict(classifier,X_train,y_train,cv=3,method='predict_proba')"
   ]
  },
  {
   "cell_type": "code",
   "execution_count": 149,
   "metadata": {},
   "outputs": [
    {
     "data": {
      "text/plain": [
       "array([0.82142857, 0.81481481, 0.81481481])"
      ]
     },
     "execution_count": 149,
     "metadata": {},
     "output_type": "execute_result"
    }
   ],
   "source": [
    "knn_acc"
   ]
  },
  {
   "cell_type": "code",
   "execution_count": 150,
   "metadata": {},
   "outputs": [
    {
     "data": {
      "text/plain": [
       "array([[0.8, 0.2],\n",
       "       [0.2, 0.8],\n",
       "       [0. , 1. ],\n",
       "       [0. , 1. ],\n",
       "       [1. , 0. ],\n",
       "       [0.6, 0.4],\n",
       "       [1. , 0. ],\n",
       "       [0.2, 0.8],\n",
       "       [0.8, 0.2],\n",
       "       [1. , 0. ],\n",
       "       [1. , 0. ],\n",
       "       [0.6, 0.4],\n",
       "       [0.4, 0.6],\n",
       "       [0.2, 0.8],\n",
       "       [0.6, 0.4],\n",
       "       [0. , 1. ],\n",
       "       [0.4, 0.6],\n",
       "       [1. , 0. ],\n",
       "       [0.8, 0.2],\n",
       "       [1. , 0. ],\n",
       "       [1. , 0. ],\n",
       "       [0.8, 0.2],\n",
       "       [0.4, 0.6],\n",
       "       [0.8, 0.2],\n",
       "       [0. , 1. ],\n",
       "       [0.4, 0.6],\n",
       "       [0.2, 0.8],\n",
       "       [0.4, 0.6],\n",
       "       [0. , 1. ],\n",
       "       [0.4, 0.6],\n",
       "       [0.8, 0.2],\n",
       "       [0. , 1. ],\n",
       "       [0.8, 0.2],\n",
       "       [1. , 0. ],\n",
       "       [1. , 0. ],\n",
       "       [0.6, 0.4],\n",
       "       [0.6, 0.4],\n",
       "       [0.4, 0.6],\n",
       "       [0.4, 0.6],\n",
       "       [0.2, 0.8],\n",
       "       [0.4, 0.6],\n",
       "       [0.2, 0.8],\n",
       "       [0.2, 0.8],\n",
       "       [0.8, 0.2],\n",
       "       [0.2, 0.8],\n",
       "       [0.4, 0.6],\n",
       "       [0.4, 0.6],\n",
       "       [0.4, 0.6],\n",
       "       [1. , 0. ],\n",
       "       [1. , 0. ],\n",
       "       [0. , 1. ],\n",
       "       [0.4, 0.6],\n",
       "       [1. , 0. ],\n",
       "       [0.4, 0.6],\n",
       "       [1. , 0. ],\n",
       "       [1. , 0. ],\n",
       "       [0.4, 0.6],\n",
       "       [0.8, 0.2],\n",
       "       [0.8, 0.2],\n",
       "       [0.2, 0.8],\n",
       "       [1. , 0. ],\n",
       "       [0.6, 0.4],\n",
       "       [0.6, 0.4],\n",
       "       [0.6, 0.4],\n",
       "       [1. , 0. ],\n",
       "       [0.6, 0.4],\n",
       "       [0.8, 0.2],\n",
       "       [0.4, 0.6],\n",
       "       [0. , 1. ],\n",
       "       [0.4, 0.6],\n",
       "       [0. , 1. ],\n",
       "       [1. , 0. ],\n",
       "       [0. , 1. ],\n",
       "       [0.6, 0.4],\n",
       "       [0.8, 0.2],\n",
       "       [0.6, 0.4],\n",
       "       [1. , 0. ],\n",
       "       [1. , 0. ],\n",
       "       [0.8, 0.2],\n",
       "       [1. , 0. ],\n",
       "       [0.8, 0.2],\n",
       "       [0. , 1. ]])"
      ]
     },
     "execution_count": 150,
     "metadata": {},
     "output_type": "execute_result"
    }
   ],
   "source": [
    "knn_proba"
   ]
  },
  {
   "cell_type": "code",
   "execution_count": 170,
   "metadata": {},
   "outputs": [
    {
     "name": "stdout",
     "output_type": "stream",
     "text": [
      "\n",
      "Accuracy Score:91.666667\n",
      "Recall Score:85.000000\n",
      "[[16  0]\n",
      " [ 3 17]]\n",
      "              precision    recall  f1-score   support\n",
      "\n",
      "           0       0.84      1.00      0.91        16\n",
      "           1       1.00      0.85      0.92        20\n",
      "\n",
      "    accuracy                           0.92        36\n",
      "   macro avg       0.92      0.93      0.92        36\n",
      "weighted avg       0.93      0.92      0.92        36\n",
      "\n"
     ]
    },
    {
     "data": {
      "image/png": "[encoded data removed]",
      "text/plain": [
       "<Figure size 432x288 with 2 Axes>"
      ]
     },
     "metadata": {
      "needs_background": "light"
     },
     "output_type": "display_data"
    }
   ],
   "source": [
    "from sklearn.metrics import accuracy_score,recall_score,roc_auc_score,confusion_matrix\n",
    "cm = confusion_matrix(y_test, y_pred)\n",
    "print(\"\\nAccuracy Score:%f\"%(accuracy_score(y_test,y_pred)*100))\n",
    "print(\"Recall Score:%f\"%(recall_score(y_test,y_pred)*100))\n",
    "print(confusion_matrix(y_test,y_pred))\n",
    "sns.heatmap(cm, annot=True)\n",
    "from sklearn.metrics import classification_report\n",
    "print(classification_report(y_test, y_pred))"
   ]
  },
  {
   "cell_type": "code",
   "execution_count": 152,
   "metadata": {},
   "outputs": [],
   "source": [
    "from sklearn import metrics"
   ]
  },
  {
   "cell_type": "code",
   "execution_count": 153,
   "metadata": {},
   "outputs": [],
   "source": [
    "y_pred_proba= classifier.predict_proba(X_test) [::,1]"
   ]
  },
  {
   "cell_type": "code",
   "execution_count": 154,
   "metadata": {},
   "outputs": [],
   "source": [
    "false_positive_rate, true_positive_rate, _ = metrics.roc_curve(y_test, y_pred_proba)"
   ]
  },
  {
   "cell_type": "code",
   "execution_count": 155,
   "metadata": {},
   "outputs": [],
   "source": [
    "auc= metrics.roc_auc_score(y_test, y_pred_proba)"
   ]
  },
  {
   "cell_type": "code",
   "execution_count": 156,
   "metadata": {},
   "outputs": [
    {
     "data": {
      "text/plain": [
       "<matplotlib.legend.Legend at 0x18350dd23d0>"
      ]
     },
     "execution_count": 156,
     "metadata": {},
     "output_type": "execute_result"
    },
    {
     "data": {
      "image/png": "[encoded data removed]",
      "text/plain": [
       "<Figure size 432x288 with 1 Axes>"
      ]
     },
     "metadata": {
      "needs_background": "light"
     },
     "output_type": "display_data"
    }
   ],
   "source": [
    "plt.plot(false_positive_rate, true_positive_rate,label=\"AUC=\"+str(auc))\n",
    "plt.title('ROC Curve')\n",
    "plt.ylabel('True Positive Rate')\n",
    "plt.xlabel('false Positive Rate')\n",
    "plt.legend(loc=4)"
   ]
  },
  {
   "cell_type": "code",
   "execution_count": 175,
   "metadata": {},
   "outputs": [
    {
     "name": "stderr",
     "output_type": "stream",
     "text": [
      "C:\\Users\\selor\\anaconda3\\lib\\site-packages\\sklearn\\linear_model\\_logistic.py:814: ConvergenceWarning: lbfgs failed to converge (status=1):\n",
      "STOP: TOTAL NO. of ITERATIONS REACHED LIMIT.\n",
      "\n",
      "Increase the number of iterations (max_iter) or scale the data as shown in:\n",
      "    https://scikit-learn.org/stable/modules/preprocessing.html\n",
      "Please also refer to the documentation for alternative solver options:\n",
      "    https://scikit-learn.org/stable/modules/linear_model.html#logistic-regression\n",
      "  n_iter_i = _check_optimize_result(\n",
      "C:\\Users\\selor\\anaconda3\\lib\\site-packages\\sklearn\\linear_model\\_logistic.py:814: ConvergenceWarning: lbfgs failed to converge (status=1):\n",
      "STOP: TOTAL NO. of ITERATIONS REACHED LIMIT.\n",
      "\n",
      "Increase the number of iterations (max_iter) or scale the data as shown in:\n",
      "    https://scikit-learn.org/stable/modules/preprocessing.html\n",
      "Please also refer to the documentation for alternative solver options:\n",
      "    https://scikit-learn.org/stable/modules/linear_model.html#logistic-regression\n",
      "  n_iter_i = _check_optimize_result(\n",
      "C:\\Users\\selor\\anaconda3\\lib\\site-packages\\sklearn\\linear_model\\_logistic.py:814: ConvergenceWarning: lbfgs failed to converge (status=1):\n",
      "STOP: TOTAL NO. of ITERATIONS REACHED LIMIT.\n",
      "\n",
      "Increase the number of iterations (max_iter) or scale the data as shown in:\n",
      "    https://scikit-learn.org/stable/modules/preprocessing.html\n",
      "Please also refer to the documentation for alternative solver options:\n",
      "    https://scikit-learn.org/stable/modules/linear_model.html#logistic-regression\n",
      "  n_iter_i = _check_optimize_result(\n",
      "C:\\Users\\selor\\anaconda3\\lib\\site-packages\\sklearn\\linear_model\\_logistic.py:814: ConvergenceWarning: lbfgs failed to converge (status=1):\n",
      "STOP: TOTAL NO. of ITERATIONS REACHED LIMIT.\n",
      "\n",
      "Increase the number of iterations (max_iter) or scale the data as shown in:\n",
      "    https://scikit-learn.org/stable/modules/preprocessing.html\n",
      "Please also refer to the documentation for alternative solver options:\n",
      "    https://scikit-learn.org/stable/modules/linear_model.html#logistic-regression\n",
      "  n_iter_i = _check_optimize_result(\n"
     ]
    }
   ],
   "source": [
    "## Logistic Regression to predict\n",
    "\n",
    "from sklearn.model_selection import cross_val_score,cross_val_predict\n",
    "from sklearn.linear_model import LogisticRegression\n",
    "lr=LogisticRegression()\n",
    "lr.fit(X_train,y_train)\n",
    "lr_acc=cross_val_score(lr,X_train,y_train,cv=3,scoring='accuracy',n_jobs=-1)\n",
    "lr_proba=cross_val_predict(lr,X_train,y_train,cv=3,method='predict_proba')"
   ]
  },
  {
   "cell_type": "code",
   "execution_count": 176,
   "metadata": {},
   "outputs": [
    {
     "data": {
      "text/plain": [
       "array([0.85714286, 0.92592593, 0.85185185])"
      ]
     },
     "execution_count": 176,
     "metadata": {},
     "output_type": "execute_result"
    }
   ],
   "source": [
    "lr_acc"
   ]
  },
  {
   "cell_type": "code",
   "execution_count": 177,
   "metadata": {},
   "outputs": [
    {
     "data": {
      "text/plain": [
       "array([[9.99999999e-01, 1.09727020e-09],\n",
       "       [2.89797897e-09, 9.99999997e-01],\n",
       "       [0.00000000e+00, 1.00000000e+00],\n",
       "       [7.83795251e-12, 1.00000000e+00],\n",
       "       [1.00000000e+00, 9.13816509e-17],\n",
       "       [9.99804472e-01, 1.95527606e-04],\n",
       "       [1.00000000e+00, 1.12429634e-18],\n",
       "       [2.86273970e-07, 9.99999714e-01],\n",
       "       [9.99999888e-01, 1.12061527e-07],\n",
       "       [1.00000000e+00, 8.85314087e-18],\n",
       "       [1.00000000e+00, 3.42444789e-18],\n",
       "       [6.86245579e-01, 3.13754421e-01],\n",
       "       [9.97683007e-01, 2.31699282e-03],\n",
       "       [7.99360578e-15, 1.00000000e+00],\n",
       "       [4.40819374e-01, 5.59180626e-01],\n",
       "       [0.00000000e+00, 1.00000000e+00],\n",
       "       [5.09853032e-04, 9.99490147e-01],\n",
       "       [1.00000000e+00, 5.36496101e-19],\n",
       "       [9.99999959e-01, 4.14528087e-08],\n",
       "       [1.00000000e+00, 1.86469689e-26],\n",
       "       [1.00000000e+00, 1.20285208e-20],\n",
       "       [1.00000000e+00, 5.30209655e-17],\n",
       "       [9.99986053e-01, 1.39465675e-05],\n",
       "       [8.38636495e-01, 1.61363505e-01],\n",
       "       [6.88338275e-15, 1.00000000e+00],\n",
       "       [4.54227261e-08, 9.99999955e-01],\n",
       "       [2.38959963e-11, 1.00000000e+00],\n",
       "       [7.17551705e-08, 9.99999928e-01],\n",
       "       [1.89774883e-06, 9.99998102e-01],\n",
       "       [2.00598855e-08, 9.99999980e-01],\n",
       "       [4.20910456e-01, 5.79089544e-01],\n",
       "       [1.11022302e-15, 1.00000000e+00],\n",
       "       [9.99044516e-01, 9.55484290e-04],\n",
       "       [1.00000000e+00, 8.17597401e-19],\n",
       "       [1.00000000e+00, 1.15171291e-11],\n",
       "       [1.00000000e+00, 2.61975454e-12],\n",
       "       [2.02580832e-06, 9.99997974e-01],\n",
       "       [6.30295348e-03, 9.93697047e-01],\n",
       "       [2.65527148e-02, 9.73447285e-01],\n",
       "       [1.45274974e-04, 9.99854725e-01],\n",
       "       [1.09666225e-05, 9.99989033e-01],\n",
       "       [2.90758753e-06, 9.99997092e-01],\n",
       "       [0.00000000e+00, 1.00000000e+00],\n",
       "       [1.00000000e+00, 8.31592988e-17],\n",
       "       [1.02241356e-07, 9.99999898e-01],\n",
       "       [2.83242464e-01, 7.16757536e-01],\n",
       "       [8.70855628e-08, 9.99999913e-01],\n",
       "       [2.34614905e-03, 9.97653851e-01],\n",
       "       [1.00000000e+00, 1.89314560e-25],\n",
       "       [1.00000000e+00, 3.22345573e-18],\n",
       "       [2.22044605e-16, 1.00000000e+00],\n",
       "       [5.79840710e-01, 4.20159290e-01],\n",
       "       [1.00000000e+00, 9.80657185e-24],\n",
       "       [8.58735419e-02, 9.14126458e-01],\n",
       "       [1.00000000e+00, 1.06064844e-27],\n",
       "       [1.00000000e+00, 4.94197158e-20],\n",
       "       [9.99301765e-01, 6.98234526e-04],\n",
       "       [1.00000000e+00, 5.16654757e-13],\n",
       "       [9.88033744e-01, 1.19662560e-02],\n",
       "       [5.17261782e-02, 9.48273822e-01],\n",
       "       [1.00000000e+00, 1.21256470e-18],\n",
       "       [9.99999997e-01, 2.90923812e-09],\n",
       "       [9.99999895e-01, 1.04587530e-07],\n",
       "       [9.99999419e-01, 5.80796889e-07],\n",
       "       [1.00000000e+00, 1.02214153e-12],\n",
       "       [7.50479072e-04, 9.99249521e-01],\n",
       "       [1.00000000e+00, 3.04237363e-22],\n",
       "       [9.99129153e-01, 8.70847048e-04],\n",
       "       [0.00000000e+00, 1.00000000e+00],\n",
       "       [3.40876216e-10, 1.00000000e+00],\n",
       "       [0.00000000e+00, 1.00000000e+00],\n",
       "       [3.47940191e-06, 9.99996521e-01],\n",
       "       [7.52309326e-11, 1.00000000e+00],\n",
       "       [9.99217530e-01, 7.82470207e-04],\n",
       "       [9.99770302e-01, 2.29697940e-04],\n",
       "       [2.48091807e-08, 9.99999975e-01],\n",
       "       [9.99999963e-01, 3.66670368e-08],\n",
       "       [1.00000000e+00, 3.96940458e-16],\n",
       "       [2.05165222e-04, 9.99794835e-01],\n",
       "       [1.00000000e+00, 4.37946490e-16],\n",
       "       [3.29492673e-02, 9.67050733e-01],\n",
       "       [1.88372459e-08, 9.99999981e-01]])"
      ]
     },
     "execution_count": 177,
     "metadata": {},
     "output_type": "execute_result"
    }
   ],
   "source": [
    "lr_proba"
   ]
  },
  {
   "cell_type": "code",
   "execution_count": 178,
   "metadata": {},
   "outputs": [
    {
     "data": {
      "text/plain": [
       "array([0, 0, 0, 1, 1, 1, 0, 0, 1, 0, 1, 1, 0, 1, 0, 1, 1, 0, 1, 1, 1, 0,\n",
       "       0, 1, 1, 1, 0, 0, 1, 0, 0, 1, 0, 0, 1, 1])"
      ]
     },
     "execution_count": 178,
     "metadata": {},
     "output_type": "execute_result"
    }
   ],
   "source": [
    "y_pred=lr.predict(X_test)\n",
    "y_pred"
   ]
  },
  {
   "cell_type": "code",
   "execution_count": 179,
   "metadata": {},
   "outputs": [
    {
     "name": "stdout",
     "output_type": "stream",
     "text": [
      "[0 0 0 1 1 1 0 0 1 0 1 1 0 1 1 1 1 0 1 1 1 0 0 1 1 1 0 0 1 0 0 1 0 0 1 1]\n"
     ]
    }
   ],
   "source": [
    "print(y_test.values)"
   ]
  },
  {
   "cell_type": "code",
   "execution_count": 180,
   "metadata": {},
   "outputs": [
    {
     "name": "stdout",
     "output_type": "stream",
     "text": [
      "\n",
      "accuracy score:97.222222\n",
      "recall score:95.000000\n",
      "[[16  0]\n",
      " [ 1 19]]\n",
      "              precision    recall  f1-score   support\n",
      "\n",
      "           0       0.94      1.00      0.97        16\n",
      "           1       1.00      0.95      0.97        20\n",
      "\n",
      "    accuracy                           0.97        36\n",
      "   macro avg       0.97      0.97      0.97        36\n",
      "weighted avg       0.97      0.97      0.97        36\n",
      "\n"
     ]
    },
    {
     "data": {
      "image/png": "[encoded data removed]",
      "text/plain": [
       "<Figure size 432x288 with 2 Axes>"
      ]
     },
     "metadata": {
      "needs_background": "light"
     },
     "output_type": "display_data"
    }
   ],
   "source": [
    "## Accuracy and Efficiency of our Model\n",
    "from sklearn.metrics import accuracy_score,recall_score,roc_auc_score,confusion_matrix\n",
    "print(\"\\naccuracy score:%f\"%(accuracy_score(y_test,y_pred)*100))\n",
    "print(\"recall score:%f\"%(recall_score(y_test,y_pred)*100))\n",
    "print(confusion_matrix(y_test,y_pred))\n",
    "sns.heatmap(cm, annot=True)\n",
    "from sklearn.metrics import classification_report\n",
    "print(classification_report(y_test, y_pred))"
   ]
  },
  {
   "cell_type": "code",
   "execution_count": 181,
   "metadata": {},
   "outputs": [],
   "source": [
    "y_pred_proba= lr.predict_proba(X_test) [::,1]"
   ]
  },
  {
   "cell_type": "code",
   "execution_count": 182,
   "metadata": {},
   "outputs": [],
   "source": [
    "false_positive_rate, true_positive_rate, _ = metrics.roc_curve(y_test, y_pred_proba)"
   ]
  },
  {
   "cell_type": "code",
   "execution_count": 183,
   "metadata": {},
   "outputs": [],
   "source": [
    "auc= metrics.roc_auc_score(y_test, y_pred_proba)"
   ]
  },
  {
   "cell_type": "code",
   "execution_count": 184,
   "metadata": {},
   "outputs": [
    {
     "data": {
      "text/plain": [
       "<matplotlib.legend.Legend at 0x18350acad60>"
      ]
     },
     "execution_count": 184,
     "metadata": {},
     "output_type": "execute_result"
    },
    {
     "data": {
      "image/png": "[encoded data removed]",
      "text/plain": [
       "<Figure size 432x288 with 1 Axes>"
      ]
     },
     "metadata": {
      "needs_background": "light"
     },
     "output_type": "display_data"
    }
   ],
   "source": [
    "plt.plot(false_positive_rate, true_positive_rate,label=\"AUC=\"+str(auc))\n",
    "plt.title('ROC Curve')\n",
    "plt.ylabel('True Positive Rate')\n",
    "plt.xlabel('false Positive Rate')\n",
    "plt.legend(loc=4)"
   ]
  },
  {
   "cell_type": "code",
   "execution_count": 185,
   "metadata": {},
   "outputs": [],
   "source": [
    "from sklearn.svm import SVC\n",
    "svc=SVC(kernel='rbf',probability=True)\n",
    "svc_classifier=svc.fit(X_train,y_train)\n",
    "svc_acc=cross_val_score(svc_classifier,X_train_std,y_train,cv=3,scoring=\"accuracy\",n_jobs=-1)\n",
    "svc_proba=cross_val_predict(svc_classifier,X_train_std,y_train,cv=3,method='predict_proba')"
   ]
  },
  {
   "cell_type": "code",
   "execution_count": 186,
   "metadata": {},
   "outputs": [
    {
     "data": {
      "text/plain": [
       "array([0.57142857, 0.7037037 , 0.55555556])"
      ]
     },
     "execution_count": 186,
     "metadata": {},
     "output_type": "execute_result"
    }
   ],
   "source": [
    "svc_acc"
   ]
  },
  {
   "cell_type": "code",
   "execution_count": 187,
   "metadata": {},
   "outputs": [
    {
     "data": {
      "text/plain": [
       "array([[0.50549765, 0.49450235],\n",
       "       [0.53828418, 0.46171582],\n",
       "       [0.51247408, 0.48752592],\n",
       "       [0.50888628, 0.49111372],\n",
       "       [0.5       , 0.5       ],\n",
       "       [0.50934402, 0.49065598],\n",
       "       [0.52695555, 0.47304445],\n",
       "       [0.52829013, 0.47170987],\n",
       "       [0.54452124, 0.45547876],\n",
       "       [0.52778505, 0.47221495],\n",
       "       [0.50861572, 0.49138428],\n",
       "       [0.53086911, 0.46913089],\n",
       "       [0.48771884, 0.51228116],\n",
       "       [0.51405312, 0.48594688],\n",
       "       [0.51878197, 0.48121803],\n",
       "       [0.52362076, 0.47637924],\n",
       "       [0.53468936, 0.46531064],\n",
       "       [0.52443743, 0.47556257],\n",
       "       [0.54217991, 0.45782009],\n",
       "       [0.50975838, 0.49024162],\n",
       "       [0.5196755 , 0.4803245 ],\n",
       "       [0.51342695, 0.48657305],\n",
       "       [0.51512052, 0.48487948],\n",
       "       [0.50983391, 0.49016609],\n",
       "       [0.51170316, 0.48829684],\n",
       "       [0.49015714, 0.50984286],\n",
       "       [0.51923633, 0.48076367],\n",
       "       [0.51736997, 0.48263003],\n",
       "       [0.55269325, 0.44730675],\n",
       "       [0.47631573, 0.52368427],\n",
       "       [0.51679935, 0.48320065],\n",
       "       [0.54007367, 0.45992633],\n",
       "       [0.50841036, 0.49158964],\n",
       "       [0.54376314, 0.45623686],\n",
       "       [0.51551793, 0.48448207],\n",
       "       [0.53116412, 0.46883588],\n",
       "       [0.51986799, 0.48013201],\n",
       "       [0.51879242, 0.48120758],\n",
       "       [0.50928837, 0.49071163],\n",
       "       [0.48286976, 0.51713024],\n",
       "       [0.4875877 , 0.5124123 ],\n",
       "       [0.46577426, 0.53422574],\n",
       "       [0.5       , 0.5       ],\n",
       "       [0.45554524, 0.54445476],\n",
       "       [0.51990332, 0.48009668],\n",
       "       [0.4798687 , 0.5201313 ],\n",
       "       [0.47174143, 0.52825857],\n",
       "       [0.5856814 , 0.4143186 ],\n",
       "       [0.53432869, 0.46567131],\n",
       "       [0.52164201, 0.47835799],\n",
       "       [0.44810069, 0.55189931],\n",
       "       [0.45787869, 0.54212131],\n",
       "       [0.51868724, 0.48131276],\n",
       "       [0.47263696, 0.52736304],\n",
       "       [0.5085107 , 0.4914893 ],\n",
       "       [0.5       , 0.5       ],\n",
       "       [0.51930228, 0.48069772],\n",
       "       [0.5       , 0.5       ],\n",
       "       [0.48080338, 0.51919662],\n",
       "       [0.5       , 0.5       ],\n",
       "       [0.5       , 0.5       ],\n",
       "       [0.58273343, 0.41726657],\n",
       "       [0.54290745, 0.45709255],\n",
       "       [0.54970711, 0.45029289],\n",
       "       [0.49201776, 0.50798224],\n",
       "       [0.59058838, 0.40941162],\n",
       "       [0.52686265, 0.47313735],\n",
       "       [0.51299939, 0.48700061],\n",
       "       [0.51930888, 0.48069112],\n",
       "       [0.52215202, 0.47784798],\n",
       "       [0.50770351, 0.49229649],\n",
       "       [0.55333321, 0.44666679],\n",
       "       [0.43924337, 0.56075663],\n",
       "       [0.57434438, 0.42565562],\n",
       "       [0.56191896, 0.43808104],\n",
       "       [0.58958598, 0.41041402],\n",
       "       [0.5591771 , 0.4408229 ],\n",
       "       [0.5       , 0.5       ],\n",
       "       [0.5       , 0.5       ],\n",
       "       [0.44483961, 0.55516039],\n",
       "       [0.51863189, 0.48136811],\n",
       "       [0.51551289, 0.48448711]])"
      ]
     },
     "execution_count": 187,
     "metadata": {},
     "output_type": "execute_result"
    }
   ],
   "source": [
    "svc_proba"
   ]
  },
  {
   "cell_type": "code",
   "execution_count": 188,
   "metadata": {},
   "outputs": [
    {
     "data": {
      "text/plain": [
       "array([0.49450235, 0.46171582, 0.48752592, 0.49111372, 0.5       ,\n",
       "       0.49065598, 0.47304445, 0.47170987, 0.45547876, 0.47221495,\n",
       "       0.49138428, 0.46913089, 0.51228116, 0.48594688, 0.48121803,\n",
       "       0.47637924, 0.46531064, 0.47556257, 0.45782009, 0.49024162,\n",
       "       0.4803245 , 0.48657305, 0.48487948, 0.49016609, 0.48829684,\n",
       "       0.50984286, 0.48076367, 0.48263003, 0.44730675, 0.52368427,\n",
       "       0.48320065, 0.45992633, 0.49158964, 0.45623686, 0.48448207,\n",
       "       0.46883588, 0.48013201, 0.48120758, 0.49071163, 0.51713024,\n",
       "       0.5124123 , 0.53422574, 0.5       , 0.54445476, 0.48009668,\n",
       "       0.5201313 , 0.52825857, 0.4143186 , 0.46567131, 0.47835799,\n",
       "       0.55189931, 0.54212131, 0.48131276, 0.52736304, 0.4914893 ,\n",
       "       0.5       , 0.48069772, 0.5       , 0.51919662, 0.5       ,\n",
       "       0.5       , 0.41726657, 0.45709255, 0.45029289, 0.50798224,\n",
       "       0.40941162, 0.47313735, 0.48700061, 0.48069112, 0.47784798,\n",
       "       0.49229649, 0.44666679, 0.56075663, 0.42565562, 0.43808104,\n",
       "       0.41041402, 0.4408229 , 0.5       , 0.5       , 0.55516039,\n",
       "       0.48136811, 0.48448711])"
      ]
     },
     "execution_count": 188,
     "metadata": {},
     "output_type": "execute_result"
    }
   ],
   "source": [
    "svc_scores=svc_proba[:,1]\n",
    "svc_scores"
   ]
  },
  {
   "cell_type": "code",
   "execution_count": 189,
   "metadata": {},
   "outputs": [
    {
     "name": "stdout",
     "output_type": "stream",
     "text": [
      "Actual Flood Values:\n",
      "[0 0 0 1 1 1 0 0 1 0 1 1 0 1 1 1 1 0 1 1 1 0 0 1 1 1 0 0 1 0 0 1 0 0 1 1]\n"
     ]
    }
   ],
   "source": [
    "y_pred=svc_classifier.predict(X_test)\n",
    "print(\"Actual Flood Values:\")\n",
    "print(y_test.values)"
   ]
  },
  {
   "cell_type": "code",
   "execution_count": 190,
   "metadata": {},
   "outputs": [
    {
     "name": "stdout",
     "output_type": "stream",
     "text": [
      "Predicted Flood Values:\n",
      "[0 0 0 1 1 1 0 0 1 0 1 1 0 1 1 1 0 0 1 1 0 0 0 0 1 1 0 0 1 0 0 1 0 0 1 1]\n"
     ]
    }
   ],
   "source": [
    "print(\"Predicted Flood Values:\")\n",
    "print(y_pred)"
   ]
  },
  {
   "cell_type": "code",
   "execution_count": 192,
   "metadata": {},
   "outputs": [
    {
     "name": "stdout",
     "output_type": "stream",
     "text": [
      "\n",
      "accuracy score:91.666667\n",
      "recall score:85.000000\n",
      "[[16  0]\n",
      " [ 3 17]]\n",
      "              precision    recall  f1-score   support\n",
      "\n",
      "           0       0.84      1.00      0.91        16\n",
      "           1       1.00      0.85      0.92        20\n",
      "\n",
      "    accuracy                           0.92        36\n",
      "   macro avg       0.92      0.93      0.92        36\n",
      "weighted avg       0.93      0.92      0.92        36\n",
      "\n"
     ]
    },
    {
     "data": {
      "image/png": "[encoded data removed]",
      "text/plain": [
       "<Figure size 432x288 with 2 Axes>"
      ]
     },
     "metadata": {
      "needs_background": "light"
     },
     "output_type": "display_data"
    }
   ],
   "source": [
    "## Accuracy and Efficiency of our Model\n",
    "from sklearn.metrics import accuracy_score,recall_score,roc_auc_score,confusion_matrix\n",
    "print(\"\\naccuracy score:%f\"%(accuracy_score(y_test,y_pred)*100))\n",
    "print(\"recall score:%f\"%(recall_score(y_test,y_pred)*100))\n",
    "print(confusion_matrix(y_test,y_pred))\n",
    "sns.heatmap(cm, annot=True)\n",
    "from sklearn.metrics import classification_report\n",
    "print(classification_report(y_test, y_pred))"
   ]
  },
  {
   "cell_type": "code",
   "execution_count": 203,
   "metadata": {},
   "outputs": [],
   "source": [
    "y_pred_proba= svc.predict_proba(X_test) [::,1]"
   ]
  },
  {
   "cell_type": "code",
   "execution_count": 204,
   "metadata": {},
   "outputs": [],
   "source": [
    "false_positive_rate, true_positive_rate, _ = metrics.roc_curve(y_test, y_pred_proba)"
   ]
  },
  {
   "cell_type": "code",
   "execution_count": 205,
   "metadata": {},
   "outputs": [],
   "source": [
    "auc= metrics.roc_auc_score(y_test, y_pred_proba)"
   ]
  },
  {
   "cell_type": "code",
   "execution_count": 206,
   "metadata": {},
   "outputs": [
    {
     "data": {
      "text/plain": [
       "<matplotlib.legend.Legend at 0x18350ae2c10>"
      ]
     },
     "execution_count": 206,
     "metadata": {},
     "output_type": "execute_result"
    },
    {
     "data": {
      "image/png": "[encoded data removed]",
      "text/plain": [
       "<Figure size 432x288 with 1 Axes>"
      ]
     },
     "metadata": {
      "needs_background": "light"
     },
     "output_type": "display_data"
    }
   ],
   "source": [
    "plt.plot(false_positive_rate, true_positive_rate,label=\"AUC=\"+str(auc))\n",
    "plt.title('ROC Curve')\n",
    "plt.ylabel('True Positive Rate')\n",
    "plt.xlabel('false Positive Rate')\n",
    "plt.legend(loc=4)"
   ]
  },
  {
   "cell_type": "code",
   "execution_count": 194,
   "metadata": {},
   "outputs": [
    {
     "data": {
      "text/plain": [
       "RandomForestClassifier(max_depth=3, random_state=0)"
      ]
     },
     "execution_count": 194,
     "metadata": {},
     "output_type": "execute_result"
    }
   ],
   "source": [
    "from sklearn.ensemble import RandomForestClassifier\n",
    "rmf=RandomForestClassifier(max_depth=3,random_state=0)\n",
    "rmf_clf=rmf.fit(X_train,y_train)\n",
    "rmf_clf"
   ]
  },
  {
   "cell_type": "code",
   "execution_count": 195,
   "metadata": {},
   "outputs": [],
   "source": [
    "rmf_clf_acc=cross_val_score(rmf_clf,X_train_std,y_train,cv=3,scoring=\"accuracy\",n_jobs=-1)\n",
    "rmf_proba=cross_val_predict(rmf_clf,X_train_std,y_train,cv=3,method='predict_proba')"
   ]
  },
  {
   "cell_type": "code",
   "execution_count": 196,
   "metadata": {},
   "outputs": [
    {
     "data": {
      "text/plain": [
       "array([0.39285714, 0.44444444, 0.59259259])"
      ]
     },
     "execution_count": 196,
     "metadata": {},
     "output_type": "execute_result"
    }
   ],
   "source": [
    "rmf_clf_acc"
   ]
  },
  {
   "cell_type": "code",
   "execution_count": 197,
   "metadata": {},
   "outputs": [
    {
     "data": {
      "text/plain": [
       "array([[0.70201601, 0.29798399],\n",
       "       [0.50147042, 0.49852958],\n",
       "       [0.47026473, 0.52973527],\n",
       "       [0.70986217, 0.29013783],\n",
       "       [0.67958583, 0.32041417],\n",
       "       [0.64754567, 0.35245433],\n",
       "       [0.39118819, 0.60881181],\n",
       "       [0.47518938, 0.52481062],\n",
       "       [0.27641702, 0.72358298],\n",
       "       [0.36094966, 0.63905034],\n",
       "       [0.47739129, 0.52260871],\n",
       "       [0.45210433, 0.54789567],\n",
       "       [0.74963439, 0.25036561],\n",
       "       [0.70245301, 0.29754699],\n",
       "       [0.47157826, 0.52842174],\n",
       "       [0.46247139, 0.53752861],\n",
       "       [0.25079242, 0.74920758],\n",
       "       [0.50884368, 0.49115632],\n",
       "       [0.54926502, 0.45073498],\n",
       "       [0.47662286, 0.52337714],\n",
       "       [0.51706431, 0.48293569],\n",
       "       [0.50699365, 0.49300635],\n",
       "       [0.45882158, 0.54117842],\n",
       "       [0.43743012, 0.56256988],\n",
       "       [0.53106039, 0.46893961],\n",
       "       [0.74489567, 0.25510433],\n",
       "       [0.54240024, 0.45759976],\n",
       "       [0.64134262, 0.35865738],\n",
       "       [0.67037785, 0.32962215],\n",
       "       [0.501109  , 0.498891  ],\n",
       "       [0.65040385, 0.34959615],\n",
       "       [0.65211629, 0.34788371],\n",
       "       [0.52117418, 0.47882582],\n",
       "       [0.6715728 , 0.3284272 ],\n",
       "       [0.45054233, 0.54945767],\n",
       "       [0.54422798, 0.45577202],\n",
       "       [0.57492551, 0.42507449],\n",
       "       [0.53590083, 0.46409917],\n",
       "       [0.52238019, 0.47761981],\n",
       "       [0.40979378, 0.59020622],\n",
       "       [0.53526978, 0.46473022],\n",
       "       [0.48033999, 0.51966001],\n",
       "       [0.47795579, 0.52204421],\n",
       "       [0.42527001, 0.57472999],\n",
       "       [0.52694423, 0.47305577],\n",
       "       [0.52757649, 0.47242351],\n",
       "       [0.32115922, 0.67884078],\n",
       "       [0.63249937, 0.36750063],\n",
       "       [0.51056911, 0.48943089],\n",
       "       [0.51231363, 0.48768637],\n",
       "       [0.47225635, 0.52774365],\n",
       "       [0.29061107, 0.70938893],\n",
       "       [0.49650206, 0.50349794],\n",
       "       [0.43126222, 0.56873778],\n",
       "       [0.48165366, 0.51834634],\n",
       "       [0.51775908, 0.48224092],\n",
       "       [0.49310675, 0.50689325],\n",
       "       [0.60392978, 0.39607022],\n",
       "       [0.47786778, 0.52213222],\n",
       "       [0.39966388, 0.60033612],\n",
       "       [0.53321546, 0.46678454],\n",
       "       [0.66002123, 0.33997877],\n",
       "       [0.44935959, 0.55064041],\n",
       "       [0.56369751, 0.43630249],\n",
       "       [0.45346984, 0.54653016],\n",
       "       [0.64480506, 0.35519494],\n",
       "       [0.52231328, 0.47768672],\n",
       "       [0.51136459, 0.48863541],\n",
       "       [0.52684981, 0.47315019],\n",
       "       [0.62816353, 0.37183647],\n",
       "       [0.63348301, 0.36651699],\n",
       "       [0.56657257, 0.43342743],\n",
       "       [0.28388471, 0.71611529],\n",
       "       [0.45193895, 0.54806105],\n",
       "       [0.66164726, 0.33835274],\n",
       "       [0.80855522, 0.19144478],\n",
       "       [0.51128912, 0.48871088],\n",
       "       [0.53437691, 0.46562309],\n",
       "       [0.45798808, 0.54201192],\n",
       "       [0.49800094, 0.50199906],\n",
       "       [0.54888321, 0.45111679],\n",
       "       [0.54791666, 0.45208334]])"
      ]
     },
     "execution_count": 197,
     "metadata": {},
     "output_type": "execute_result"
    }
   ],
   "source": [
    "rmf_proba"
   ]
  },
  {
   "cell_type": "code",
   "execution_count": 198,
   "metadata": {},
   "outputs": [
    {
     "name": "stdout",
     "output_type": "stream",
     "text": [
      "\n",
      "accuracy score:91.666667\n",
      "recall score:85.000000\n",
      "[[16  0]\n",
      " [ 3 17]]\n"
     ]
    }
   ],
   "source": [
    "from sklearn.metrics import accuracy_score,recall_score,roc_auc_score,confusion_matrix\n",
    "print(\"\\naccuracy score:%f\"%(accuracy_score(y_test,y_pred)*100))\n",
    "print(\"recall score:%f\"%(recall_score(y_test,y_pred)*100))\n",
    "print(confusion_matrix(y_test,y_pred))"
   ]
  },
  {
   "cell_type": "code",
   "execution_count": 207,
   "metadata": {},
   "outputs": [],
   "source": [
    "y_pred_proba= rmf .predict_proba(X_test) [::,1]"
   ]
  },
  {
   "cell_type": "code",
   "execution_count": 208,
   "metadata": {},
   "outputs": [],
   "source": [
    "false_positive_rate, true_positive_rate, _ = metrics.roc_curve(y_test, y_pred_proba)"
   ]
  },
  {
   "cell_type": "code",
   "execution_count": 209,
   "metadata": {},
   "outputs": [],
   "source": [
    "auc= metrics.roc_auc_score(y_test, y_pred_proba)"
   ]
  },
  {
   "cell_type": "code",
   "execution_count": 210,
   "metadata": {},
   "outputs": [
    {
     "data": {
      "text/plain": [
       "<matplotlib.legend.Legend at 0x183509dac10>"
      ]
     },
     "execution_count": 210,
     "metadata": {},
     "output_type": "execute_result"
    },
    {
     "data": {
      "image/png": "[encoded data removed]",
      "text/plain": [
       "<Figure size 432x288 with 1 Axes>"
      ]
     },
     "metadata": {
      "needs_background": "light"
     },
     "output_type": "display_data"
    }
   ],
   "source": [
    "plt.plot(false_positive_rate, true_positive_rate,label=\"AUC=\"+str(auc))\n",
    "plt.title('ROC Curve')\n",
    "plt.ylabel('True Positive Rate')\n",
    "plt.xlabel('false Positive Rate')\n",
    "plt.legend(loc=4)"
   ]
  },
  {
   "cell_type": "code",
   "execution_count": 218,
   "metadata": {},
   "outputs": [
    {
     "name": "stderr",
     "output_type": "stream",
     "text": [
      "C:\\Users\\selor\\anaconda3\\lib\\site-packages\\sklearn\\linear_model\\_logistic.py:814: ConvergenceWarning: lbfgs failed to converge (status=1):\n",
      "STOP: TOTAL NO. of ITERATIONS REACHED LIMIT.\n",
      "\n",
      "Increase the number of iterations (max_iter) or scale the data as shown in:\n",
      "    https://scikit-learn.org/stable/modules/preprocessing.html\n",
      "Please also refer to the documentation for alternative solver options:\n",
      "    https://scikit-learn.org/stable/modules/linear_model.html#logistic-regression\n",
      "  n_iter_i = _check_optimize_result(\n"
     ]
    },
    {
     "data": {
      "text/html": [
       "<div>\n",
       "<style scoped>\n",
       "    .dataframe tbody tr th:only-of-type {\n",
       "        vertical-align: middle;\n",
       "    }\n",
       "\n",
       "    .dataframe tbody tr th {\n",
       "        vertical-align: top;\n",
       "    }\n",
       "\n",
       "    .dataframe thead th {\n",
       "        text-align: right;\n",
       "    }\n",
       "</style>\n",
       "<table border=\"1\" class=\"dataframe\">\n",
       "  <thead>\n",
       "    <tr style=\"text-align: right;\">\n",
       "      <th></th>\n",
       "      <th>Name</th>\n",
       "      <th>Score</th>\n",
       "    </tr>\n",
       "  </thead>\n",
       "  <tbody>\n",
       "    <tr>\n",
       "      <th>0</th>\n",
       "      <td>KNN</td>\n",
       "      <td>0.916667</td>\n",
       "    </tr>\n",
       "    <tr>\n",
       "      <th>1</th>\n",
       "      <td>LR</td>\n",
       "      <td>0.972222</td>\n",
       "    </tr>\n",
       "    <tr>\n",
       "      <th>2</th>\n",
       "      <td>SVC</td>\n",
       "      <td>0.916667</td>\n",
       "    </tr>\n",
       "    <tr>\n",
       "      <th>3</th>\n",
       "      <td>DT</td>\n",
       "      <td>0.722222</td>\n",
       "    </tr>\n",
       "    <tr>\n",
       "      <th>4</th>\n",
       "      <td>RF</td>\n",
       "      <td>0.833333</td>\n",
       "    </tr>\n",
       "  </tbody>\n",
       "</table>\n",
       "</div>"
      ],
      "text/plain": [
       "  Name     Score\n",
       "0  KNN  0.916667\n",
       "1   LR  0.972222\n",
       "2  SVC  0.916667\n",
       "3   DT  0.722222\n",
       "4   RF  0.833333"
      ]
     },
     "execution_count": 218,
     "metadata": {},
     "output_type": "execute_result"
    }
   ],
   "source": [
    "models = []\n",
    "from sklearn.neighbors import KNeighborsClassifier\n",
    "from sklearn.svm import SVC\n",
    "from sklearn.linear_model import LogisticRegression\n",
    "from sklearn.tree import DecisionTreeClassifier\n",
    "from sklearn.naive_bayes import GaussianNB\n",
    "from sklearn.ensemble import RandomForestClassifier\n",
    "from sklearn.ensemble import GradientBoostingClassifier\n",
    "models.append(('KNN', KNeighborsClassifier()))\n",
    "models.append(('LR', LogisticRegression()))\n",
    "models.append(('SVC', SVC()))\n",
    "models.append(('DT', DecisionTreeClassifier()))\n",
    "models.append(('RF', RandomForestClassifier()))\n",
    "\n",
    "names = []\n",
    "scores = []\n",
    "for name, model in models:\n",
    "    model.fit(X_train, y_train)\n",
    "    y_pred = model.predict(X_test)\n",
    "    scores.append(accuracy_score(y_test, y_pred))\n",
    "    names.append(name)\n",
    "tr_split = pd.DataFrame({'Name': names, 'Score': scores})\n",
    "tr_split"
   ]
  },
  {
   "cell_type": "code",
   "execution_count": null,
   "metadata": {},
   "outputs": [],
   "source": []
  },
  {
   "cell_type": "code",
   "execution_count": 219,
   "metadata": {
    "scrolled": true
   },
   "outputs": [
    {
     "data": {
      "image/png": "[encoded data removed]",
      "text/plain": [
       "<Figure size 432x288 with 1 Axes>"
      ]
     },
     "metadata": {
      "needs_background": "light"
     },
     "output_type": "display_data"
    }
   ],
   "source": [
    "import seaborn as sns\n",
    "axis = sns.barplot(x = 'Name', y = 'Score', data =tr_split )\n",
    "axis.set(xlabel='Classifier Models', ylabel='Accuracy of the Model')\n",
    "for p in axis.patches:\n",
    "    height = p.get_height()\n",
    "    axis.text(p.get_x() + p.get_width()/2, height + 0.01, '{:1.4f}'.format(height), ha=\"center\") \n",
    "    \n",
    "plt.show()"
   ]
  },
  {
   "cell_type": "code",
   "execution_count": 220,
   "metadata": {},
   "outputs": [
    {
     "data": {
      "text/plain": [
       "0.9722222222222222"
      ]
     },
     "execution_count": 220,
     "metadata": {},
     "output_type": "execute_result"
    }
   ],
   "source": [
    "tr_split['Score'].max() "
   ]
  },
  {
   "cell_type": "code",
   "execution_count": 221,
   "metadata": {},
   "outputs": [
    {
     "name": "stderr",
     "output_type": "stream",
     "text": [
      "C:\\Users\\selor\\anaconda3\\lib\\site-packages\\sklearn\\linear_model\\_logistic.py:814: ConvergenceWarning: lbfgs failed to converge (status=1):\n",
      "STOP: TOTAL NO. of ITERATIONS REACHED LIMIT.\n",
      "\n",
      "Increase the number of iterations (max_iter) or scale the data as shown in:\n",
      "    https://scikit-learn.org/stable/modules/preprocessing.html\n",
      "Please also refer to the documentation for alternative solver options:\n",
      "    https://scikit-learn.org/stable/modules/linear_model.html#logistic-regression\n",
      "  n_iter_i = _check_optimize_result(\n"
     ]
    },
    {
     "data": {
      "text/html": [
       "<div>\n",
       "<style scoped>\n",
       "    .dataframe tbody tr th:only-of-type {\n",
       "        vertical-align: middle;\n",
       "    }\n",
       "\n",
       "    .dataframe tbody tr th {\n",
       "        vertical-align: top;\n",
       "    }\n",
       "\n",
       "    .dataframe thead th {\n",
       "        text-align: right;\n",
       "    }\n",
       "</style>\n",
       "<table border=\"1\" class=\"dataframe\">\n",
       "  <thead>\n",
       "    <tr style=\"text-align: right;\">\n",
       "      <th></th>\n",
       "      <th>Name</th>\n",
       "      <th>Score</th>\n",
       "    </tr>\n",
       "  </thead>\n",
       "  <tbody>\n",
       "    <tr>\n",
       "      <th>0</th>\n",
       "      <td>KNN</td>\n",
       "      <td>0.9250</td>\n",
       "    </tr>\n",
       "    <tr>\n",
       "      <th>1</th>\n",
       "      <td>LR</td>\n",
       "      <td>0.9750</td>\n",
       "    </tr>\n",
       "    <tr>\n",
       "      <th>2</th>\n",
       "      <td>SVC</td>\n",
       "      <td>0.9250</td>\n",
       "    </tr>\n",
       "    <tr>\n",
       "      <th>3</th>\n",
       "      <td>DT</td>\n",
       "      <td>0.7500</td>\n",
       "    </tr>\n",
       "    <tr>\n",
       "      <th>4</th>\n",
       "      <td>RF</td>\n",
       "      <td>0.8875</td>\n",
       "    </tr>\n",
       "  </tbody>\n",
       "</table>\n",
       "</div>"
      ],
      "text/plain": [
       "  Name   Score\n",
       "0  KNN  0.9250\n",
       "1   LR  0.9750\n",
       "2  SVC  0.9250\n",
       "3   DT  0.7500\n",
       "4   RF  0.8875"
      ]
     },
     "execution_count": 221,
     "metadata": {},
     "output_type": "execute_result"
    }
   ],
   "source": [
    "names = []\n",
    "scores = []\n",
    "for name, model in models:\n",
    "    model.fit(X_train, y_train)\n",
    "    y_pred = model.predict(X_test)\n",
    "    scores.append(roc_auc_score(y_test, y_pred))\n",
    "    names.append(name)\n",
    "tr_split = pd.DataFrame({'Name': names, 'Score': scores})\n",
    "tr_split"
   ]
  },
  {
   "cell_type": "code",
   "execution_count": 222,
   "metadata": {},
   "outputs": [
    {
     "data": {
      "image/png": "[encoded data removed]",
      "text/plain": [
       "<Figure size 432x288 with 1 Axes>"
      ]
     },
     "metadata": {
      "needs_background": "light"
     },
     "output_type": "display_data"
    }
   ],
   "source": [
    "import seaborn as sns\n",
    "axis = sns.barplot(x = 'Name', y = 'Score', data =tr_split )\n",
    "axis.set(xlabel='Classifier Models', ylabel='Accuracy of the Model')\n",
    "for p in axis.patches:\n",
    "    height = p.get_height()\n",
    "    axis.text(p.get_x() + p.get_width()/2, height + 0.01, '{:1.4f}'.format(height), ha=\"center\") \n",
    "    \n",
    "plt.show()"
   ]
  },
  {
   "cell_type": "code",
   "execution_count": 223,
   "metadata": {},
   "outputs": [
    {
     "data": {
      "text/plain": [
       "0.975"
      ]
     },
     "execution_count": 223,
     "metadata": {},
     "output_type": "execute_result"
    }
   ],
   "source": [
    "tr_split['Score'].max() "
   ]
  },
  {
   "cell_type": "markdown",
   "metadata": {},
   "source": [
    "## Logistic Regression is the best model for Prediction both on accuracy and roc_auc\n"
   ]
  }
 ],
 "metadata": {
  "kernelspec": {
   "display_name": "Python 3",
   "language": "python",
   "name": "python3"
  },
  "language_info": {
   "codemirror_mode": {
    "name": "ipython",
    "version": 3
   },
   "file_extension": ".py",
   "mimetype": "text/x-python",
   "name": "python",
   "nbconvert_exporter": "python",
   "pygments_lexer": "ipython3",
   "version": "3.8.5"
  }
 },
 "nbformat": 4,
 "nbformat_minor": 4
}
